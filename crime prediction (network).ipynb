{
  "nbformat": 4,
  "nbformat_minor": 0,
  "metadata": {
    "colab": {
      "provenance": [],
      "authorship_tag": "ABX9TyNrMkdWKPoU7immnaFFiIic",
      "include_colab_link": true
    },
    "kernelspec": {
      "name": "python3",
      "display_name": "Python 3"
    },
    "language_info": {
      "name": "python"
    },
    "gpuClass": "standard"
  },
  "cells": [
    {
      "cell_type": "markdown",
      "metadata": {
        "id": "view-in-github",
        "colab_type": "text"
      },
      "source": [
        "<a href=\"https://colab.research.google.com/github/rojroji/crime-prediction/blob/master/crime%20prediction%20(network).ipynb\" target=\"_parent\"><img src=\"https://colab.research.google.com/assets/colab-badge.svg\" alt=\"Open In Colab\"/></a>"
      ]
    },
    {
      "cell_type": "code",
      "execution_count": null,
      "metadata": {
        "id": "oSQ_fPsFRKKa"
      },
      "outputs": [],
      "source": [
        "import numpy as np # linear algebra\n",
        "import pandas as pd # data processing\n",
        "import seaborn as sns\n",
        "import matplotlib.pyplot as plt\n",
        "import tensorflow as tf\n",
        "from sklearn.model_selection import train_test_split\n",
        "from sklearn import preprocessing as prepro\n",
        "from keras.layers import Dense, Dropout, BatchNormalization\n",
        "from keras.utils import to_categorical\n",
        "from keras.models import Sequential\n",
        "from keras.optimizers import Adam\n",
        "from collections import Counter\n",
        "import os, sys\n",
        "from copy import deepcopy\n",
        "import numpy as np\n",
        "import pandas as pd\n",
        "\n",
        "import torch as th\n",
        "import torch.nn as nn\n",
        "from torch import optim\n",
        "import torch.nn.functional as F\n",
        "\n",
        "import matplotlib.pyplot as plt\n",
        "%matplotlib inline\n",
        "\n",
        "import networkx as nx\n",
        "import pandas as pd\n",
        "import numpy as np\n",
        "\n",
        "import matplotlib.pyplot as plt\n",
        "\n",
        "import sys\n",
        "import warnings\n",
        "\n",
        "warnings.filterwarnings(\"ignore\")\n"
      ]
    },
    {
      "cell_type": "code",
      "source": [
        "!python --version"
      ],
      "metadata": {
        "colab": {
          "base_uri": "https://localhost:8080/"
        },
        "id": "zjlp3YHgSzXw",
        "outputId": "40948c77-f4f1-45b9-da8c-3cf31155659f"
      },
      "execution_count": null,
      "outputs": [
        {
          "output_type": "stream",
          "name": "stdout",
          "text": [
            "Python 3.8.10\n"
          ]
        }
      ]
    },
    {
      "cell_type": "code",
      "source": [
        "print(f\"Torch version: {th.__version__}.  CUDA version: {th.version.cuda}\")"
      ],
      "metadata": {
        "colab": {
          "base_uri": "https://localhost:8080/"
        },
        "id": "aeBKDMxsS7uq",
        "outputId": "b35a97c4-96eb-461c-a281-e1a472910d43"
      },
      "execution_count": null,
      "outputs": [
        {
          "output_type": "stream",
          "name": "stdout",
          "text": [
            "Torch version: 1.13.1+cu116.  CUDA version: 11.6\n"
          ]
        }
      ]
    },
    {
      "cell_type": "code",
      "source": [
        "!pip install dgl==0.9.1"
      ],
      "metadata": {
        "colab": {
          "base_uri": "https://localhost:8080/"
        },
        "id": "kbx4AXKuS-te",
        "outputId": "8194f08a-9b5c-44e5-d3f8-307ff07e0dfd"
      },
      "execution_count": null,
      "outputs": [
        {
          "output_type": "stream",
          "name": "stdout",
          "text": [
            "Looking in indexes: https://pypi.org/simple, https://us-python.pkg.dev/colab-wheels/public/simple/\n",
            "Requirement already satisfied: dgl==0.9.1 in /usr/local/lib/python3.8/dist-packages (0.9.1)\n",
            "Requirement already satisfied: requests>=2.19.0 in /usr/local/lib/python3.8/dist-packages (from dgl==0.9.1) (2.25.1)\n",
            "Requirement already satisfied: numpy>=1.14.0 in /usr/local/lib/python3.8/dist-packages (from dgl==0.9.1) (1.21.6)\n",
            "Requirement already satisfied: tqdm in /usr/local/lib/python3.8/dist-packages (from dgl==0.9.1) (4.64.1)\n",
            "Requirement already satisfied: networkx>=2.1 in /usr/local/lib/python3.8/dist-packages (from dgl==0.9.1) (3.0)\n",
            "Requirement already satisfied: psutil>=5.8.0 in /usr/local/lib/python3.8/dist-packages (from dgl==0.9.1) (5.9.4)\n",
            "Requirement already satisfied: scipy>=1.1.0 in /usr/local/lib/python3.8/dist-packages (from dgl==0.9.1) (1.7.3)\n",
            "Requirement already satisfied: chardet<5,>=3.0.2 in /usr/local/lib/python3.8/dist-packages (from requests>=2.19.0->dgl==0.9.1) (4.0.0)\n",
            "Requirement already satisfied: certifi>=2017.4.17 in /usr/local/lib/python3.8/dist-packages (from requests>=2.19.0->dgl==0.9.1) (2022.12.7)\n",
            "Requirement already satisfied: idna<3,>=2.5 in /usr/local/lib/python3.8/dist-packages (from requests>=2.19.0->dgl==0.9.1) (2.10)\n",
            "Requirement already satisfied: urllib3<1.27,>=1.21.1 in /usr/local/lib/python3.8/dist-packages (from requests>=2.19.0->dgl==0.9.1) (1.24.3)\n"
          ]
        }
      ]
    },
    {
      "cell_type": "code",
      "source": [
        "!pip install dgl-cu110"
      ],
      "metadata": {
        "colab": {
          "base_uri": "https://localhost:8080/"
        },
        "id": "BD-Rq36fTFxZ",
        "outputId": "6dc3f1e3-94cc-4531-c939-e4b1707cbb16"
      },
      "execution_count": null,
      "outputs": [
        {
          "output_type": "stream",
          "name": "stdout",
          "text": [
            "Looking in indexes: https://pypi.org/simple, https://us-python.pkg.dev/colab-wheels/public/simple/\n",
            "Requirement already satisfied: dgl-cu110 in /usr/local/lib/python3.8/dist-packages (0.6.1)\n",
            "Requirement already satisfied: networkx>=2.1 in /usr/local/lib/python3.8/dist-packages (from dgl-cu110) (3.0)\n",
            "Requirement already satisfied: requests>=2.19.0 in /usr/local/lib/python3.8/dist-packages (from dgl-cu110) (2.25.1)\n",
            "Requirement already satisfied: numpy>=1.14.0 in /usr/local/lib/python3.8/dist-packages (from dgl-cu110) (1.21.6)\n",
            "Requirement already satisfied: scipy>=1.1.0 in /usr/local/lib/python3.8/dist-packages (from dgl-cu110) (1.7.3)\n",
            "Requirement already satisfied: chardet<5,>=3.0.2 in /usr/local/lib/python3.8/dist-packages (from requests>=2.19.0->dgl-cu110) (4.0.0)\n",
            "Requirement already satisfied: urllib3<1.27,>=1.21.1 in /usr/local/lib/python3.8/dist-packages (from requests>=2.19.0->dgl-cu110) (1.24.3)\n",
            "Requirement already satisfied: idna<3,>=2.5 in /usr/local/lib/python3.8/dist-packages (from requests>=2.19.0->dgl-cu110) (2.10)\n",
            "Requirement already satisfied: certifi>=2017.4.17 in /usr/local/lib/python3.8/dist-packages (from requests>=2.19.0->dgl-cu110) (2022.12.7)\n"
          ]
        }
      ]
    },
    {
      "cell_type": "code",
      "source": [
        "print(f\"Torch version: {th.__version__}.  CUDA version: {th.version.cuda}. dgl version: {th.__version__}\")"
      ],
      "metadata": {
        "colab": {
          "base_uri": "https://localhost:8080/"
        },
        "id": "1gUjc1U-TJ7l",
        "outputId": "b9e08104-8375-4be2-d776-48166865bc27"
      },
      "execution_count": null,
      "outputs": [
        {
          "output_type": "stream",
          "name": "stdout",
          "text": [
            "Torch version: 1.13.1+cu116.  CUDA version: 11.6. dgl version: 1.13.1+cu116\n"
          ]
        }
      ]
    },
    {
      "cell_type": "code",
      "source": [
        "os.environ['DGLBACKEND'] = 'pytorch'\n",
        "import dgl\n",
        "from dgl import function as fn"
      ],
      "metadata": {
        "id": "U4Pnpq46TNZe"
      },
      "execution_count": null,
      "outputs": []
    },
    {
      "cell_type": "code",
      "source": [
        "dgl.__version__"
      ],
      "metadata": {
        "colab": {
          "base_uri": "https://localhost:8080/",
          "height": 37
        },
        "id": "CJjfb-WvTQJz",
        "outputId": "a8a78b60-9114-483c-98d7-12de23a33236"
      },
      "execution_count": null,
      "outputs": [
        {
          "output_type": "execute_result",
          "data": {
            "text/plain": [
              "'0.6.1'"
            ],
            "application/vnd.google.colaboratory.intrinsic+json": {
              "type": "string"
            }
          },
          "metadata": {},
          "execution_count": 55
        }
      ]
    },
    {
      "cell_type": "code",
      "source": [
        "from dgl.dataloading.pytorch import NodeDataLoader"
      ],
      "metadata": {
        "id": "NPNlsBbGTTiE"
      },
      "execution_count": null,
      "outputs": []
    },
    {
      "cell_type": "code",
      "source": [
        "device = th.device('cuda' if th.cuda.is_available() else 'cpu')\n",
        "device"
      ],
      "metadata": {
        "colab": {
          "base_uri": "https://localhost:8080/"
        },
        "id": "gkWzK82eTX9H",
        "outputId": "37783353-ad88-43c5-b0b3-e3cbf32f7eb7"
      },
      "execution_count": null,
      "outputs": [
        {
          "output_type": "execute_result",
          "data": {
            "text/plain": [
              "device(type='cpu')"
            ]
          },
          "metadata": {},
          "execution_count": 57
        }
      ]
    },
    {
      "cell_type": "code",
      "source": [
        "from google.colab import drive \n",
        "drive.mount('/content/gdrive')"
      ],
      "metadata": {
        "colab": {
          "base_uri": "https://localhost:8080/"
        },
        "id": "69iO1EPfTY6E",
        "outputId": "59ebc377-702f-4138-85d0-4cefd9ad8bb3"
      },
      "execution_count": null,
      "outputs": [
        {
          "output_type": "stream",
          "name": "stdout",
          "text": [
            "Drive already mounted at /content/gdrive; to attempt to forcibly remount, call drive.mount(\"/content/gdrive\", force_remount=True).\n"
          ]
        }
      ]
    },
    {
      "cell_type": "code",
      "source": [
        "data_train=pd.read_csv(\"/content/gdrive/MyDrive/train.csv\")\n",
        "data_test=pd.read_csv(\"/content/gdrive/MyDrive/test.csv\")"
      ],
      "metadata": {
        "id": "K5z22hW6UHrN"
      },
      "execution_count": null,
      "outputs": []
    },
    {
      "cell_type": "code",
      "source": [
        "data_train"
      ],
      "metadata": {
        "colab": {
          "base_uri": "https://localhost:8080/",
          "height": 633
        },
        "id": "YydmkbHPa7lg",
        "outputId": "3965a4f5-e622-4f4a-b79f-e82a52a4f16d"
      },
      "execution_count": null,
      "outputs": [
        {
          "output_type": "execute_result",
          "data": {
            "text/plain": [
              "                      Dates                Category  \\\n",
              "0       2015-05-13 23:53:00                WARRANTS   \n",
              "1       2015-05-13 23:53:00          OTHER OFFENSES   \n",
              "2       2015-05-13 23:33:00          OTHER OFFENSES   \n",
              "3       2015-05-13 23:30:00           LARCENY/THEFT   \n",
              "4       2015-05-13 23:30:00           LARCENY/THEFT   \n",
              "...                     ...                     ...   \n",
              "878044  2003-01-06 00:15:00                 ROBBERY   \n",
              "878045  2003-01-06 00:01:00           LARCENY/THEFT   \n",
              "878046  2003-01-06 00:01:00           LARCENY/THEFT   \n",
              "878047  2003-01-06 00:01:00               VANDALISM   \n",
              "878048  2003-01-06 00:01:00  FORGERY/COUNTERFEITING   \n",
              "\n",
              "                                         Descript  DayOfWeek PdDistrict  \\\n",
              "0                                  WARRANT ARREST  Wednesday   NORTHERN   \n",
              "1                        TRAFFIC VIOLATION ARREST  Wednesday   NORTHERN   \n",
              "2                        TRAFFIC VIOLATION ARREST  Wednesday   NORTHERN   \n",
              "3                    GRAND THEFT FROM LOCKED AUTO  Wednesday   NORTHERN   \n",
              "4                    GRAND THEFT FROM LOCKED AUTO  Wednesday       PARK   \n",
              "...                                           ...        ...        ...   \n",
              "878044           ROBBERY ON THE STREET WITH A GUN     Monday    TARAVAL   \n",
              "878045               GRAND THEFT FROM LOCKED AUTO     Monday  INGLESIDE   \n",
              "878046               GRAND THEFT FROM LOCKED AUTO     Monday   SOUTHERN   \n",
              "878047  MALICIOUS MISCHIEF, VANDALISM OF VEHICLES     Monday   SOUTHERN   \n",
              "878048                   CHECKS, FORGERY (FELONY)     Monday    BAYVIEW   \n",
              "\n",
              "            Resolution                     Address           X          Y  \n",
              "0       ARREST, BOOKED          OAK ST / LAGUNA ST -122.425892  37.774599  \n",
              "1       ARREST, BOOKED          OAK ST / LAGUNA ST -122.425892  37.774599  \n",
              "2       ARREST, BOOKED   VANNESS AV / GREENWICH ST -122.424363  37.800414  \n",
              "3                 NONE    1500 Block of LOMBARD ST -122.426995  37.800873  \n",
              "4                 NONE   100 Block of BRODERICK ST -122.438738  37.771541  \n",
              "...                ...                         ...         ...        ...  \n",
              "878044            NONE  FARALLONES ST / CAPITOL AV -122.459033  37.714056  \n",
              "878045            NONE        600 Block of EDNA ST -122.447364  37.731948  \n",
              "878046            NONE          5TH ST / FOLSOM ST -122.403390  37.780266  \n",
              "878047            NONE        TOWNSEND ST / 2ND ST -122.390531  37.780607  \n",
              "878048            NONE    1800 Block of NEWCOMB AV -122.394926  37.738212  \n",
              "\n",
              "[878049 rows x 9 columns]"
            ],
            "text/html": [
              "\n",
              "  <div id=\"df-b9375191-4cdb-4301-937a-3ba050bf58bd\">\n",
              "    <div class=\"colab-df-container\">\n",
              "      <div>\n",
              "<style scoped>\n",
              "    .dataframe tbody tr th:only-of-type {\n",
              "        vertical-align: middle;\n",
              "    }\n",
              "\n",
              "    .dataframe tbody tr th {\n",
              "        vertical-align: top;\n",
              "    }\n",
              "\n",
              "    .dataframe thead th {\n",
              "        text-align: right;\n",
              "    }\n",
              "</style>\n",
              "<table border=\"1\" class=\"dataframe\">\n",
              "  <thead>\n",
              "    <tr style=\"text-align: right;\">\n",
              "      <th></th>\n",
              "      <th>Dates</th>\n",
              "      <th>Category</th>\n",
              "      <th>Descript</th>\n",
              "      <th>DayOfWeek</th>\n",
              "      <th>PdDistrict</th>\n",
              "      <th>Resolution</th>\n",
              "      <th>Address</th>\n",
              "      <th>X</th>\n",
              "      <th>Y</th>\n",
              "    </tr>\n",
              "  </thead>\n",
              "  <tbody>\n",
              "    <tr>\n",
              "      <th>0</th>\n",
              "      <td>2015-05-13 23:53:00</td>\n",
              "      <td>WARRANTS</td>\n",
              "      <td>WARRANT ARREST</td>\n",
              "      <td>Wednesday</td>\n",
              "      <td>NORTHERN</td>\n",
              "      <td>ARREST, BOOKED</td>\n",
              "      <td>OAK ST / LAGUNA ST</td>\n",
              "      <td>-122.425892</td>\n",
              "      <td>37.774599</td>\n",
              "    </tr>\n",
              "    <tr>\n",
              "      <th>1</th>\n",
              "      <td>2015-05-13 23:53:00</td>\n",
              "      <td>OTHER OFFENSES</td>\n",
              "      <td>TRAFFIC VIOLATION ARREST</td>\n",
              "      <td>Wednesday</td>\n",
              "      <td>NORTHERN</td>\n",
              "      <td>ARREST, BOOKED</td>\n",
              "      <td>OAK ST / LAGUNA ST</td>\n",
              "      <td>-122.425892</td>\n",
              "      <td>37.774599</td>\n",
              "    </tr>\n",
              "    <tr>\n",
              "      <th>2</th>\n",
              "      <td>2015-05-13 23:33:00</td>\n",
              "      <td>OTHER OFFENSES</td>\n",
              "      <td>TRAFFIC VIOLATION ARREST</td>\n",
              "      <td>Wednesday</td>\n",
              "      <td>NORTHERN</td>\n",
              "      <td>ARREST, BOOKED</td>\n",
              "      <td>VANNESS AV / GREENWICH ST</td>\n",
              "      <td>-122.424363</td>\n",
              "      <td>37.800414</td>\n",
              "    </tr>\n",
              "    <tr>\n",
              "      <th>3</th>\n",
              "      <td>2015-05-13 23:30:00</td>\n",
              "      <td>LARCENY/THEFT</td>\n",
              "      <td>GRAND THEFT FROM LOCKED AUTO</td>\n",
              "      <td>Wednesday</td>\n",
              "      <td>NORTHERN</td>\n",
              "      <td>NONE</td>\n",
              "      <td>1500 Block of LOMBARD ST</td>\n",
              "      <td>-122.426995</td>\n",
              "      <td>37.800873</td>\n",
              "    </tr>\n",
              "    <tr>\n",
              "      <th>4</th>\n",
              "      <td>2015-05-13 23:30:00</td>\n",
              "      <td>LARCENY/THEFT</td>\n",
              "      <td>GRAND THEFT FROM LOCKED AUTO</td>\n",
              "      <td>Wednesday</td>\n",
              "      <td>PARK</td>\n",
              "      <td>NONE</td>\n",
              "      <td>100 Block of BRODERICK ST</td>\n",
              "      <td>-122.438738</td>\n",
              "      <td>37.771541</td>\n",
              "    </tr>\n",
              "    <tr>\n",
              "      <th>...</th>\n",
              "      <td>...</td>\n",
              "      <td>...</td>\n",
              "      <td>...</td>\n",
              "      <td>...</td>\n",
              "      <td>...</td>\n",
              "      <td>...</td>\n",
              "      <td>...</td>\n",
              "      <td>...</td>\n",
              "      <td>...</td>\n",
              "    </tr>\n",
              "    <tr>\n",
              "      <th>878044</th>\n",
              "      <td>2003-01-06 00:15:00</td>\n",
              "      <td>ROBBERY</td>\n",
              "      <td>ROBBERY ON THE STREET WITH A GUN</td>\n",
              "      <td>Monday</td>\n",
              "      <td>TARAVAL</td>\n",
              "      <td>NONE</td>\n",
              "      <td>FARALLONES ST / CAPITOL AV</td>\n",
              "      <td>-122.459033</td>\n",
              "      <td>37.714056</td>\n",
              "    </tr>\n",
              "    <tr>\n",
              "      <th>878045</th>\n",
              "      <td>2003-01-06 00:01:00</td>\n",
              "      <td>LARCENY/THEFT</td>\n",
              "      <td>GRAND THEFT FROM LOCKED AUTO</td>\n",
              "      <td>Monday</td>\n",
              "      <td>INGLESIDE</td>\n",
              "      <td>NONE</td>\n",
              "      <td>600 Block of EDNA ST</td>\n",
              "      <td>-122.447364</td>\n",
              "      <td>37.731948</td>\n",
              "    </tr>\n",
              "    <tr>\n",
              "      <th>878046</th>\n",
              "      <td>2003-01-06 00:01:00</td>\n",
              "      <td>LARCENY/THEFT</td>\n",
              "      <td>GRAND THEFT FROM LOCKED AUTO</td>\n",
              "      <td>Monday</td>\n",
              "      <td>SOUTHERN</td>\n",
              "      <td>NONE</td>\n",
              "      <td>5TH ST / FOLSOM ST</td>\n",
              "      <td>-122.403390</td>\n",
              "      <td>37.780266</td>\n",
              "    </tr>\n",
              "    <tr>\n",
              "      <th>878047</th>\n",
              "      <td>2003-01-06 00:01:00</td>\n",
              "      <td>VANDALISM</td>\n",
              "      <td>MALICIOUS MISCHIEF, VANDALISM OF VEHICLES</td>\n",
              "      <td>Monday</td>\n",
              "      <td>SOUTHERN</td>\n",
              "      <td>NONE</td>\n",
              "      <td>TOWNSEND ST / 2ND ST</td>\n",
              "      <td>-122.390531</td>\n",
              "      <td>37.780607</td>\n",
              "    </tr>\n",
              "    <tr>\n",
              "      <th>878048</th>\n",
              "      <td>2003-01-06 00:01:00</td>\n",
              "      <td>FORGERY/COUNTERFEITING</td>\n",
              "      <td>CHECKS, FORGERY (FELONY)</td>\n",
              "      <td>Monday</td>\n",
              "      <td>BAYVIEW</td>\n",
              "      <td>NONE</td>\n",
              "      <td>1800 Block of NEWCOMB AV</td>\n",
              "      <td>-122.394926</td>\n",
              "      <td>37.738212</td>\n",
              "    </tr>\n",
              "  </tbody>\n",
              "</table>\n",
              "<p>878049 rows × 9 columns</p>\n",
              "</div>\n",
              "      <button class=\"colab-df-convert\" onclick=\"convertToInteractive('df-b9375191-4cdb-4301-937a-3ba050bf58bd')\"\n",
              "              title=\"Convert this dataframe to an interactive table.\"\n",
              "              style=\"display:none;\">\n",
              "        \n",
              "  <svg xmlns=\"http://www.w3.org/2000/svg\" height=\"24px\"viewBox=\"0 0 24 24\"\n",
              "       width=\"24px\">\n",
              "    <path d=\"M0 0h24v24H0V0z\" fill=\"none\"/>\n",
              "    <path d=\"M18.56 5.44l.94 2.06.94-2.06 2.06-.94-2.06-.94-.94-2.06-.94 2.06-2.06.94zm-11 1L8.5 8.5l.94-2.06 2.06-.94-2.06-.94L8.5 2.5l-.94 2.06-2.06.94zm10 10l.94 2.06.94-2.06 2.06-.94-2.06-.94-.94-2.06-.94 2.06-2.06.94z\"/><path d=\"M17.41 7.96l-1.37-1.37c-.4-.4-.92-.59-1.43-.59-.52 0-1.04.2-1.43.59L10.3 9.45l-7.72 7.72c-.78.78-.78 2.05 0 2.83L4 21.41c.39.39.9.59 1.41.59.51 0 1.02-.2 1.41-.59l7.78-7.78 2.81-2.81c.8-.78.8-2.07 0-2.86zM5.41 20L4 18.59l7.72-7.72 1.47 1.35L5.41 20z\"/>\n",
              "  </svg>\n",
              "      </button>\n",
              "      \n",
              "  <style>\n",
              "    .colab-df-container {\n",
              "      display:flex;\n",
              "      flex-wrap:wrap;\n",
              "      gap: 12px;\n",
              "    }\n",
              "\n",
              "    .colab-df-convert {\n",
              "      background-color: #E8F0FE;\n",
              "      border: none;\n",
              "      border-radius: 50%;\n",
              "      cursor: pointer;\n",
              "      display: none;\n",
              "      fill: #1967D2;\n",
              "      height: 32px;\n",
              "      padding: 0 0 0 0;\n",
              "      width: 32px;\n",
              "    }\n",
              "\n",
              "    .colab-df-convert:hover {\n",
              "      background-color: #E2EBFA;\n",
              "      box-shadow: 0px 1px 2px rgba(60, 64, 67, 0.3), 0px 1px 3px 1px rgba(60, 64, 67, 0.15);\n",
              "      fill: #174EA6;\n",
              "    }\n",
              "\n",
              "    [theme=dark] .colab-df-convert {\n",
              "      background-color: #3B4455;\n",
              "      fill: #D2E3FC;\n",
              "    }\n",
              "\n",
              "    [theme=dark] .colab-df-convert:hover {\n",
              "      background-color: #434B5C;\n",
              "      box-shadow: 0px 1px 3px 1px rgba(0, 0, 0, 0.15);\n",
              "      filter: drop-shadow(0px 1px 2px rgba(0, 0, 0, 0.3));\n",
              "      fill: #FFFFFF;\n",
              "    }\n",
              "  </style>\n",
              "\n",
              "      <script>\n",
              "        const buttonEl =\n",
              "          document.querySelector('#df-b9375191-4cdb-4301-937a-3ba050bf58bd button.colab-df-convert');\n",
              "        buttonEl.style.display =\n",
              "          google.colab.kernel.accessAllowed ? 'block' : 'none';\n",
              "\n",
              "        async function convertToInteractive(key) {\n",
              "          const element = document.querySelector('#df-b9375191-4cdb-4301-937a-3ba050bf58bd');\n",
              "          const dataTable =\n",
              "            await google.colab.kernel.invokeFunction('convertToInteractive',\n",
              "                                                     [key], {});\n",
              "          if (!dataTable) return;\n",
              "\n",
              "          const docLinkHtml = 'Like what you see? Visit the ' +\n",
              "            '<a target=\"_blank\" href=https://colab.research.google.com/notebooks/data_table.ipynb>data table notebook</a>'\n",
              "            + ' to learn more about interactive tables.';\n",
              "          element.innerHTML = '';\n",
              "          dataTable['output_type'] = 'display_data';\n",
              "          await google.colab.output.renderOutput(dataTable, element);\n",
              "          const docLink = document.createElement('div');\n",
              "          docLink.innerHTML = docLinkHtml;\n",
              "          element.appendChild(docLink);\n",
              "        }\n",
              "      </script>\n",
              "    </div>\n",
              "  </div>\n",
              "  "
            ]
          },
          "metadata": {},
          "execution_count": 60
        }
      ]
    },
    {
      "cell_type": "code",
      "source": [
        "data_train['Catid']=data_train['Category'].replace('WARRANTS',0).replace('NON-CRIMINAL',0).replace('FORGERY/COUNTERFEITING',0).replace('SECONDARY CODES',0).replace('TRESPASS',0).replace('PROSTITUTION',0).replace('DISORDERLY CONDUCT',0).replace('ARSON',0).replace('EMBEZZLEMENT',0).replace('LOITERING',0).replace('GAMBLING',0).replace('BAD CHECKS',0).replace('TREA',0).replace('OTHER OFFENSES',0).replace('LARCENY/THEFT',0).replace('VEHICLE THEFT',1).replace('ROBBERY',1).replace('WEAPON LAWS',1).replace('BURGLARY',1).replace('SUSPICIOUS OCC',1).replace('DRUNKENNESS',1).replace('STOLEN PROPERTY',1).replace('FRAUD',1).replace('RUNAWAY',1).replace('DRIVING UNDER THE INFLUENCE',1).replace('LIQUOR LAWS',1).replace('BRIBERY',1).replace('RECOVERED VEHICLE',1).replace('VANDALISM',1).replace('ASSAULT',1).replace('DRUG/NARCOTIC',1).replace('MISSING PERSON',1).replace('KIDNAPPING',1).replace('SEX OFFENSES FORCIBLE',1).replace('FAMILY OFFENSES',1).replace('SUICIDE',1).replace('SEX OFFENSES NON FORCIBLE',1).replace('EXTORTION',1).replace('PORNOGRAPHY/OBSCENE MAT',1)"
      ],
      "metadata": {
        "id": "gT400gOha_by"
      },
      "execution_count": null,
      "outputs": []
    },
    {
      "cell_type": "code",
      "source": [
        "data_train"
      ],
      "metadata": {
        "colab": {
          "base_uri": "https://localhost:8080/",
          "height": 633
        },
        "id": "yqIuAH4mbHLI",
        "outputId": "253e230d-113b-4f12-f725-5c2b35d4bcb6"
      },
      "execution_count": null,
      "outputs": [
        {
          "output_type": "execute_result",
          "data": {
            "text/plain": [
              "                      Dates                Category  \\\n",
              "0       2015-05-13 23:53:00                WARRANTS   \n",
              "1       2015-05-13 23:53:00          OTHER OFFENSES   \n",
              "2       2015-05-13 23:33:00          OTHER OFFENSES   \n",
              "3       2015-05-13 23:30:00           LARCENY/THEFT   \n",
              "4       2015-05-13 23:30:00           LARCENY/THEFT   \n",
              "...                     ...                     ...   \n",
              "878044  2003-01-06 00:15:00                 ROBBERY   \n",
              "878045  2003-01-06 00:01:00           LARCENY/THEFT   \n",
              "878046  2003-01-06 00:01:00           LARCENY/THEFT   \n",
              "878047  2003-01-06 00:01:00               VANDALISM   \n",
              "878048  2003-01-06 00:01:00  FORGERY/COUNTERFEITING   \n",
              "\n",
              "                                         Descript  DayOfWeek PdDistrict  \\\n",
              "0                                  WARRANT ARREST  Wednesday   NORTHERN   \n",
              "1                        TRAFFIC VIOLATION ARREST  Wednesday   NORTHERN   \n",
              "2                        TRAFFIC VIOLATION ARREST  Wednesday   NORTHERN   \n",
              "3                    GRAND THEFT FROM LOCKED AUTO  Wednesday   NORTHERN   \n",
              "4                    GRAND THEFT FROM LOCKED AUTO  Wednesday       PARK   \n",
              "...                                           ...        ...        ...   \n",
              "878044           ROBBERY ON THE STREET WITH A GUN     Monday    TARAVAL   \n",
              "878045               GRAND THEFT FROM LOCKED AUTO     Monday  INGLESIDE   \n",
              "878046               GRAND THEFT FROM LOCKED AUTO     Monday   SOUTHERN   \n",
              "878047  MALICIOUS MISCHIEF, VANDALISM OF VEHICLES     Monday   SOUTHERN   \n",
              "878048                   CHECKS, FORGERY (FELONY)     Monday    BAYVIEW   \n",
              "\n",
              "            Resolution                     Address           X          Y  \\\n",
              "0       ARREST, BOOKED          OAK ST / LAGUNA ST -122.425892  37.774599   \n",
              "1       ARREST, BOOKED          OAK ST / LAGUNA ST -122.425892  37.774599   \n",
              "2       ARREST, BOOKED   VANNESS AV / GREENWICH ST -122.424363  37.800414   \n",
              "3                 NONE    1500 Block of LOMBARD ST -122.426995  37.800873   \n",
              "4                 NONE   100 Block of BRODERICK ST -122.438738  37.771541   \n",
              "...                ...                         ...         ...        ...   \n",
              "878044            NONE  FARALLONES ST / CAPITOL AV -122.459033  37.714056   \n",
              "878045            NONE        600 Block of EDNA ST -122.447364  37.731948   \n",
              "878046            NONE          5TH ST / FOLSOM ST -122.403390  37.780266   \n",
              "878047            NONE        TOWNSEND ST / 2ND ST -122.390531  37.780607   \n",
              "878048            NONE    1800 Block of NEWCOMB AV -122.394926  37.738212   \n",
              "\n",
              "        Catid  \n",
              "0           0  \n",
              "1           0  \n",
              "2           0  \n",
              "3           0  \n",
              "4           0  \n",
              "...       ...  \n",
              "878044      1  \n",
              "878045      0  \n",
              "878046      0  \n",
              "878047      1  \n",
              "878048      0  \n",
              "\n",
              "[878049 rows x 10 columns]"
            ],
            "text/html": [
              "\n",
              "  <div id=\"df-b060ce44-0dbe-4fbf-acde-572fee4867c6\">\n",
              "    <div class=\"colab-df-container\">\n",
              "      <div>\n",
              "<style scoped>\n",
              "    .dataframe tbody tr th:only-of-type {\n",
              "        vertical-align: middle;\n",
              "    }\n",
              "\n",
              "    .dataframe tbody tr th {\n",
              "        vertical-align: top;\n",
              "    }\n",
              "\n",
              "    .dataframe thead th {\n",
              "        text-align: right;\n",
              "    }\n",
              "</style>\n",
              "<table border=\"1\" class=\"dataframe\">\n",
              "  <thead>\n",
              "    <tr style=\"text-align: right;\">\n",
              "      <th></th>\n",
              "      <th>Dates</th>\n",
              "      <th>Category</th>\n",
              "      <th>Descript</th>\n",
              "      <th>DayOfWeek</th>\n",
              "      <th>PdDistrict</th>\n",
              "      <th>Resolution</th>\n",
              "      <th>Address</th>\n",
              "      <th>X</th>\n",
              "      <th>Y</th>\n",
              "      <th>Catid</th>\n",
              "    </tr>\n",
              "  </thead>\n",
              "  <tbody>\n",
              "    <tr>\n",
              "      <th>0</th>\n",
              "      <td>2015-05-13 23:53:00</td>\n",
              "      <td>WARRANTS</td>\n",
              "      <td>WARRANT ARREST</td>\n",
              "      <td>Wednesday</td>\n",
              "      <td>NORTHERN</td>\n",
              "      <td>ARREST, BOOKED</td>\n",
              "      <td>OAK ST / LAGUNA ST</td>\n",
              "      <td>-122.425892</td>\n",
              "      <td>37.774599</td>\n",
              "      <td>0</td>\n",
              "    </tr>\n",
              "    <tr>\n",
              "      <th>1</th>\n",
              "      <td>2015-05-13 23:53:00</td>\n",
              "      <td>OTHER OFFENSES</td>\n",
              "      <td>TRAFFIC VIOLATION ARREST</td>\n",
              "      <td>Wednesday</td>\n",
              "      <td>NORTHERN</td>\n",
              "      <td>ARREST, BOOKED</td>\n",
              "      <td>OAK ST / LAGUNA ST</td>\n",
              "      <td>-122.425892</td>\n",
              "      <td>37.774599</td>\n",
              "      <td>0</td>\n",
              "    </tr>\n",
              "    <tr>\n",
              "      <th>2</th>\n",
              "      <td>2015-05-13 23:33:00</td>\n",
              "      <td>OTHER OFFENSES</td>\n",
              "      <td>TRAFFIC VIOLATION ARREST</td>\n",
              "      <td>Wednesday</td>\n",
              "      <td>NORTHERN</td>\n",
              "      <td>ARREST, BOOKED</td>\n",
              "      <td>VANNESS AV / GREENWICH ST</td>\n",
              "      <td>-122.424363</td>\n",
              "      <td>37.800414</td>\n",
              "      <td>0</td>\n",
              "    </tr>\n",
              "    <tr>\n",
              "      <th>3</th>\n",
              "      <td>2015-05-13 23:30:00</td>\n",
              "      <td>LARCENY/THEFT</td>\n",
              "      <td>GRAND THEFT FROM LOCKED AUTO</td>\n",
              "      <td>Wednesday</td>\n",
              "      <td>NORTHERN</td>\n",
              "      <td>NONE</td>\n",
              "      <td>1500 Block of LOMBARD ST</td>\n",
              "      <td>-122.426995</td>\n",
              "      <td>37.800873</td>\n",
              "      <td>0</td>\n",
              "    </tr>\n",
              "    <tr>\n",
              "      <th>4</th>\n",
              "      <td>2015-05-13 23:30:00</td>\n",
              "      <td>LARCENY/THEFT</td>\n",
              "      <td>GRAND THEFT FROM LOCKED AUTO</td>\n",
              "      <td>Wednesday</td>\n",
              "      <td>PARK</td>\n",
              "      <td>NONE</td>\n",
              "      <td>100 Block of BRODERICK ST</td>\n",
              "      <td>-122.438738</td>\n",
              "      <td>37.771541</td>\n",
              "      <td>0</td>\n",
              "    </tr>\n",
              "    <tr>\n",
              "      <th>...</th>\n",
              "      <td>...</td>\n",
              "      <td>...</td>\n",
              "      <td>...</td>\n",
              "      <td>...</td>\n",
              "      <td>...</td>\n",
              "      <td>...</td>\n",
              "      <td>...</td>\n",
              "      <td>...</td>\n",
              "      <td>...</td>\n",
              "      <td>...</td>\n",
              "    </tr>\n",
              "    <tr>\n",
              "      <th>878044</th>\n",
              "      <td>2003-01-06 00:15:00</td>\n",
              "      <td>ROBBERY</td>\n",
              "      <td>ROBBERY ON THE STREET WITH A GUN</td>\n",
              "      <td>Monday</td>\n",
              "      <td>TARAVAL</td>\n",
              "      <td>NONE</td>\n",
              "      <td>FARALLONES ST / CAPITOL AV</td>\n",
              "      <td>-122.459033</td>\n",
              "      <td>37.714056</td>\n",
              "      <td>1</td>\n",
              "    </tr>\n",
              "    <tr>\n",
              "      <th>878045</th>\n",
              "      <td>2003-01-06 00:01:00</td>\n",
              "      <td>LARCENY/THEFT</td>\n",
              "      <td>GRAND THEFT FROM LOCKED AUTO</td>\n",
              "      <td>Monday</td>\n",
              "      <td>INGLESIDE</td>\n",
              "      <td>NONE</td>\n",
              "      <td>600 Block of EDNA ST</td>\n",
              "      <td>-122.447364</td>\n",
              "      <td>37.731948</td>\n",
              "      <td>0</td>\n",
              "    </tr>\n",
              "    <tr>\n",
              "      <th>878046</th>\n",
              "      <td>2003-01-06 00:01:00</td>\n",
              "      <td>LARCENY/THEFT</td>\n",
              "      <td>GRAND THEFT FROM LOCKED AUTO</td>\n",
              "      <td>Monday</td>\n",
              "      <td>SOUTHERN</td>\n",
              "      <td>NONE</td>\n",
              "      <td>5TH ST / FOLSOM ST</td>\n",
              "      <td>-122.403390</td>\n",
              "      <td>37.780266</td>\n",
              "      <td>0</td>\n",
              "    </tr>\n",
              "    <tr>\n",
              "      <th>878047</th>\n",
              "      <td>2003-01-06 00:01:00</td>\n",
              "      <td>VANDALISM</td>\n",
              "      <td>MALICIOUS MISCHIEF, VANDALISM OF VEHICLES</td>\n",
              "      <td>Monday</td>\n",
              "      <td>SOUTHERN</td>\n",
              "      <td>NONE</td>\n",
              "      <td>TOWNSEND ST / 2ND ST</td>\n",
              "      <td>-122.390531</td>\n",
              "      <td>37.780607</td>\n",
              "      <td>1</td>\n",
              "    </tr>\n",
              "    <tr>\n",
              "      <th>878048</th>\n",
              "      <td>2003-01-06 00:01:00</td>\n",
              "      <td>FORGERY/COUNTERFEITING</td>\n",
              "      <td>CHECKS, FORGERY (FELONY)</td>\n",
              "      <td>Monday</td>\n",
              "      <td>BAYVIEW</td>\n",
              "      <td>NONE</td>\n",
              "      <td>1800 Block of NEWCOMB AV</td>\n",
              "      <td>-122.394926</td>\n",
              "      <td>37.738212</td>\n",
              "      <td>0</td>\n",
              "    </tr>\n",
              "  </tbody>\n",
              "</table>\n",
              "<p>878049 rows × 10 columns</p>\n",
              "</div>\n",
              "      <button class=\"colab-df-convert\" onclick=\"convertToInteractive('df-b060ce44-0dbe-4fbf-acde-572fee4867c6')\"\n",
              "              title=\"Convert this dataframe to an interactive table.\"\n",
              "              style=\"display:none;\">\n",
              "        \n",
              "  <svg xmlns=\"http://www.w3.org/2000/svg\" height=\"24px\"viewBox=\"0 0 24 24\"\n",
              "       width=\"24px\">\n",
              "    <path d=\"M0 0h24v24H0V0z\" fill=\"none\"/>\n",
              "    <path d=\"M18.56 5.44l.94 2.06.94-2.06 2.06-.94-2.06-.94-.94-2.06-.94 2.06-2.06.94zm-11 1L8.5 8.5l.94-2.06 2.06-.94-2.06-.94L8.5 2.5l-.94 2.06-2.06.94zm10 10l.94 2.06.94-2.06 2.06-.94-2.06-.94-.94-2.06-.94 2.06-2.06.94z\"/><path d=\"M17.41 7.96l-1.37-1.37c-.4-.4-.92-.59-1.43-.59-.52 0-1.04.2-1.43.59L10.3 9.45l-7.72 7.72c-.78.78-.78 2.05 0 2.83L4 21.41c.39.39.9.59 1.41.59.51 0 1.02-.2 1.41-.59l7.78-7.78 2.81-2.81c.8-.78.8-2.07 0-2.86zM5.41 20L4 18.59l7.72-7.72 1.47 1.35L5.41 20z\"/>\n",
              "  </svg>\n",
              "      </button>\n",
              "      \n",
              "  <style>\n",
              "    .colab-df-container {\n",
              "      display:flex;\n",
              "      flex-wrap:wrap;\n",
              "      gap: 12px;\n",
              "    }\n",
              "\n",
              "    .colab-df-convert {\n",
              "      background-color: #E8F0FE;\n",
              "      border: none;\n",
              "      border-radius: 50%;\n",
              "      cursor: pointer;\n",
              "      display: none;\n",
              "      fill: #1967D2;\n",
              "      height: 32px;\n",
              "      padding: 0 0 0 0;\n",
              "      width: 32px;\n",
              "    }\n",
              "\n",
              "    .colab-df-convert:hover {\n",
              "      background-color: #E2EBFA;\n",
              "      box-shadow: 0px 1px 2px rgba(60, 64, 67, 0.3), 0px 1px 3px 1px rgba(60, 64, 67, 0.15);\n",
              "      fill: #174EA6;\n",
              "    }\n",
              "\n",
              "    [theme=dark] .colab-df-convert {\n",
              "      background-color: #3B4455;\n",
              "      fill: #D2E3FC;\n",
              "    }\n",
              "\n",
              "    [theme=dark] .colab-df-convert:hover {\n",
              "      background-color: #434B5C;\n",
              "      box-shadow: 0px 1px 3px 1px rgba(0, 0, 0, 0.15);\n",
              "      filter: drop-shadow(0px 1px 2px rgba(0, 0, 0, 0.3));\n",
              "      fill: #FFFFFF;\n",
              "    }\n",
              "  </style>\n",
              "\n",
              "      <script>\n",
              "        const buttonEl =\n",
              "          document.querySelector('#df-b060ce44-0dbe-4fbf-acde-572fee4867c6 button.colab-df-convert');\n",
              "        buttonEl.style.display =\n",
              "          google.colab.kernel.accessAllowed ? 'block' : 'none';\n",
              "\n",
              "        async function convertToInteractive(key) {\n",
              "          const element = document.querySelector('#df-b060ce44-0dbe-4fbf-acde-572fee4867c6');\n",
              "          const dataTable =\n",
              "            await google.colab.kernel.invokeFunction('convertToInteractive',\n",
              "                                                     [key], {});\n",
              "          if (!dataTable) return;\n",
              "\n",
              "          const docLinkHtml = 'Like what you see? Visit the ' +\n",
              "            '<a target=\"_blank\" href=https://colab.research.google.com/notebooks/data_table.ipynb>data table notebook</a>'\n",
              "            + ' to learn more about interactive tables.';\n",
              "          element.innerHTML = '';\n",
              "          dataTable['output_type'] = 'display_data';\n",
              "          await google.colab.output.renderOutput(dataTable, element);\n",
              "          const docLink = document.createElement('div');\n",
              "          docLink.innerHTML = docLinkHtml;\n",
              "          element.appendChild(docLink);\n",
              "        }\n",
              "      </script>\n",
              "    </div>\n",
              "  </div>\n",
              "  "
            ]
          },
          "metadata": {},
          "execution_count": 62
        }
      ]
    },
    {
      "cell_type": "code",
      "source": [
        "for i in ['DayOfWeek','PdDistrict','Descript','Resolution']:\n",
        "    data_train[i] = prepro.LabelEncoder().fit_transform(data_train[i])\n",
        "    if i not in ['Category']:\n",
        "        data_train[i] = prepro.LabelEncoder().fit_transform(data_train[i])"
      ],
      "metadata": {
        "id": "xml_I9hZUQ9B"
      },
      "execution_count": null,
      "outputs": []
    },
    {
      "cell_type": "code",
      "source": [
        "for i in ['DayOfWeek','PdDistrict']:\n",
        "    data_test[i] = prepro.LabelEncoder().fit_transform(data_test[i])\n",
        "    if i not in ['Category']:\n",
        "        data_test[i] = prepro.LabelEncoder().fit_transform(data_test[i])"
      ],
      "metadata": {
        "id": "XKSOtPNBUVIL"
      },
      "execution_count": null,
      "outputs": []
    },
    {
      "cell_type": "code",
      "source": [
        "data_train.pop('Address')"
      ],
      "metadata": {
        "colab": {
          "base_uri": "https://localhost:8080/"
        },
        "id": "qV-58241UXRz",
        "outputId": "7f1a904a-b968-4f40-9447-92b806cc0803"
      },
      "execution_count": null,
      "outputs": [
        {
          "output_type": "execute_result",
          "data": {
            "text/plain": [
              "0                 OAK ST / LAGUNA ST\n",
              "1                 OAK ST / LAGUNA ST\n",
              "2          VANNESS AV / GREENWICH ST\n",
              "3           1500 Block of LOMBARD ST\n",
              "4          100 Block of BRODERICK ST\n",
              "                     ...            \n",
              "878044    FARALLONES ST / CAPITOL AV\n",
              "878045          600 Block of EDNA ST\n",
              "878046            5TH ST / FOLSOM ST\n",
              "878047          TOWNSEND ST / 2ND ST\n",
              "878048      1800 Block of NEWCOMB AV\n",
              "Name: Address, Length: 878049, dtype: object"
            ]
          },
          "metadata": {},
          "execution_count": 65
        }
      ]
    },
    {
      "cell_type": "code",
      "source": [
        "data_test.pop('Address')"
      ],
      "metadata": {
        "colab": {
          "base_uri": "https://localhost:8080/"
        },
        "id": "-XaLnKStUecp",
        "outputId": "bd46ead8-7f6f-4211-bab6-0a0eea4f79d6"
      },
      "execution_count": null,
      "outputs": [
        {
          "output_type": "execute_result",
          "data": {
            "text/plain": [
              "0             2000 Block of THOMAS AV\n",
              "1                  3RD ST / REVERE AV\n",
              "2              2000 Block of GOUGH ST\n",
              "3            4700 Block of MISSION ST\n",
              "4            4700 Block of MISSION ST\n",
              "                     ...             \n",
              "884257        2600 Block of BRYANT ST\n",
              "884258    1900 Block of WASHINGTON ST\n",
              "884259       5500 Block of MISSION ST\n",
              "884260        1500 Block of HUDSON AV\n",
              "884261         1500 Block of SLOAT BL\n",
              "Name: Address, Length: 884262, dtype: object"
            ]
          },
          "metadata": {},
          "execution_count": 66
        }
      ]
    },
    {
      "cell_type": "code",
      "source": [
        "data_train.pop('X')"
      ],
      "metadata": {
        "colab": {
          "base_uri": "https://localhost:8080/"
        },
        "id": "G0sLGnewUk6b",
        "outputId": "4640aefd-1a55-4a55-b981-caa05dd6cae3"
      },
      "execution_count": null,
      "outputs": [
        {
          "output_type": "execute_result",
          "data": {
            "text/plain": [
              "0        -122.425892\n",
              "1        -122.425892\n",
              "2        -122.424363\n",
              "3        -122.426995\n",
              "4        -122.438738\n",
              "             ...    \n",
              "878044   -122.459033\n",
              "878045   -122.447364\n",
              "878046   -122.403390\n",
              "878047   -122.390531\n",
              "878048   -122.394926\n",
              "Name: X, Length: 878049, dtype: float64"
            ]
          },
          "metadata": {},
          "execution_count": 67
        }
      ]
    },
    {
      "cell_type": "code",
      "source": [
        "data_train.pop('Y')"
      ],
      "metadata": {
        "colab": {
          "base_uri": "https://localhost:8080/"
        },
        "id": "V4e49g8fUl59",
        "outputId": "9a9082f7-f42a-4050-a4e6-395f1ec22379"
      },
      "execution_count": null,
      "outputs": [
        {
          "output_type": "execute_result",
          "data": {
            "text/plain": [
              "0         37.774599\n",
              "1         37.774599\n",
              "2         37.800414\n",
              "3         37.800873\n",
              "4         37.771541\n",
              "            ...    \n",
              "878044    37.714056\n",
              "878045    37.731948\n",
              "878046    37.780266\n",
              "878047    37.780607\n",
              "878048    37.738212\n",
              "Name: Y, Length: 878049, dtype: float64"
            ]
          },
          "metadata": {},
          "execution_count": 68
        }
      ]
    },
    {
      "cell_type": "code",
      "source": [
        "data_test.pop('X')"
      ],
      "metadata": {
        "colab": {
          "base_uri": "https://localhost:8080/"
        },
        "id": "yplFSWMMUpPx",
        "outputId": "ad6c5209-a834-41b3-983c-f711cf6810fa"
      },
      "execution_count": null,
      "outputs": [
        {
          "output_type": "execute_result",
          "data": {
            "text/plain": [
              "0        -122.399588\n",
              "1        -122.391523\n",
              "2        -122.426002\n",
              "3        -122.437394\n",
              "4        -122.437394\n",
              "             ...    \n",
              "884257   -122.408983\n",
              "884258   -122.425342\n",
              "884259   -122.445418\n",
              "884260   -122.387394\n",
              "884261   -122.489714\n",
              "Name: X, Length: 884262, dtype: float64"
            ]
          },
          "metadata": {},
          "execution_count": 69
        }
      ]
    },
    {
      "cell_type": "code",
      "source": [
        "data_test.pop('Y')"
      ],
      "metadata": {
        "colab": {
          "base_uri": "https://localhost:8080/"
        },
        "id": "cMvM5mYaUtP0",
        "outputId": "abb04049-beea-49c0-8e90-302fc041d492"
      },
      "execution_count": null,
      "outputs": [
        {
          "output_type": "execute_result",
          "data": {
            "text/plain": [
              "0         37.735051\n",
              "1         37.732432\n",
              "2         37.792212\n",
              "3         37.721412\n",
              "4         37.721412\n",
              "            ...    \n",
              "884257    37.751987\n",
              "884258    37.792681\n",
              "884259    37.712075\n",
              "884260    37.739479\n",
              "884261    37.733950\n",
              "Name: Y, Length: 884262, dtype: float64"
            ]
          },
          "metadata": {},
          "execution_count": 70
        }
      ]
    },
    {
      "cell_type": "code",
      "source": [
        "data_train['year'] = pd.to_datetime(data_train['Dates']).dt.year\n",
        "data_train['month'] = pd.to_datetime(data_train['Dates']).dt.month\n",
        "data_train['day'] = pd.to_datetime(data_train['Dates']).dt.day\n",
        "data_train['hour'] = pd.to_datetime(data_train['Dates']).dt.hour\n",
        "data_train['minute'] = pd.to_datetime(data_train['Dates']).dt.minute"
      ],
      "metadata": {
        "id": "KCRwedUMUuJp"
      },
      "execution_count": null,
      "outputs": []
    },
    {
      "cell_type": "code",
      "source": [
        "data_test['year'] = pd.to_datetime(data_test['Dates']).dt.year\n",
        "data_test['month'] = pd.to_datetime(data_test['Dates']).dt.month\n",
        "data_test['day'] = pd.to_datetime(data_test['Dates']).dt.day\n",
        "data_test['hour'] = pd.to_datetime(data_test['Dates']).dt.hour\n",
        "data_test['minute'] = pd.to_datetime(data_test['Dates']).dt.minute"
      ],
      "metadata": {
        "id": "DFmGZx2KUxCf"
      },
      "execution_count": null,
      "outputs": []
    },
    {
      "cell_type": "code",
      "source": [
        "data_train.pop('minute')"
      ],
      "metadata": {
        "colab": {
          "base_uri": "https://localhost:8080/"
        },
        "id": "ynWi1MOPU0Sm",
        "outputId": "a7080cad-4311-4fd0-bc2c-15e56dc676c3"
      },
      "execution_count": null,
      "outputs": [
        {
          "output_type": "execute_result",
          "data": {
            "text/plain": [
              "0         53\n",
              "1         53\n",
              "2         33\n",
              "3         30\n",
              "4         30\n",
              "          ..\n",
              "878044    15\n",
              "878045     1\n",
              "878046     1\n",
              "878047     1\n",
              "878048     1\n",
              "Name: minute, Length: 878049, dtype: int64"
            ]
          },
          "metadata": {},
          "execution_count": 73
        }
      ]
    },
    {
      "cell_type": "code",
      "source": [
        "data_test.pop('minute')"
      ],
      "metadata": {
        "colab": {
          "base_uri": "https://localhost:8080/"
        },
        "id": "k4zjXFfKU2Ui",
        "outputId": "acf0e1b7-b262-4f3d-c700-35fb4f693ccf"
      },
      "execution_count": null,
      "outputs": [
        {
          "output_type": "execute_result",
          "data": {
            "text/plain": [
              "0         59\n",
              "1         51\n",
              "2         50\n",
              "3         45\n",
              "4         45\n",
              "          ..\n",
              "884257     1\n",
              "884258     1\n",
              "884259     1\n",
              "884260     1\n",
              "884261     1\n",
              "Name: minute, Length: 884262, dtype: int64"
            ]
          },
          "metadata": {},
          "execution_count": 74
        }
      ]
    },
    {
      "cell_type": "code",
      "source": [
        "data_train.pop('hour')"
      ],
      "metadata": {
        "colab": {
          "base_uri": "https://localhost:8080/"
        },
        "id": "C3pAnzvUU43m",
        "outputId": "62e8520a-cbae-4d69-b8fc-7d0386a1ab30"
      },
      "execution_count": null,
      "outputs": [
        {
          "output_type": "execute_result",
          "data": {
            "text/plain": [
              "0         23\n",
              "1         23\n",
              "2         23\n",
              "3         23\n",
              "4         23\n",
              "          ..\n",
              "878044     0\n",
              "878045     0\n",
              "878046     0\n",
              "878047     0\n",
              "878048     0\n",
              "Name: hour, Length: 878049, dtype: int64"
            ]
          },
          "metadata": {},
          "execution_count": 75
        }
      ]
    },
    {
      "cell_type": "code",
      "source": [
        "data_test.pop('hour')"
      ],
      "metadata": {
        "colab": {
          "base_uri": "https://localhost:8080/"
        },
        "id": "xHCd0ZhlU8OK",
        "outputId": "3701e9ea-2cd4-4a83-81d0-c61edf7dc90a"
      },
      "execution_count": null,
      "outputs": [
        {
          "output_type": "execute_result",
          "data": {
            "text/plain": [
              "0         23\n",
              "1         23\n",
              "2         23\n",
              "3         23\n",
              "4         23\n",
              "          ..\n",
              "884257     0\n",
              "884258     0\n",
              "884259     0\n",
              "884260     0\n",
              "884261     0\n",
              "Name: hour, Length: 884262, dtype: int64"
            ]
          },
          "metadata": {},
          "execution_count": 76
        }
      ]
    },
    {
      "cell_type": "code",
      "source": [
        "data_train.pop('Dates')"
      ],
      "metadata": {
        "colab": {
          "base_uri": "https://localhost:8080/"
        },
        "id": "SHQf57jRU_9h",
        "outputId": "20fbab33-e544-4c27-ddee-9152676d94ec"
      },
      "execution_count": null,
      "outputs": [
        {
          "output_type": "execute_result",
          "data": {
            "text/plain": [
              "0         2015-05-13 23:53:00\n",
              "1         2015-05-13 23:53:00\n",
              "2         2015-05-13 23:33:00\n",
              "3         2015-05-13 23:30:00\n",
              "4         2015-05-13 23:30:00\n",
              "                 ...         \n",
              "878044    2003-01-06 00:15:00\n",
              "878045    2003-01-06 00:01:00\n",
              "878046    2003-01-06 00:01:00\n",
              "878047    2003-01-06 00:01:00\n",
              "878048    2003-01-06 00:01:00\n",
              "Name: Dates, Length: 878049, dtype: object"
            ]
          },
          "metadata": {},
          "execution_count": 77
        }
      ]
    },
    {
      "cell_type": "code",
      "source": [
        "data_test.pop('Dates')"
      ],
      "metadata": {
        "colab": {
          "base_uri": "https://localhost:8080/"
        },
        "id": "NRIQCS6GVCOW",
        "outputId": "aee25a9c-9e34-4b7c-e3c6-a1673e291b92"
      },
      "execution_count": null,
      "outputs": [
        {
          "output_type": "execute_result",
          "data": {
            "text/plain": [
              "0         2015-05-10 23:59:00\n",
              "1         2015-05-10 23:51:00\n",
              "2         2015-05-10 23:50:00\n",
              "3         2015-05-10 23:45:00\n",
              "4         2015-05-10 23:45:00\n",
              "                 ...         \n",
              "884257    2003-01-01 00:01:00\n",
              "884258    2003-01-01 00:01:00\n",
              "884259    2003-01-01 00:01:00\n",
              "884260    2003-01-01 00:01:00\n",
              "884261    2003-01-01 00:01:00\n",
              "Name: Dates, Length: 884262, dtype: object"
            ]
          },
          "metadata": {},
          "execution_count": 78
        }
      ]
    },
    {
      "cell_type": "code",
      "source": [
        "data_train"
      ],
      "metadata": {
        "colab": {
          "base_uri": "https://localhost:8080/",
          "height": 419
        },
        "id": "MX2X9QmUVEwi",
        "outputId": "c8c8bab1-1d89-4190-ce2e-635dd71ff5ef"
      },
      "execution_count": null,
      "outputs": [
        {
          "output_type": "execute_result",
          "data": {
            "text/plain": [
              "                      Category  Descript  DayOfWeek  PdDistrict  Resolution  \\\n",
              "0                     WARRANTS       866          6           4           0   \n",
              "1               OTHER OFFENSES       810          6           4           0   \n",
              "2               OTHER OFFENSES       810          6           4           0   \n",
              "3                LARCENY/THEFT       404          6           4          11   \n",
              "4                LARCENY/THEFT       404          6           5          11   \n",
              "...                        ...       ...        ...         ...         ...   \n",
              "878044                 ROBBERY       661          1           8          11   \n",
              "878045           LARCENY/THEFT       404          1           2          11   \n",
              "878046           LARCENY/THEFT       404          1           7          11   \n",
              "878047               VANDALISM       496          1           7          11   \n",
              "878048  FORGERY/COUNTERFEITING       204          1           0          11   \n",
              "\n",
              "        Catid  year  month  day  \n",
              "0           0  2015      5   13  \n",
              "1           0  2015      5   13  \n",
              "2           0  2015      5   13  \n",
              "3           0  2015      5   13  \n",
              "4           0  2015      5   13  \n",
              "...       ...   ...    ...  ...  \n",
              "878044      1  2003      1    6  \n",
              "878045      0  2003      1    6  \n",
              "878046      0  2003      1    6  \n",
              "878047      1  2003      1    6  \n",
              "878048      0  2003      1    6  \n",
              "\n",
              "[878049 rows x 9 columns]"
            ],
            "text/html": [
              "\n",
              "  <div id=\"df-c8b803a1-8875-4a10-b0ab-4af5a18b353a\">\n",
              "    <div class=\"colab-df-container\">\n",
              "      <div>\n",
              "<style scoped>\n",
              "    .dataframe tbody tr th:only-of-type {\n",
              "        vertical-align: middle;\n",
              "    }\n",
              "\n",
              "    .dataframe tbody tr th {\n",
              "        vertical-align: top;\n",
              "    }\n",
              "\n",
              "    .dataframe thead th {\n",
              "        text-align: right;\n",
              "    }\n",
              "</style>\n",
              "<table border=\"1\" class=\"dataframe\">\n",
              "  <thead>\n",
              "    <tr style=\"text-align: right;\">\n",
              "      <th></th>\n",
              "      <th>Category</th>\n",
              "      <th>Descript</th>\n",
              "      <th>DayOfWeek</th>\n",
              "      <th>PdDistrict</th>\n",
              "      <th>Resolution</th>\n",
              "      <th>Catid</th>\n",
              "      <th>year</th>\n",
              "      <th>month</th>\n",
              "      <th>day</th>\n",
              "    </tr>\n",
              "  </thead>\n",
              "  <tbody>\n",
              "    <tr>\n",
              "      <th>0</th>\n",
              "      <td>WARRANTS</td>\n",
              "      <td>866</td>\n",
              "      <td>6</td>\n",
              "      <td>4</td>\n",
              "      <td>0</td>\n",
              "      <td>0</td>\n",
              "      <td>2015</td>\n",
              "      <td>5</td>\n",
              "      <td>13</td>\n",
              "    </tr>\n",
              "    <tr>\n",
              "      <th>1</th>\n",
              "      <td>OTHER OFFENSES</td>\n",
              "      <td>810</td>\n",
              "      <td>6</td>\n",
              "      <td>4</td>\n",
              "      <td>0</td>\n",
              "      <td>0</td>\n",
              "      <td>2015</td>\n",
              "      <td>5</td>\n",
              "      <td>13</td>\n",
              "    </tr>\n",
              "    <tr>\n",
              "      <th>2</th>\n",
              "      <td>OTHER OFFENSES</td>\n",
              "      <td>810</td>\n",
              "      <td>6</td>\n",
              "      <td>4</td>\n",
              "      <td>0</td>\n",
              "      <td>0</td>\n",
              "      <td>2015</td>\n",
              "      <td>5</td>\n",
              "      <td>13</td>\n",
              "    </tr>\n",
              "    <tr>\n",
              "      <th>3</th>\n",
              "      <td>LARCENY/THEFT</td>\n",
              "      <td>404</td>\n",
              "      <td>6</td>\n",
              "      <td>4</td>\n",
              "      <td>11</td>\n",
              "      <td>0</td>\n",
              "      <td>2015</td>\n",
              "      <td>5</td>\n",
              "      <td>13</td>\n",
              "    </tr>\n",
              "    <tr>\n",
              "      <th>4</th>\n",
              "      <td>LARCENY/THEFT</td>\n",
              "      <td>404</td>\n",
              "      <td>6</td>\n",
              "      <td>5</td>\n",
              "      <td>11</td>\n",
              "      <td>0</td>\n",
              "      <td>2015</td>\n",
              "      <td>5</td>\n",
              "      <td>13</td>\n",
              "    </tr>\n",
              "    <tr>\n",
              "      <th>...</th>\n",
              "      <td>...</td>\n",
              "      <td>...</td>\n",
              "      <td>...</td>\n",
              "      <td>...</td>\n",
              "      <td>...</td>\n",
              "      <td>...</td>\n",
              "      <td>...</td>\n",
              "      <td>...</td>\n",
              "      <td>...</td>\n",
              "    </tr>\n",
              "    <tr>\n",
              "      <th>878044</th>\n",
              "      <td>ROBBERY</td>\n",
              "      <td>661</td>\n",
              "      <td>1</td>\n",
              "      <td>8</td>\n",
              "      <td>11</td>\n",
              "      <td>1</td>\n",
              "      <td>2003</td>\n",
              "      <td>1</td>\n",
              "      <td>6</td>\n",
              "    </tr>\n",
              "    <tr>\n",
              "      <th>878045</th>\n",
              "      <td>LARCENY/THEFT</td>\n",
              "      <td>404</td>\n",
              "      <td>1</td>\n",
              "      <td>2</td>\n",
              "      <td>11</td>\n",
              "      <td>0</td>\n",
              "      <td>2003</td>\n",
              "      <td>1</td>\n",
              "      <td>6</td>\n",
              "    </tr>\n",
              "    <tr>\n",
              "      <th>878046</th>\n",
              "      <td>LARCENY/THEFT</td>\n",
              "      <td>404</td>\n",
              "      <td>1</td>\n",
              "      <td>7</td>\n",
              "      <td>11</td>\n",
              "      <td>0</td>\n",
              "      <td>2003</td>\n",
              "      <td>1</td>\n",
              "      <td>6</td>\n",
              "    </tr>\n",
              "    <tr>\n",
              "      <th>878047</th>\n",
              "      <td>VANDALISM</td>\n",
              "      <td>496</td>\n",
              "      <td>1</td>\n",
              "      <td>7</td>\n",
              "      <td>11</td>\n",
              "      <td>1</td>\n",
              "      <td>2003</td>\n",
              "      <td>1</td>\n",
              "      <td>6</td>\n",
              "    </tr>\n",
              "    <tr>\n",
              "      <th>878048</th>\n",
              "      <td>FORGERY/COUNTERFEITING</td>\n",
              "      <td>204</td>\n",
              "      <td>1</td>\n",
              "      <td>0</td>\n",
              "      <td>11</td>\n",
              "      <td>0</td>\n",
              "      <td>2003</td>\n",
              "      <td>1</td>\n",
              "      <td>6</td>\n",
              "    </tr>\n",
              "  </tbody>\n",
              "</table>\n",
              "<p>878049 rows × 9 columns</p>\n",
              "</div>\n",
              "      <button class=\"colab-df-convert\" onclick=\"convertToInteractive('df-c8b803a1-8875-4a10-b0ab-4af5a18b353a')\"\n",
              "              title=\"Convert this dataframe to an interactive table.\"\n",
              "              style=\"display:none;\">\n",
              "        \n",
              "  <svg xmlns=\"http://www.w3.org/2000/svg\" height=\"24px\"viewBox=\"0 0 24 24\"\n",
              "       width=\"24px\">\n",
              "    <path d=\"M0 0h24v24H0V0z\" fill=\"none\"/>\n",
              "    <path d=\"M18.56 5.44l.94 2.06.94-2.06 2.06-.94-2.06-.94-.94-2.06-.94 2.06-2.06.94zm-11 1L8.5 8.5l.94-2.06 2.06-.94-2.06-.94L8.5 2.5l-.94 2.06-2.06.94zm10 10l.94 2.06.94-2.06 2.06-.94-2.06-.94-.94-2.06-.94 2.06-2.06.94z\"/><path d=\"M17.41 7.96l-1.37-1.37c-.4-.4-.92-.59-1.43-.59-.52 0-1.04.2-1.43.59L10.3 9.45l-7.72 7.72c-.78.78-.78 2.05 0 2.83L4 21.41c.39.39.9.59 1.41.59.51 0 1.02-.2 1.41-.59l7.78-7.78 2.81-2.81c.8-.78.8-2.07 0-2.86zM5.41 20L4 18.59l7.72-7.72 1.47 1.35L5.41 20z\"/>\n",
              "  </svg>\n",
              "      </button>\n",
              "      \n",
              "  <style>\n",
              "    .colab-df-container {\n",
              "      display:flex;\n",
              "      flex-wrap:wrap;\n",
              "      gap: 12px;\n",
              "    }\n",
              "\n",
              "    .colab-df-convert {\n",
              "      background-color: #E8F0FE;\n",
              "      border: none;\n",
              "      border-radius: 50%;\n",
              "      cursor: pointer;\n",
              "      display: none;\n",
              "      fill: #1967D2;\n",
              "      height: 32px;\n",
              "      padding: 0 0 0 0;\n",
              "      width: 32px;\n",
              "    }\n",
              "\n",
              "    .colab-df-convert:hover {\n",
              "      background-color: #E2EBFA;\n",
              "      box-shadow: 0px 1px 2px rgba(60, 64, 67, 0.3), 0px 1px 3px 1px rgba(60, 64, 67, 0.15);\n",
              "      fill: #174EA6;\n",
              "    }\n",
              "\n",
              "    [theme=dark] .colab-df-convert {\n",
              "      background-color: #3B4455;\n",
              "      fill: #D2E3FC;\n",
              "    }\n",
              "\n",
              "    [theme=dark] .colab-df-convert:hover {\n",
              "      background-color: #434B5C;\n",
              "      box-shadow: 0px 1px 3px 1px rgba(0, 0, 0, 0.15);\n",
              "      filter: drop-shadow(0px 1px 2px rgba(0, 0, 0, 0.3));\n",
              "      fill: #FFFFFF;\n",
              "    }\n",
              "  </style>\n",
              "\n",
              "      <script>\n",
              "        const buttonEl =\n",
              "          document.querySelector('#df-c8b803a1-8875-4a10-b0ab-4af5a18b353a button.colab-df-convert');\n",
              "        buttonEl.style.display =\n",
              "          google.colab.kernel.accessAllowed ? 'block' : 'none';\n",
              "\n",
              "        async function convertToInteractive(key) {\n",
              "          const element = document.querySelector('#df-c8b803a1-8875-4a10-b0ab-4af5a18b353a');\n",
              "          const dataTable =\n",
              "            await google.colab.kernel.invokeFunction('convertToInteractive',\n",
              "                                                     [key], {});\n",
              "          if (!dataTable) return;\n",
              "\n",
              "          const docLinkHtml = 'Like what you see? Visit the ' +\n",
              "            '<a target=\"_blank\" href=https://colab.research.google.com/notebooks/data_table.ipynb>data table notebook</a>'\n",
              "            + ' to learn more about interactive tables.';\n",
              "          element.innerHTML = '';\n",
              "          dataTable['output_type'] = 'display_data';\n",
              "          await google.colab.output.renderOutput(dataTable, element);\n",
              "          const docLink = document.createElement('div');\n",
              "          docLink.innerHTML = docLinkHtml;\n",
              "          element.appendChild(docLink);\n",
              "        }\n",
              "      </script>\n",
              "    </div>\n",
              "  </div>\n",
              "  "
            ]
          },
          "metadata": {},
          "execution_count": 79
        }
      ]
    },
    {
      "cell_type": "code",
      "source": [
        "for i in ['DayOfWeek','PdDistrict','Descript','Resolution','Category']:\n",
        "    data_train[i] = prepro.LabelEncoder().fit_transform(data_train[i])\n",
        "    if i not in ['Category']:\n",
        "        data_train[i] = prepro.LabelEncoder().fit_transform(data_train[i])"
      ],
      "metadata": {
        "id": "m56rJbvbb-4p"
      },
      "execution_count": null,
      "outputs": []
    },
    {
      "cell_type": "code",
      "source": [
        "data_train"
      ],
      "metadata": {
        "colab": {
          "base_uri": "https://localhost:8080/",
          "height": 419
        },
        "id": "fGJPizlKcGwI",
        "outputId": "709b8e6f-3db0-4205-a53e-3961f5c5aeff"
      },
      "execution_count": null,
      "outputs": [
        {
          "output_type": "execute_result",
          "data": {
            "text/plain": [
              "        Category  Descript  DayOfWeek  PdDistrict  Resolution  Catid  year  \\\n",
              "0             37       866          6           4           0      0  2015   \n",
              "1             21       810          6           4           0      0  2015   \n",
              "2             21       810          6           4           0      0  2015   \n",
              "3             16       404          6           4          11      0  2015   \n",
              "4             16       404          6           5          11      0  2015   \n",
              "...          ...       ...        ...         ...         ...    ...   ...   \n",
              "878044        25       661          1           8          11      1  2003   \n",
              "878045        16       404          1           2          11      0  2003   \n",
              "878046        16       404          1           7          11      0  2003   \n",
              "878047        35       496          1           7          11      1  2003   \n",
              "878048        12       204          1           0          11      0  2003   \n",
              "\n",
              "        month  day  \n",
              "0           5   13  \n",
              "1           5   13  \n",
              "2           5   13  \n",
              "3           5   13  \n",
              "4           5   13  \n",
              "...       ...  ...  \n",
              "878044      1    6  \n",
              "878045      1    6  \n",
              "878046      1    6  \n",
              "878047      1    6  \n",
              "878048      1    6  \n",
              "\n",
              "[878049 rows x 9 columns]"
            ],
            "text/html": [
              "\n",
              "  <div id=\"df-19f28805-b0c4-4426-9108-069a367ee9ad\">\n",
              "    <div class=\"colab-df-container\">\n",
              "      <div>\n",
              "<style scoped>\n",
              "    .dataframe tbody tr th:only-of-type {\n",
              "        vertical-align: middle;\n",
              "    }\n",
              "\n",
              "    .dataframe tbody tr th {\n",
              "        vertical-align: top;\n",
              "    }\n",
              "\n",
              "    .dataframe thead th {\n",
              "        text-align: right;\n",
              "    }\n",
              "</style>\n",
              "<table border=\"1\" class=\"dataframe\">\n",
              "  <thead>\n",
              "    <tr style=\"text-align: right;\">\n",
              "      <th></th>\n",
              "      <th>Category</th>\n",
              "      <th>Descript</th>\n",
              "      <th>DayOfWeek</th>\n",
              "      <th>PdDistrict</th>\n",
              "      <th>Resolution</th>\n",
              "      <th>Catid</th>\n",
              "      <th>year</th>\n",
              "      <th>month</th>\n",
              "      <th>day</th>\n",
              "    </tr>\n",
              "  </thead>\n",
              "  <tbody>\n",
              "    <tr>\n",
              "      <th>0</th>\n",
              "      <td>37</td>\n",
              "      <td>866</td>\n",
              "      <td>6</td>\n",
              "      <td>4</td>\n",
              "      <td>0</td>\n",
              "      <td>0</td>\n",
              "      <td>2015</td>\n",
              "      <td>5</td>\n",
              "      <td>13</td>\n",
              "    </tr>\n",
              "    <tr>\n",
              "      <th>1</th>\n",
              "      <td>21</td>\n",
              "      <td>810</td>\n",
              "      <td>6</td>\n",
              "      <td>4</td>\n",
              "      <td>0</td>\n",
              "      <td>0</td>\n",
              "      <td>2015</td>\n",
              "      <td>5</td>\n",
              "      <td>13</td>\n",
              "    </tr>\n",
              "    <tr>\n",
              "      <th>2</th>\n",
              "      <td>21</td>\n",
              "      <td>810</td>\n",
              "      <td>6</td>\n",
              "      <td>4</td>\n",
              "      <td>0</td>\n",
              "      <td>0</td>\n",
              "      <td>2015</td>\n",
              "      <td>5</td>\n",
              "      <td>13</td>\n",
              "    </tr>\n",
              "    <tr>\n",
              "      <th>3</th>\n",
              "      <td>16</td>\n",
              "      <td>404</td>\n",
              "      <td>6</td>\n",
              "      <td>4</td>\n",
              "      <td>11</td>\n",
              "      <td>0</td>\n",
              "      <td>2015</td>\n",
              "      <td>5</td>\n",
              "      <td>13</td>\n",
              "    </tr>\n",
              "    <tr>\n",
              "      <th>4</th>\n",
              "      <td>16</td>\n",
              "      <td>404</td>\n",
              "      <td>6</td>\n",
              "      <td>5</td>\n",
              "      <td>11</td>\n",
              "      <td>0</td>\n",
              "      <td>2015</td>\n",
              "      <td>5</td>\n",
              "      <td>13</td>\n",
              "    </tr>\n",
              "    <tr>\n",
              "      <th>...</th>\n",
              "      <td>...</td>\n",
              "      <td>...</td>\n",
              "      <td>...</td>\n",
              "      <td>...</td>\n",
              "      <td>...</td>\n",
              "      <td>...</td>\n",
              "      <td>...</td>\n",
              "      <td>...</td>\n",
              "      <td>...</td>\n",
              "    </tr>\n",
              "    <tr>\n",
              "      <th>878044</th>\n",
              "      <td>25</td>\n",
              "      <td>661</td>\n",
              "      <td>1</td>\n",
              "      <td>8</td>\n",
              "      <td>11</td>\n",
              "      <td>1</td>\n",
              "      <td>2003</td>\n",
              "      <td>1</td>\n",
              "      <td>6</td>\n",
              "    </tr>\n",
              "    <tr>\n",
              "      <th>878045</th>\n",
              "      <td>16</td>\n",
              "      <td>404</td>\n",
              "      <td>1</td>\n",
              "      <td>2</td>\n",
              "      <td>11</td>\n",
              "      <td>0</td>\n",
              "      <td>2003</td>\n",
              "      <td>1</td>\n",
              "      <td>6</td>\n",
              "    </tr>\n",
              "    <tr>\n",
              "      <th>878046</th>\n",
              "      <td>16</td>\n",
              "      <td>404</td>\n",
              "      <td>1</td>\n",
              "      <td>7</td>\n",
              "      <td>11</td>\n",
              "      <td>0</td>\n",
              "      <td>2003</td>\n",
              "      <td>1</td>\n",
              "      <td>6</td>\n",
              "    </tr>\n",
              "    <tr>\n",
              "      <th>878047</th>\n",
              "      <td>35</td>\n",
              "      <td>496</td>\n",
              "      <td>1</td>\n",
              "      <td>7</td>\n",
              "      <td>11</td>\n",
              "      <td>1</td>\n",
              "      <td>2003</td>\n",
              "      <td>1</td>\n",
              "      <td>6</td>\n",
              "    </tr>\n",
              "    <tr>\n",
              "      <th>878048</th>\n",
              "      <td>12</td>\n",
              "      <td>204</td>\n",
              "      <td>1</td>\n",
              "      <td>0</td>\n",
              "      <td>11</td>\n",
              "      <td>0</td>\n",
              "      <td>2003</td>\n",
              "      <td>1</td>\n",
              "      <td>6</td>\n",
              "    </tr>\n",
              "  </tbody>\n",
              "</table>\n",
              "<p>878049 rows × 9 columns</p>\n",
              "</div>\n",
              "      <button class=\"colab-df-convert\" onclick=\"convertToInteractive('df-19f28805-b0c4-4426-9108-069a367ee9ad')\"\n",
              "              title=\"Convert this dataframe to an interactive table.\"\n",
              "              style=\"display:none;\">\n",
              "        \n",
              "  <svg xmlns=\"http://www.w3.org/2000/svg\" height=\"24px\"viewBox=\"0 0 24 24\"\n",
              "       width=\"24px\">\n",
              "    <path d=\"M0 0h24v24H0V0z\" fill=\"none\"/>\n",
              "    <path d=\"M18.56 5.44l.94 2.06.94-2.06 2.06-.94-2.06-.94-.94-2.06-.94 2.06-2.06.94zm-11 1L8.5 8.5l.94-2.06 2.06-.94-2.06-.94L8.5 2.5l-.94 2.06-2.06.94zm10 10l.94 2.06.94-2.06 2.06-.94-2.06-.94-.94-2.06-.94 2.06-2.06.94z\"/><path d=\"M17.41 7.96l-1.37-1.37c-.4-.4-.92-.59-1.43-.59-.52 0-1.04.2-1.43.59L10.3 9.45l-7.72 7.72c-.78.78-.78 2.05 0 2.83L4 21.41c.39.39.9.59 1.41.59.51 0 1.02-.2 1.41-.59l7.78-7.78 2.81-2.81c.8-.78.8-2.07 0-2.86zM5.41 20L4 18.59l7.72-7.72 1.47 1.35L5.41 20z\"/>\n",
              "  </svg>\n",
              "      </button>\n",
              "      \n",
              "  <style>\n",
              "    .colab-df-container {\n",
              "      display:flex;\n",
              "      flex-wrap:wrap;\n",
              "      gap: 12px;\n",
              "    }\n",
              "\n",
              "    .colab-df-convert {\n",
              "      background-color: #E8F0FE;\n",
              "      border: none;\n",
              "      border-radius: 50%;\n",
              "      cursor: pointer;\n",
              "      display: none;\n",
              "      fill: #1967D2;\n",
              "      height: 32px;\n",
              "      padding: 0 0 0 0;\n",
              "      width: 32px;\n",
              "    }\n",
              "\n",
              "    .colab-df-convert:hover {\n",
              "      background-color: #E2EBFA;\n",
              "      box-shadow: 0px 1px 2px rgba(60, 64, 67, 0.3), 0px 1px 3px 1px rgba(60, 64, 67, 0.15);\n",
              "      fill: #174EA6;\n",
              "    }\n",
              "\n",
              "    [theme=dark] .colab-df-convert {\n",
              "      background-color: #3B4455;\n",
              "      fill: #D2E3FC;\n",
              "    }\n",
              "\n",
              "    [theme=dark] .colab-df-convert:hover {\n",
              "      background-color: #434B5C;\n",
              "      box-shadow: 0px 1px 3px 1px rgba(0, 0, 0, 0.15);\n",
              "      filter: drop-shadow(0px 1px 2px rgba(0, 0, 0, 0.3));\n",
              "      fill: #FFFFFF;\n",
              "    }\n",
              "  </style>\n",
              "\n",
              "      <script>\n",
              "        const buttonEl =\n",
              "          document.querySelector('#df-19f28805-b0c4-4426-9108-069a367ee9ad button.colab-df-convert');\n",
              "        buttonEl.style.display =\n",
              "          google.colab.kernel.accessAllowed ? 'block' : 'none';\n",
              "\n",
              "        async function convertToInteractive(key) {\n",
              "          const element = document.querySelector('#df-19f28805-b0c4-4426-9108-069a367ee9ad');\n",
              "          const dataTable =\n",
              "            await google.colab.kernel.invokeFunction('convertToInteractive',\n",
              "                                                     [key], {});\n",
              "          if (!dataTable) return;\n",
              "\n",
              "          const docLinkHtml = 'Like what you see? Visit the ' +\n",
              "            '<a target=\"_blank\" href=https://colab.research.google.com/notebooks/data_table.ipynb>data table notebook</a>'\n",
              "            + ' to learn more about interactive tables.';\n",
              "          element.innerHTML = '';\n",
              "          dataTable['output_type'] = 'display_data';\n",
              "          await google.colab.output.renderOutput(dataTable, element);\n",
              "          const docLink = document.createElement('div');\n",
              "          docLink.innerHTML = docLinkHtml;\n",
              "          element.appendChild(docLink);\n",
              "        }\n",
              "      </script>\n",
              "    </div>\n",
              "  </div>\n",
              "  "
            ]
          },
          "metadata": {},
          "execution_count": 81
        }
      ]
    },
    {
      "cell_type": "code",
      "source": [
        "data_test"
      ],
      "metadata": {
        "colab": {
          "base_uri": "https://localhost:8080/",
          "height": 419
        },
        "id": "tmY-vGgJVFo0",
        "outputId": "b7e3138e-3550-496c-b7e8-ed91cb2ae1fd"
      },
      "execution_count": null,
      "outputs": [
        {
          "output_type": "execute_result",
          "data": {
            "text/plain": [
              "            Id  DayOfWeek  PdDistrict  year  month  day\n",
              "0            0          3           0  2015      5   10\n",
              "1            1          3           0  2015      5   10\n",
              "2            2          3           4  2015      5   10\n",
              "3            3          3           2  2015      5   10\n",
              "4            4          3           2  2015      5   10\n",
              "...        ...        ...         ...   ...    ...  ...\n",
              "884257  884257          6           3  2003      1    1\n",
              "884258  884258          6           4  2003      1    1\n",
              "884259  884259          6           2  2003      1    1\n",
              "884260  884260          6           0  2003      1    1\n",
              "884261  884261          6           8  2003      1    1\n",
              "\n",
              "[884262 rows x 6 columns]"
            ],
            "text/html": [
              "\n",
              "  <div id=\"df-48e33781-cbad-4662-bd43-f056b202f420\">\n",
              "    <div class=\"colab-df-container\">\n",
              "      <div>\n",
              "<style scoped>\n",
              "    .dataframe tbody tr th:only-of-type {\n",
              "        vertical-align: middle;\n",
              "    }\n",
              "\n",
              "    .dataframe tbody tr th {\n",
              "        vertical-align: top;\n",
              "    }\n",
              "\n",
              "    .dataframe thead th {\n",
              "        text-align: right;\n",
              "    }\n",
              "</style>\n",
              "<table border=\"1\" class=\"dataframe\">\n",
              "  <thead>\n",
              "    <tr style=\"text-align: right;\">\n",
              "      <th></th>\n",
              "      <th>Id</th>\n",
              "      <th>DayOfWeek</th>\n",
              "      <th>PdDistrict</th>\n",
              "      <th>year</th>\n",
              "      <th>month</th>\n",
              "      <th>day</th>\n",
              "    </tr>\n",
              "  </thead>\n",
              "  <tbody>\n",
              "    <tr>\n",
              "      <th>0</th>\n",
              "      <td>0</td>\n",
              "      <td>3</td>\n",
              "      <td>0</td>\n",
              "      <td>2015</td>\n",
              "      <td>5</td>\n",
              "      <td>10</td>\n",
              "    </tr>\n",
              "    <tr>\n",
              "      <th>1</th>\n",
              "      <td>1</td>\n",
              "      <td>3</td>\n",
              "      <td>0</td>\n",
              "      <td>2015</td>\n",
              "      <td>5</td>\n",
              "      <td>10</td>\n",
              "    </tr>\n",
              "    <tr>\n",
              "      <th>2</th>\n",
              "      <td>2</td>\n",
              "      <td>3</td>\n",
              "      <td>4</td>\n",
              "      <td>2015</td>\n",
              "      <td>5</td>\n",
              "      <td>10</td>\n",
              "    </tr>\n",
              "    <tr>\n",
              "      <th>3</th>\n",
              "      <td>3</td>\n",
              "      <td>3</td>\n",
              "      <td>2</td>\n",
              "      <td>2015</td>\n",
              "      <td>5</td>\n",
              "      <td>10</td>\n",
              "    </tr>\n",
              "    <tr>\n",
              "      <th>4</th>\n",
              "      <td>4</td>\n",
              "      <td>3</td>\n",
              "      <td>2</td>\n",
              "      <td>2015</td>\n",
              "      <td>5</td>\n",
              "      <td>10</td>\n",
              "    </tr>\n",
              "    <tr>\n",
              "      <th>...</th>\n",
              "      <td>...</td>\n",
              "      <td>...</td>\n",
              "      <td>...</td>\n",
              "      <td>...</td>\n",
              "      <td>...</td>\n",
              "      <td>...</td>\n",
              "    </tr>\n",
              "    <tr>\n",
              "      <th>884257</th>\n",
              "      <td>884257</td>\n",
              "      <td>6</td>\n",
              "      <td>3</td>\n",
              "      <td>2003</td>\n",
              "      <td>1</td>\n",
              "      <td>1</td>\n",
              "    </tr>\n",
              "    <tr>\n",
              "      <th>884258</th>\n",
              "      <td>884258</td>\n",
              "      <td>6</td>\n",
              "      <td>4</td>\n",
              "      <td>2003</td>\n",
              "      <td>1</td>\n",
              "      <td>1</td>\n",
              "    </tr>\n",
              "    <tr>\n",
              "      <th>884259</th>\n",
              "      <td>884259</td>\n",
              "      <td>6</td>\n",
              "      <td>2</td>\n",
              "      <td>2003</td>\n",
              "      <td>1</td>\n",
              "      <td>1</td>\n",
              "    </tr>\n",
              "    <tr>\n",
              "      <th>884260</th>\n",
              "      <td>884260</td>\n",
              "      <td>6</td>\n",
              "      <td>0</td>\n",
              "      <td>2003</td>\n",
              "      <td>1</td>\n",
              "      <td>1</td>\n",
              "    </tr>\n",
              "    <tr>\n",
              "      <th>884261</th>\n",
              "      <td>884261</td>\n",
              "      <td>6</td>\n",
              "      <td>8</td>\n",
              "      <td>2003</td>\n",
              "      <td>1</td>\n",
              "      <td>1</td>\n",
              "    </tr>\n",
              "  </tbody>\n",
              "</table>\n",
              "<p>884262 rows × 6 columns</p>\n",
              "</div>\n",
              "      <button class=\"colab-df-convert\" onclick=\"convertToInteractive('df-48e33781-cbad-4662-bd43-f056b202f420')\"\n",
              "              title=\"Convert this dataframe to an interactive table.\"\n",
              "              style=\"display:none;\">\n",
              "        \n",
              "  <svg xmlns=\"http://www.w3.org/2000/svg\" height=\"24px\"viewBox=\"0 0 24 24\"\n",
              "       width=\"24px\">\n",
              "    <path d=\"M0 0h24v24H0V0z\" fill=\"none\"/>\n",
              "    <path d=\"M18.56 5.44l.94 2.06.94-2.06 2.06-.94-2.06-.94-.94-2.06-.94 2.06-2.06.94zm-11 1L8.5 8.5l.94-2.06 2.06-.94-2.06-.94L8.5 2.5l-.94 2.06-2.06.94zm10 10l.94 2.06.94-2.06 2.06-.94-2.06-.94-.94-2.06-.94 2.06-2.06.94z\"/><path d=\"M17.41 7.96l-1.37-1.37c-.4-.4-.92-.59-1.43-.59-.52 0-1.04.2-1.43.59L10.3 9.45l-7.72 7.72c-.78.78-.78 2.05 0 2.83L4 21.41c.39.39.9.59 1.41.59.51 0 1.02-.2 1.41-.59l7.78-7.78 2.81-2.81c.8-.78.8-2.07 0-2.86zM5.41 20L4 18.59l7.72-7.72 1.47 1.35L5.41 20z\"/>\n",
              "  </svg>\n",
              "      </button>\n",
              "      \n",
              "  <style>\n",
              "    .colab-df-container {\n",
              "      display:flex;\n",
              "      flex-wrap:wrap;\n",
              "      gap: 12px;\n",
              "    }\n",
              "\n",
              "    .colab-df-convert {\n",
              "      background-color: #E8F0FE;\n",
              "      border: none;\n",
              "      border-radius: 50%;\n",
              "      cursor: pointer;\n",
              "      display: none;\n",
              "      fill: #1967D2;\n",
              "      height: 32px;\n",
              "      padding: 0 0 0 0;\n",
              "      width: 32px;\n",
              "    }\n",
              "\n",
              "    .colab-df-convert:hover {\n",
              "      background-color: #E2EBFA;\n",
              "      box-shadow: 0px 1px 2px rgba(60, 64, 67, 0.3), 0px 1px 3px 1px rgba(60, 64, 67, 0.15);\n",
              "      fill: #174EA6;\n",
              "    }\n",
              "\n",
              "    [theme=dark] .colab-df-convert {\n",
              "      background-color: #3B4455;\n",
              "      fill: #D2E3FC;\n",
              "    }\n",
              "\n",
              "    [theme=dark] .colab-df-convert:hover {\n",
              "      background-color: #434B5C;\n",
              "      box-shadow: 0px 1px 3px 1px rgba(0, 0, 0, 0.15);\n",
              "      filter: drop-shadow(0px 1px 2px rgba(0, 0, 0, 0.3));\n",
              "      fill: #FFFFFF;\n",
              "    }\n",
              "  </style>\n",
              "\n",
              "      <script>\n",
              "        const buttonEl =\n",
              "          document.querySelector('#df-48e33781-cbad-4662-bd43-f056b202f420 button.colab-df-convert');\n",
              "        buttonEl.style.display =\n",
              "          google.colab.kernel.accessAllowed ? 'block' : 'none';\n",
              "\n",
              "        async function convertToInteractive(key) {\n",
              "          const element = document.querySelector('#df-48e33781-cbad-4662-bd43-f056b202f420');\n",
              "          const dataTable =\n",
              "            await google.colab.kernel.invokeFunction('convertToInteractive',\n",
              "                                                     [key], {});\n",
              "          if (!dataTable) return;\n",
              "\n",
              "          const docLinkHtml = 'Like what you see? Visit the ' +\n",
              "            '<a target=\"_blank\" href=https://colab.research.google.com/notebooks/data_table.ipynb>data table notebook</a>'\n",
              "            + ' to learn more about interactive tables.';\n",
              "          element.innerHTML = '';\n",
              "          dataTable['output_type'] = 'display_data';\n",
              "          await google.colab.output.renderOutput(dataTable, element);\n",
              "          const docLink = document.createElement('div');\n",
              "          docLink.innerHTML = docLinkHtml;\n",
              "          element.appendChild(docLink);\n",
              "        }\n",
              "      </script>\n",
              "    </div>\n",
              "  </div>\n",
              "  "
            ]
          },
          "metadata": {},
          "execution_count": 82
        }
      ]
    },
    {
      "cell_type": "code",
      "source": [
        "data_train.info()"
      ],
      "metadata": {
        "colab": {
          "base_uri": "https://localhost:8080/"
        },
        "id": "ZUAlNrYvVIxF",
        "outputId": "c9df7f19-41cc-4377-a35c-6ad582509edc"
      },
      "execution_count": null,
      "outputs": [
        {
          "output_type": "stream",
          "name": "stdout",
          "text": [
            "<class 'pandas.core.frame.DataFrame'>\n",
            "RangeIndex: 878049 entries, 0 to 878048\n",
            "Data columns (total 9 columns):\n",
            " #   Column      Non-Null Count   Dtype\n",
            "---  ------      --------------   -----\n",
            " 0   Category    878049 non-null  int64\n",
            " 1   Descript    878049 non-null  int64\n",
            " 2   DayOfWeek   878049 non-null  int64\n",
            " 3   PdDistrict  878049 non-null  int64\n",
            " 4   Resolution  878049 non-null  int64\n",
            " 5   Catid       878049 non-null  int64\n",
            " 6   year        878049 non-null  int64\n",
            " 7   month       878049 non-null  int64\n",
            " 8   day         878049 non-null  int64\n",
            "dtypes: int64(9)\n",
            "memory usage: 60.3 MB\n"
          ]
        }
      ]
    },
    {
      "cell_type": "code",
      "source": [
        "data_test.info()"
      ],
      "metadata": {
        "colab": {
          "base_uri": "https://localhost:8080/"
        },
        "id": "9rrFjuX9VMlw",
        "outputId": "fea92d29-9a11-46f2-e8fe-24287901e307"
      },
      "execution_count": null,
      "outputs": [
        {
          "output_type": "stream",
          "name": "stdout",
          "text": [
            "<class 'pandas.core.frame.DataFrame'>\n",
            "RangeIndex: 884262 entries, 0 to 884261\n",
            "Data columns (total 6 columns):\n",
            " #   Column      Non-Null Count   Dtype\n",
            "---  ------      --------------   -----\n",
            " 0   Id          884262 non-null  int64\n",
            " 1   DayOfWeek   884262 non-null  int64\n",
            " 2   PdDistrict  884262 non-null  int64\n",
            " 3   year        884262 non-null  int64\n",
            " 4   month       884262 non-null  int64\n",
            " 5   day         884262 non-null  int64\n",
            "dtypes: int64(6)\n",
            "memory usage: 40.5 MB\n"
          ]
        }
      ]
    },
    {
      "cell_type": "code",
      "source": [
        "#do not run\n",
        "data_train['dataset'] = 'train'\n",
        "data_test['dataset'] = 'test'"
      ],
      "metadata": {
        "id": "DTY7bLFeVRBQ"
      },
      "execution_count": null,
      "outputs": []
    },
    {
      "cell_type": "code",
      "source": [
        "data=data_train\n",
        "data"
      ],
      "metadata": {
        "colab": {
          "base_uri": "https://localhost:8080/",
          "height": 419
        },
        "id": "ExIKSRcoVUhQ",
        "outputId": "9f979179-5894-4c26-8ae4-72bd1245bc60"
      },
      "execution_count": null,
      "outputs": [
        {
          "output_type": "execute_result",
          "data": {
            "text/plain": [
              "        Category  Descript  DayOfWeek  PdDistrict  Resolution  Catid  year  \\\n",
              "0             37       866          6           4           0      0  2015   \n",
              "1             21       810          6           4           0      0  2015   \n",
              "2             21       810          6           4           0      0  2015   \n",
              "3             16       404          6           4          11      0  2015   \n",
              "4             16       404          6           5          11      0  2015   \n",
              "...          ...       ...        ...         ...         ...    ...   ...   \n",
              "878044        25       661          1           8          11      1  2003   \n",
              "878045        16       404          1           2          11      0  2003   \n",
              "878046        16       404          1           7          11      0  2003   \n",
              "878047        35       496          1           7          11      1  2003   \n",
              "878048        12       204          1           0          11      0  2003   \n",
              "\n",
              "        month  day  \n",
              "0           5   13  \n",
              "1           5   13  \n",
              "2           5   13  \n",
              "3           5   13  \n",
              "4           5   13  \n",
              "...       ...  ...  \n",
              "878044      1    6  \n",
              "878045      1    6  \n",
              "878046      1    6  \n",
              "878047      1    6  \n",
              "878048      1    6  \n",
              "\n",
              "[878049 rows x 9 columns]"
            ],
            "text/html": [
              "\n",
              "  <div id=\"df-a970ff6a-1908-4f35-a521-8e71c543a1e8\">\n",
              "    <div class=\"colab-df-container\">\n",
              "      <div>\n",
              "<style scoped>\n",
              "    .dataframe tbody tr th:only-of-type {\n",
              "        vertical-align: middle;\n",
              "    }\n",
              "\n",
              "    .dataframe tbody tr th {\n",
              "        vertical-align: top;\n",
              "    }\n",
              "\n",
              "    .dataframe thead th {\n",
              "        text-align: right;\n",
              "    }\n",
              "</style>\n",
              "<table border=\"1\" class=\"dataframe\">\n",
              "  <thead>\n",
              "    <tr style=\"text-align: right;\">\n",
              "      <th></th>\n",
              "      <th>Category</th>\n",
              "      <th>Descript</th>\n",
              "      <th>DayOfWeek</th>\n",
              "      <th>PdDistrict</th>\n",
              "      <th>Resolution</th>\n",
              "      <th>Catid</th>\n",
              "      <th>year</th>\n",
              "      <th>month</th>\n",
              "      <th>day</th>\n",
              "    </tr>\n",
              "  </thead>\n",
              "  <tbody>\n",
              "    <tr>\n",
              "      <th>0</th>\n",
              "      <td>37</td>\n",
              "      <td>866</td>\n",
              "      <td>6</td>\n",
              "      <td>4</td>\n",
              "      <td>0</td>\n",
              "      <td>0</td>\n",
              "      <td>2015</td>\n",
              "      <td>5</td>\n",
              "      <td>13</td>\n",
              "    </tr>\n",
              "    <tr>\n",
              "      <th>1</th>\n",
              "      <td>21</td>\n",
              "      <td>810</td>\n",
              "      <td>6</td>\n",
              "      <td>4</td>\n",
              "      <td>0</td>\n",
              "      <td>0</td>\n",
              "      <td>2015</td>\n",
              "      <td>5</td>\n",
              "      <td>13</td>\n",
              "    </tr>\n",
              "    <tr>\n",
              "      <th>2</th>\n",
              "      <td>21</td>\n",
              "      <td>810</td>\n",
              "      <td>6</td>\n",
              "      <td>4</td>\n",
              "      <td>0</td>\n",
              "      <td>0</td>\n",
              "      <td>2015</td>\n",
              "      <td>5</td>\n",
              "      <td>13</td>\n",
              "    </tr>\n",
              "    <tr>\n",
              "      <th>3</th>\n",
              "      <td>16</td>\n",
              "      <td>404</td>\n",
              "      <td>6</td>\n",
              "      <td>4</td>\n",
              "      <td>11</td>\n",
              "      <td>0</td>\n",
              "      <td>2015</td>\n",
              "      <td>5</td>\n",
              "      <td>13</td>\n",
              "    </tr>\n",
              "    <tr>\n",
              "      <th>4</th>\n",
              "      <td>16</td>\n",
              "      <td>404</td>\n",
              "      <td>6</td>\n",
              "      <td>5</td>\n",
              "      <td>11</td>\n",
              "      <td>0</td>\n",
              "      <td>2015</td>\n",
              "      <td>5</td>\n",
              "      <td>13</td>\n",
              "    </tr>\n",
              "    <tr>\n",
              "      <th>...</th>\n",
              "      <td>...</td>\n",
              "      <td>...</td>\n",
              "      <td>...</td>\n",
              "      <td>...</td>\n",
              "      <td>...</td>\n",
              "      <td>...</td>\n",
              "      <td>...</td>\n",
              "      <td>...</td>\n",
              "      <td>...</td>\n",
              "    </tr>\n",
              "    <tr>\n",
              "      <th>878044</th>\n",
              "      <td>25</td>\n",
              "      <td>661</td>\n",
              "      <td>1</td>\n",
              "      <td>8</td>\n",
              "      <td>11</td>\n",
              "      <td>1</td>\n",
              "      <td>2003</td>\n",
              "      <td>1</td>\n",
              "      <td>6</td>\n",
              "    </tr>\n",
              "    <tr>\n",
              "      <th>878045</th>\n",
              "      <td>16</td>\n",
              "      <td>404</td>\n",
              "      <td>1</td>\n",
              "      <td>2</td>\n",
              "      <td>11</td>\n",
              "      <td>0</td>\n",
              "      <td>2003</td>\n",
              "      <td>1</td>\n",
              "      <td>6</td>\n",
              "    </tr>\n",
              "    <tr>\n",
              "      <th>878046</th>\n",
              "      <td>16</td>\n",
              "      <td>404</td>\n",
              "      <td>1</td>\n",
              "      <td>7</td>\n",
              "      <td>11</td>\n",
              "      <td>0</td>\n",
              "      <td>2003</td>\n",
              "      <td>1</td>\n",
              "      <td>6</td>\n",
              "    </tr>\n",
              "    <tr>\n",
              "      <th>878047</th>\n",
              "      <td>35</td>\n",
              "      <td>496</td>\n",
              "      <td>1</td>\n",
              "      <td>7</td>\n",
              "      <td>11</td>\n",
              "      <td>1</td>\n",
              "      <td>2003</td>\n",
              "      <td>1</td>\n",
              "      <td>6</td>\n",
              "    </tr>\n",
              "    <tr>\n",
              "      <th>878048</th>\n",
              "      <td>12</td>\n",
              "      <td>204</td>\n",
              "      <td>1</td>\n",
              "      <td>0</td>\n",
              "      <td>11</td>\n",
              "      <td>0</td>\n",
              "      <td>2003</td>\n",
              "      <td>1</td>\n",
              "      <td>6</td>\n",
              "    </tr>\n",
              "  </tbody>\n",
              "</table>\n",
              "<p>878049 rows × 9 columns</p>\n",
              "</div>\n",
              "      <button class=\"colab-df-convert\" onclick=\"convertToInteractive('df-a970ff6a-1908-4f35-a521-8e71c543a1e8')\"\n",
              "              title=\"Convert this dataframe to an interactive table.\"\n",
              "              style=\"display:none;\">\n",
              "        \n",
              "  <svg xmlns=\"http://www.w3.org/2000/svg\" height=\"24px\"viewBox=\"0 0 24 24\"\n",
              "       width=\"24px\">\n",
              "    <path d=\"M0 0h24v24H0V0z\" fill=\"none\"/>\n",
              "    <path d=\"M18.56 5.44l.94 2.06.94-2.06 2.06-.94-2.06-.94-.94-2.06-.94 2.06-2.06.94zm-11 1L8.5 8.5l.94-2.06 2.06-.94-2.06-.94L8.5 2.5l-.94 2.06-2.06.94zm10 10l.94 2.06.94-2.06 2.06-.94-2.06-.94-.94-2.06-.94 2.06-2.06.94z\"/><path d=\"M17.41 7.96l-1.37-1.37c-.4-.4-.92-.59-1.43-.59-.52 0-1.04.2-1.43.59L10.3 9.45l-7.72 7.72c-.78.78-.78 2.05 0 2.83L4 21.41c.39.39.9.59 1.41.59.51 0 1.02-.2 1.41-.59l7.78-7.78 2.81-2.81c.8-.78.8-2.07 0-2.86zM5.41 20L4 18.59l7.72-7.72 1.47 1.35L5.41 20z\"/>\n",
              "  </svg>\n",
              "      </button>\n",
              "      \n",
              "  <style>\n",
              "    .colab-df-container {\n",
              "      display:flex;\n",
              "      flex-wrap:wrap;\n",
              "      gap: 12px;\n",
              "    }\n",
              "\n",
              "    .colab-df-convert {\n",
              "      background-color: #E8F0FE;\n",
              "      border: none;\n",
              "      border-radius: 50%;\n",
              "      cursor: pointer;\n",
              "      display: none;\n",
              "      fill: #1967D2;\n",
              "      height: 32px;\n",
              "      padding: 0 0 0 0;\n",
              "      width: 32px;\n",
              "    }\n",
              "\n",
              "    .colab-df-convert:hover {\n",
              "      background-color: #E2EBFA;\n",
              "      box-shadow: 0px 1px 2px rgba(60, 64, 67, 0.3), 0px 1px 3px 1px rgba(60, 64, 67, 0.15);\n",
              "      fill: #174EA6;\n",
              "    }\n",
              "\n",
              "    [theme=dark] .colab-df-convert {\n",
              "      background-color: #3B4455;\n",
              "      fill: #D2E3FC;\n",
              "    }\n",
              "\n",
              "    [theme=dark] .colab-df-convert:hover {\n",
              "      background-color: #434B5C;\n",
              "      box-shadow: 0px 1px 3px 1px rgba(0, 0, 0, 0.15);\n",
              "      filter: drop-shadow(0px 1px 2px rgba(0, 0, 0, 0.3));\n",
              "      fill: #FFFFFF;\n",
              "    }\n",
              "  </style>\n",
              "\n",
              "      <script>\n",
              "        const buttonEl =\n",
              "          document.querySelector('#df-a970ff6a-1908-4f35-a521-8e71c543a1e8 button.colab-df-convert');\n",
              "        buttonEl.style.display =\n",
              "          google.colab.kernel.accessAllowed ? 'block' : 'none';\n",
              "\n",
              "        async function convertToInteractive(key) {\n",
              "          const element = document.querySelector('#df-a970ff6a-1908-4f35-a521-8e71c543a1e8');\n",
              "          const dataTable =\n",
              "            await google.colab.kernel.invokeFunction('convertToInteractive',\n",
              "                                                     [key], {});\n",
              "          if (!dataTable) return;\n",
              "\n",
              "          const docLinkHtml = 'Like what you see? Visit the ' +\n",
              "            '<a target=\"_blank\" href=https://colab.research.google.com/notebooks/data_table.ipynb>data table notebook</a>'\n",
              "            + ' to learn more about interactive tables.';\n",
              "          element.innerHTML = '';\n",
              "          dataTable['output_type'] = 'display_data';\n",
              "          await google.colab.output.renderOutput(dataTable, element);\n",
              "          const docLink = document.createElement('div');\n",
              "          docLink.innerHTML = docLinkHtml;\n",
              "          element.appendChild(docLink);\n",
              "        }\n",
              "      </script>\n",
              "    </div>\n",
              "  </div>\n",
              "  "
            ]
          },
          "metadata": {},
          "execution_count": 85
        }
      ]
    },
    {
      "cell_type": "code",
      "source": [
        "#don't RUN\n",
        "data_train.pop('dataset')"
      ],
      "metadata": {
        "colab": {
          "base_uri": "https://localhost:8080/",
          "height": 494
        },
        "id": "PEeGvH8SXNTU",
        "outputId": "b991a2c6-b922-4cef-f773-914b08ad8b65"
      },
      "execution_count": null,
      "outputs": [
        {
          "output_type": "error",
          "ename": "KeyError",
          "evalue": "ignored",
          "traceback": [
            "\u001b[0;31m---------------------------------------------------------------------------\u001b[0m",
            "\u001b[0;31mKeyError\u001b[0m                                  Traceback (most recent call last)",
            "\u001b[0;32m/usr/local/lib/python3.8/dist-packages/pandas/core/indexes/base.py\u001b[0m in \u001b[0;36mget_loc\u001b[0;34m(self, key, method, tolerance)\u001b[0m\n\u001b[1;32m   3360\u001b[0m             \u001b[0;32mtry\u001b[0m\u001b[0;34m:\u001b[0m\u001b[0;34m\u001b[0m\u001b[0;34m\u001b[0m\u001b[0m\n\u001b[0;32m-> 3361\u001b[0;31m                 \u001b[0;32mreturn\u001b[0m \u001b[0mself\u001b[0m\u001b[0;34m.\u001b[0m\u001b[0m_engine\u001b[0m\u001b[0;34m.\u001b[0m\u001b[0mget_loc\u001b[0m\u001b[0;34m(\u001b[0m\u001b[0mcasted_key\u001b[0m\u001b[0;34m)\u001b[0m\u001b[0;34m\u001b[0m\u001b[0;34m\u001b[0m\u001b[0m\n\u001b[0m\u001b[1;32m   3362\u001b[0m             \u001b[0;32mexcept\u001b[0m \u001b[0mKeyError\u001b[0m \u001b[0;32mas\u001b[0m \u001b[0merr\u001b[0m\u001b[0;34m:\u001b[0m\u001b[0;34m\u001b[0m\u001b[0;34m\u001b[0m\u001b[0m\n",
            "\u001b[0;32m/usr/local/lib/python3.8/dist-packages/pandas/_libs/index.pyx\u001b[0m in \u001b[0;36mpandas._libs.index.IndexEngine.get_loc\u001b[0;34m()\u001b[0m\n",
            "\u001b[0;32m/usr/local/lib/python3.8/dist-packages/pandas/_libs/index.pyx\u001b[0m in \u001b[0;36mpandas._libs.index.IndexEngine.get_loc\u001b[0;34m()\u001b[0m\n",
            "\u001b[0;32mpandas/_libs/hashtable_class_helper.pxi\u001b[0m in \u001b[0;36mpandas._libs.hashtable.PyObjectHashTable.get_item\u001b[0;34m()\u001b[0m\n",
            "\u001b[0;32mpandas/_libs/hashtable_class_helper.pxi\u001b[0m in \u001b[0;36mpandas._libs.hashtable.PyObjectHashTable.get_item\u001b[0;34m()\u001b[0m\n",
            "\u001b[0;31mKeyError\u001b[0m: 'dataset'",
            "\nThe above exception was the direct cause of the following exception:\n",
            "\u001b[0;31mKeyError\u001b[0m                                  Traceback (most recent call last)",
            "\u001b[0;32m<ipython-input-86-12034dc3b514>\u001b[0m in \u001b[0;36m<module>\u001b[0;34m\u001b[0m\n\u001b[1;32m      1\u001b[0m \u001b[0;31m#don't RUN\u001b[0m\u001b[0;34m\u001b[0m\u001b[0;34m\u001b[0m\u001b[0;34m\u001b[0m\u001b[0m\n\u001b[0;32m----> 2\u001b[0;31m \u001b[0mdata_train\u001b[0m\u001b[0;34m.\u001b[0m\u001b[0mpop\u001b[0m\u001b[0;34m(\u001b[0m\u001b[0;34m'dataset'\u001b[0m\u001b[0;34m)\u001b[0m\u001b[0;34m\u001b[0m\u001b[0;34m\u001b[0m\u001b[0m\n\u001b[0m",
            "\u001b[0;32m/usr/local/lib/python3.8/dist-packages/pandas/core/frame.py\u001b[0m in \u001b[0;36mpop\u001b[0;34m(self, item)\u001b[0m\n\u001b[1;32m   5224\u001b[0m         \u001b[0;36m3\u001b[0m  \u001b[0mmonkey\u001b[0m        \u001b[0mNaN\u001b[0m\u001b[0;34m\u001b[0m\u001b[0;34m\u001b[0m\u001b[0m\n\u001b[1;32m   5225\u001b[0m         \"\"\"\n\u001b[0;32m-> 5226\u001b[0;31m         \u001b[0;32mreturn\u001b[0m \u001b[0msuper\u001b[0m\u001b[0;34m(\u001b[0m\u001b[0;34m)\u001b[0m\u001b[0;34m.\u001b[0m\u001b[0mpop\u001b[0m\u001b[0;34m(\u001b[0m\u001b[0mitem\u001b[0m\u001b[0;34m=\u001b[0m\u001b[0mitem\u001b[0m\u001b[0;34m)\u001b[0m\u001b[0;34m\u001b[0m\u001b[0;34m\u001b[0m\u001b[0m\n\u001b[0m\u001b[1;32m   5227\u001b[0m \u001b[0;34m\u001b[0m\u001b[0m\n\u001b[1;32m   5228\u001b[0m     \u001b[0;34m@\u001b[0m\u001b[0mdoc\u001b[0m\u001b[0;34m(\u001b[0m\u001b[0mNDFrame\u001b[0m\u001b[0;34m.\u001b[0m\u001b[0mreplace\u001b[0m\u001b[0;34m,\u001b[0m \u001b[0;34m**\u001b[0m\u001b[0m_shared_doc_kwargs\u001b[0m\u001b[0;34m)\u001b[0m\u001b[0;34m\u001b[0m\u001b[0;34m\u001b[0m\u001b[0m\n",
            "\u001b[0;32m/usr/local/lib/python3.8/dist-packages/pandas/core/generic.py\u001b[0m in \u001b[0;36mpop\u001b[0;34m(self, item)\u001b[0m\n\u001b[1;32m    868\u001b[0m \u001b[0;34m\u001b[0m\u001b[0m\n\u001b[1;32m    869\u001b[0m     \u001b[0;32mdef\u001b[0m \u001b[0mpop\u001b[0m\u001b[0;34m(\u001b[0m\u001b[0mself\u001b[0m\u001b[0;34m,\u001b[0m \u001b[0mitem\u001b[0m\u001b[0;34m:\u001b[0m \u001b[0mHashable\u001b[0m\u001b[0;34m)\u001b[0m \u001b[0;34m->\u001b[0m \u001b[0mSeries\u001b[0m \u001b[0;34m|\u001b[0m \u001b[0mAny\u001b[0m\u001b[0;34m:\u001b[0m\u001b[0;34m\u001b[0m\u001b[0;34m\u001b[0m\u001b[0m\n\u001b[0;32m--> 870\u001b[0;31m         \u001b[0mresult\u001b[0m \u001b[0;34m=\u001b[0m \u001b[0mself\u001b[0m\u001b[0;34m[\u001b[0m\u001b[0mitem\u001b[0m\u001b[0;34m]\u001b[0m\u001b[0;34m\u001b[0m\u001b[0;34m\u001b[0m\u001b[0m\n\u001b[0m\u001b[1;32m    871\u001b[0m         \u001b[0;32mdel\u001b[0m \u001b[0mself\u001b[0m\u001b[0;34m[\u001b[0m\u001b[0mitem\u001b[0m\u001b[0;34m]\u001b[0m\u001b[0;34m\u001b[0m\u001b[0;34m\u001b[0m\u001b[0m\n\u001b[1;32m    872\u001b[0m \u001b[0;34m\u001b[0m\u001b[0m\n",
            "\u001b[0;32m/usr/local/lib/python3.8/dist-packages/pandas/core/frame.py\u001b[0m in \u001b[0;36m__getitem__\u001b[0;34m(self, key)\u001b[0m\n\u001b[1;32m   3456\u001b[0m             \u001b[0;32mif\u001b[0m \u001b[0mself\u001b[0m\u001b[0;34m.\u001b[0m\u001b[0mcolumns\u001b[0m\u001b[0;34m.\u001b[0m\u001b[0mnlevels\u001b[0m \u001b[0;34m>\u001b[0m \u001b[0;36m1\u001b[0m\u001b[0;34m:\u001b[0m\u001b[0;34m\u001b[0m\u001b[0;34m\u001b[0m\u001b[0m\n\u001b[1;32m   3457\u001b[0m                 \u001b[0;32mreturn\u001b[0m \u001b[0mself\u001b[0m\u001b[0;34m.\u001b[0m\u001b[0m_getitem_multilevel\u001b[0m\u001b[0;34m(\u001b[0m\u001b[0mkey\u001b[0m\u001b[0;34m)\u001b[0m\u001b[0;34m\u001b[0m\u001b[0;34m\u001b[0m\u001b[0m\n\u001b[0;32m-> 3458\u001b[0;31m             \u001b[0mindexer\u001b[0m \u001b[0;34m=\u001b[0m \u001b[0mself\u001b[0m\u001b[0;34m.\u001b[0m\u001b[0mcolumns\u001b[0m\u001b[0;34m.\u001b[0m\u001b[0mget_loc\u001b[0m\u001b[0;34m(\u001b[0m\u001b[0mkey\u001b[0m\u001b[0;34m)\u001b[0m\u001b[0;34m\u001b[0m\u001b[0;34m\u001b[0m\u001b[0m\n\u001b[0m\u001b[1;32m   3459\u001b[0m             \u001b[0;32mif\u001b[0m \u001b[0mis_integer\u001b[0m\u001b[0;34m(\u001b[0m\u001b[0mindexer\u001b[0m\u001b[0;34m)\u001b[0m\u001b[0;34m:\u001b[0m\u001b[0;34m\u001b[0m\u001b[0;34m\u001b[0m\u001b[0m\n\u001b[1;32m   3460\u001b[0m                 \u001b[0mindexer\u001b[0m \u001b[0;34m=\u001b[0m \u001b[0;34m[\u001b[0m\u001b[0mindexer\u001b[0m\u001b[0;34m]\u001b[0m\u001b[0;34m\u001b[0m\u001b[0;34m\u001b[0m\u001b[0m\n",
            "\u001b[0;32m/usr/local/lib/python3.8/dist-packages/pandas/core/indexes/base.py\u001b[0m in \u001b[0;36mget_loc\u001b[0;34m(self, key, method, tolerance)\u001b[0m\n\u001b[1;32m   3361\u001b[0m                 \u001b[0;32mreturn\u001b[0m \u001b[0mself\u001b[0m\u001b[0;34m.\u001b[0m\u001b[0m_engine\u001b[0m\u001b[0;34m.\u001b[0m\u001b[0mget_loc\u001b[0m\u001b[0;34m(\u001b[0m\u001b[0mcasted_key\u001b[0m\u001b[0;34m)\u001b[0m\u001b[0;34m\u001b[0m\u001b[0;34m\u001b[0m\u001b[0m\n\u001b[1;32m   3362\u001b[0m             \u001b[0;32mexcept\u001b[0m \u001b[0mKeyError\u001b[0m \u001b[0;32mas\u001b[0m \u001b[0merr\u001b[0m\u001b[0;34m:\u001b[0m\u001b[0;34m\u001b[0m\u001b[0;34m\u001b[0m\u001b[0m\n\u001b[0;32m-> 3363\u001b[0;31m                 \u001b[0;32mraise\u001b[0m \u001b[0mKeyError\u001b[0m\u001b[0;34m(\u001b[0m\u001b[0mkey\u001b[0m\u001b[0;34m)\u001b[0m \u001b[0;32mfrom\u001b[0m \u001b[0merr\u001b[0m\u001b[0;34m\u001b[0m\u001b[0;34m\u001b[0m\u001b[0m\n\u001b[0m\u001b[1;32m   3364\u001b[0m \u001b[0;34m\u001b[0m\u001b[0m\n\u001b[1;32m   3365\u001b[0m         \u001b[0;32mif\u001b[0m \u001b[0mis_scalar\u001b[0m\u001b[0;34m(\u001b[0m\u001b[0mkey\u001b[0m\u001b[0;34m)\u001b[0m \u001b[0;32mand\u001b[0m \u001b[0misna\u001b[0m\u001b[0;34m(\u001b[0m\u001b[0mkey\u001b[0m\u001b[0;34m)\u001b[0m \u001b[0;32mand\u001b[0m \u001b[0;32mnot\u001b[0m \u001b[0mself\u001b[0m\u001b[0;34m.\u001b[0m\u001b[0mhasnans\u001b[0m\u001b[0;34m:\u001b[0m\u001b[0;34m\u001b[0m\u001b[0;34m\u001b[0m\u001b[0m\n",
            "\u001b[0;31mKeyError\u001b[0m: 'dataset'"
          ]
        }
      ]
    },
    {
      "cell_type": "code",
      "source": [
        "data.shape"
      ],
      "metadata": {
        "colab": {
          "base_uri": "https://localhost:8080/"
        },
        "id": "O45veX5aXRYB",
        "outputId": "fb72dac9-2200-44dd-f789-a8033dfe5477"
      },
      "execution_count": null,
      "outputs": [
        {
          "output_type": "execute_result",
          "data": {
            "text/plain": [
              "(878049, 9)"
            ]
          },
          "metadata": {},
          "execution_count": 87
        }
      ]
    },
    {
      "cell_type": "code",
      "source": [
        "data.nunique()"
      ],
      "metadata": {
        "colab": {
          "base_uri": "https://localhost:8080/"
        },
        "id": "965qp7cfXbZY",
        "outputId": "cb4ebf50-0cb9-49bf-ddb7-2a8ec46cbe42"
      },
      "execution_count": null,
      "outputs": [
        {
          "output_type": "execute_result",
          "data": {
            "text/plain": [
              "Category       39\n",
              "Descript      879\n",
              "DayOfWeek       7\n",
              "PdDistrict     10\n",
              "Resolution     17\n",
              "Catid           2\n",
              "year           13\n",
              "month          12\n",
              "day            31\n",
              "dtype: int64"
            ]
          },
          "metadata": {},
          "execution_count": 88
        }
      ]
    },
    {
      "cell_type": "code",
      "source": [
        "data"
      ],
      "metadata": {
        "colab": {
          "base_uri": "https://localhost:8080/",
          "height": 419
        },
        "id": "Ij4L8KgddHfp",
        "outputId": "87e2af5f-e5b8-410a-8c1c-f83f78ba33e5"
      },
      "execution_count": null,
      "outputs": [
        {
          "output_type": "execute_result",
          "data": {
            "text/plain": [
              "        Category  Descript  DayOfWeek  PdDistrict  Resolution  Catid  year  \\\n",
              "0             37       866          6           4           0      0  2015   \n",
              "1             21       810          6           4           0      0  2015   \n",
              "2             21       810          6           4           0      0  2015   \n",
              "3             16       404          6           4          11      0  2015   \n",
              "4             16       404          6           5          11      0  2015   \n",
              "...          ...       ...        ...         ...         ...    ...   ...   \n",
              "878044        25       661          1           8          11      1  2003   \n",
              "878045        16       404          1           2          11      0  2003   \n",
              "878046        16       404          1           7          11      0  2003   \n",
              "878047        35       496          1           7          11      1  2003   \n",
              "878048        12       204          1           0          11      0  2003   \n",
              "\n",
              "        month  day  \n",
              "0           5   13  \n",
              "1           5   13  \n",
              "2           5   13  \n",
              "3           5   13  \n",
              "4           5   13  \n",
              "...       ...  ...  \n",
              "878044      1    6  \n",
              "878045      1    6  \n",
              "878046      1    6  \n",
              "878047      1    6  \n",
              "878048      1    6  \n",
              "\n",
              "[878049 rows x 9 columns]"
            ],
            "text/html": [
              "\n",
              "  <div id=\"df-7e72bde3-f2f3-4568-862b-80ddefcf3b94\">\n",
              "    <div class=\"colab-df-container\">\n",
              "      <div>\n",
              "<style scoped>\n",
              "    .dataframe tbody tr th:only-of-type {\n",
              "        vertical-align: middle;\n",
              "    }\n",
              "\n",
              "    .dataframe tbody tr th {\n",
              "        vertical-align: top;\n",
              "    }\n",
              "\n",
              "    .dataframe thead th {\n",
              "        text-align: right;\n",
              "    }\n",
              "</style>\n",
              "<table border=\"1\" class=\"dataframe\">\n",
              "  <thead>\n",
              "    <tr style=\"text-align: right;\">\n",
              "      <th></th>\n",
              "      <th>Category</th>\n",
              "      <th>Descript</th>\n",
              "      <th>DayOfWeek</th>\n",
              "      <th>PdDistrict</th>\n",
              "      <th>Resolution</th>\n",
              "      <th>Catid</th>\n",
              "      <th>year</th>\n",
              "      <th>month</th>\n",
              "      <th>day</th>\n",
              "    </tr>\n",
              "  </thead>\n",
              "  <tbody>\n",
              "    <tr>\n",
              "      <th>0</th>\n",
              "      <td>37</td>\n",
              "      <td>866</td>\n",
              "      <td>6</td>\n",
              "      <td>4</td>\n",
              "      <td>0</td>\n",
              "      <td>0</td>\n",
              "      <td>2015</td>\n",
              "      <td>5</td>\n",
              "      <td>13</td>\n",
              "    </tr>\n",
              "    <tr>\n",
              "      <th>1</th>\n",
              "      <td>21</td>\n",
              "      <td>810</td>\n",
              "      <td>6</td>\n",
              "      <td>4</td>\n",
              "      <td>0</td>\n",
              "      <td>0</td>\n",
              "      <td>2015</td>\n",
              "      <td>5</td>\n",
              "      <td>13</td>\n",
              "    </tr>\n",
              "    <tr>\n",
              "      <th>2</th>\n",
              "      <td>21</td>\n",
              "      <td>810</td>\n",
              "      <td>6</td>\n",
              "      <td>4</td>\n",
              "      <td>0</td>\n",
              "      <td>0</td>\n",
              "      <td>2015</td>\n",
              "      <td>5</td>\n",
              "      <td>13</td>\n",
              "    </tr>\n",
              "    <tr>\n",
              "      <th>3</th>\n",
              "      <td>16</td>\n",
              "      <td>404</td>\n",
              "      <td>6</td>\n",
              "      <td>4</td>\n",
              "      <td>11</td>\n",
              "      <td>0</td>\n",
              "      <td>2015</td>\n",
              "      <td>5</td>\n",
              "      <td>13</td>\n",
              "    </tr>\n",
              "    <tr>\n",
              "      <th>4</th>\n",
              "      <td>16</td>\n",
              "      <td>404</td>\n",
              "      <td>6</td>\n",
              "      <td>5</td>\n",
              "      <td>11</td>\n",
              "      <td>0</td>\n",
              "      <td>2015</td>\n",
              "      <td>5</td>\n",
              "      <td>13</td>\n",
              "    </tr>\n",
              "    <tr>\n",
              "      <th>...</th>\n",
              "      <td>...</td>\n",
              "      <td>...</td>\n",
              "      <td>...</td>\n",
              "      <td>...</td>\n",
              "      <td>...</td>\n",
              "      <td>...</td>\n",
              "      <td>...</td>\n",
              "      <td>...</td>\n",
              "      <td>...</td>\n",
              "    </tr>\n",
              "    <tr>\n",
              "      <th>878044</th>\n",
              "      <td>25</td>\n",
              "      <td>661</td>\n",
              "      <td>1</td>\n",
              "      <td>8</td>\n",
              "      <td>11</td>\n",
              "      <td>1</td>\n",
              "      <td>2003</td>\n",
              "      <td>1</td>\n",
              "      <td>6</td>\n",
              "    </tr>\n",
              "    <tr>\n",
              "      <th>878045</th>\n",
              "      <td>16</td>\n",
              "      <td>404</td>\n",
              "      <td>1</td>\n",
              "      <td>2</td>\n",
              "      <td>11</td>\n",
              "      <td>0</td>\n",
              "      <td>2003</td>\n",
              "      <td>1</td>\n",
              "      <td>6</td>\n",
              "    </tr>\n",
              "    <tr>\n",
              "      <th>878046</th>\n",
              "      <td>16</td>\n",
              "      <td>404</td>\n",
              "      <td>1</td>\n",
              "      <td>7</td>\n",
              "      <td>11</td>\n",
              "      <td>0</td>\n",
              "      <td>2003</td>\n",
              "      <td>1</td>\n",
              "      <td>6</td>\n",
              "    </tr>\n",
              "    <tr>\n",
              "      <th>878047</th>\n",
              "      <td>35</td>\n",
              "      <td>496</td>\n",
              "      <td>1</td>\n",
              "      <td>7</td>\n",
              "      <td>11</td>\n",
              "      <td>1</td>\n",
              "      <td>2003</td>\n",
              "      <td>1</td>\n",
              "      <td>6</td>\n",
              "    </tr>\n",
              "    <tr>\n",
              "      <th>878048</th>\n",
              "      <td>12</td>\n",
              "      <td>204</td>\n",
              "      <td>1</td>\n",
              "      <td>0</td>\n",
              "      <td>11</td>\n",
              "      <td>0</td>\n",
              "      <td>2003</td>\n",
              "      <td>1</td>\n",
              "      <td>6</td>\n",
              "    </tr>\n",
              "  </tbody>\n",
              "</table>\n",
              "<p>878049 rows × 9 columns</p>\n",
              "</div>\n",
              "      <button class=\"colab-df-convert\" onclick=\"convertToInteractive('df-7e72bde3-f2f3-4568-862b-80ddefcf3b94')\"\n",
              "              title=\"Convert this dataframe to an interactive table.\"\n",
              "              style=\"display:none;\">\n",
              "        \n",
              "  <svg xmlns=\"http://www.w3.org/2000/svg\" height=\"24px\"viewBox=\"0 0 24 24\"\n",
              "       width=\"24px\">\n",
              "    <path d=\"M0 0h24v24H0V0z\" fill=\"none\"/>\n",
              "    <path d=\"M18.56 5.44l.94 2.06.94-2.06 2.06-.94-2.06-.94-.94-2.06-.94 2.06-2.06.94zm-11 1L8.5 8.5l.94-2.06 2.06-.94-2.06-.94L8.5 2.5l-.94 2.06-2.06.94zm10 10l.94 2.06.94-2.06 2.06-.94-2.06-.94-.94-2.06-.94 2.06-2.06.94z\"/><path d=\"M17.41 7.96l-1.37-1.37c-.4-.4-.92-.59-1.43-.59-.52 0-1.04.2-1.43.59L10.3 9.45l-7.72 7.72c-.78.78-.78 2.05 0 2.83L4 21.41c.39.39.9.59 1.41.59.51 0 1.02-.2 1.41-.59l7.78-7.78 2.81-2.81c.8-.78.8-2.07 0-2.86zM5.41 20L4 18.59l7.72-7.72 1.47 1.35L5.41 20z\"/>\n",
              "  </svg>\n",
              "      </button>\n",
              "      \n",
              "  <style>\n",
              "    .colab-df-container {\n",
              "      display:flex;\n",
              "      flex-wrap:wrap;\n",
              "      gap: 12px;\n",
              "    }\n",
              "\n",
              "    .colab-df-convert {\n",
              "      background-color: #E8F0FE;\n",
              "      border: none;\n",
              "      border-radius: 50%;\n",
              "      cursor: pointer;\n",
              "      display: none;\n",
              "      fill: #1967D2;\n",
              "      height: 32px;\n",
              "      padding: 0 0 0 0;\n",
              "      width: 32px;\n",
              "    }\n",
              "\n",
              "    .colab-df-convert:hover {\n",
              "      background-color: #E2EBFA;\n",
              "      box-shadow: 0px 1px 2px rgba(60, 64, 67, 0.3), 0px 1px 3px 1px rgba(60, 64, 67, 0.15);\n",
              "      fill: #174EA6;\n",
              "    }\n",
              "\n",
              "    [theme=dark] .colab-df-convert {\n",
              "      background-color: #3B4455;\n",
              "      fill: #D2E3FC;\n",
              "    }\n",
              "\n",
              "    [theme=dark] .colab-df-convert:hover {\n",
              "      background-color: #434B5C;\n",
              "      box-shadow: 0px 1px 3px 1px rgba(0, 0, 0, 0.15);\n",
              "      filter: drop-shadow(0px 1px 2px rgba(0, 0, 0, 0.3));\n",
              "      fill: #FFFFFF;\n",
              "    }\n",
              "  </style>\n",
              "\n",
              "      <script>\n",
              "        const buttonEl =\n",
              "          document.querySelector('#df-7e72bde3-f2f3-4568-862b-80ddefcf3b94 button.colab-df-convert');\n",
              "        buttonEl.style.display =\n",
              "          google.colab.kernel.accessAllowed ? 'block' : 'none';\n",
              "\n",
              "        async function convertToInteractive(key) {\n",
              "          const element = document.querySelector('#df-7e72bde3-f2f3-4568-862b-80ddefcf3b94');\n",
              "          const dataTable =\n",
              "            await google.colab.kernel.invokeFunction('convertToInteractive',\n",
              "                                                     [key], {});\n",
              "          if (!dataTable) return;\n",
              "\n",
              "          const docLinkHtml = 'Like what you see? Visit the ' +\n",
              "            '<a target=\"_blank\" href=https://colab.research.google.com/notebooks/data_table.ipynb>data table notebook</a>'\n",
              "            + ' to learn more about interactive tables.';\n",
              "          element.innerHTML = '';\n",
              "          dataTable['output_type'] = 'display_data';\n",
              "          await google.colab.output.renderOutput(dataTable, element);\n",
              "          const docLink = document.createElement('div');\n",
              "          docLink.innerHTML = docLinkHtml;\n",
              "          element.appendChild(docLink);\n",
              "        }\n",
              "      </script>\n",
              "    </div>\n",
              "  </div>\n",
              "  "
            ]
          },
          "metadata": {},
          "execution_count": 89
        }
      ]
    },
    {
      "cell_type": "code",
      "source": [
        "data.groupby('Category')['PdDistrict'].nunique().describe().astype('int64')"
      ],
      "metadata": {
        "colab": {
          "base_uri": "https://localhost:8080/"
        },
        "id": "fFJFRpiydTK7",
        "outputId": "4e43a561-f370-4c84-f6d2-921ca1093002"
      },
      "execution_count": null,
      "outputs": [
        {
          "output_type": "execute_result",
          "data": {
            "text/plain": [
              "count    39\n",
              "mean      9\n",
              "std       1\n",
              "min       4\n",
              "25%      10\n",
              "50%      10\n",
              "75%      10\n",
              "max      10\n",
              "Name: PdDistrict, dtype: int64"
            ]
          },
          "metadata": {},
          "execution_count": 90
        }
      ]
    },
    {
      "cell_type": "code",
      "source": [
        "data.groupby('PdDistrict')['Category'].nunique().describe().astype('int64')"
      ],
      "metadata": {
        "colab": {
          "base_uri": "https://localhost:8080/"
        },
        "id": "fcCu0X5ud-qR",
        "outputId": "d604f2ba-0218-4163-cd06-a01633912dd6"
      },
      "execution_count": null,
      "outputs": [
        {
          "output_type": "execute_result",
          "data": {
            "text/plain": [
              "count    10\n",
              "mean     38\n",
              "std       0\n",
              "min      37\n",
              "25%      38\n",
              "50%      38\n",
              "75%      39\n",
              "max      39\n",
              "Name: Category, dtype: int64"
            ]
          },
          "metadata": {},
          "execution_count": 91
        }
      ]
    },
    {
      "cell_type": "code",
      "source": [
        "data.head"
      ],
      "metadata": {
        "colab": {
          "base_uri": "https://localhost:8080/"
        },
        "id": "nUksbCZheR3i",
        "outputId": "0b5df23b-5c01-4b14-96b7-f5c7737f8c3b"
      },
      "execution_count": null,
      "outputs": [
        {
          "output_type": "execute_result",
          "data": {
            "text/plain": [
              "<bound method NDFrame.head of         Category  Descript  DayOfWeek  PdDistrict  Resolution  Catid  year  \\\n",
              "0             37       866          6           4           0      0  2015   \n",
              "1             21       810          6           4           0      0  2015   \n",
              "2             21       810          6           4           0      0  2015   \n",
              "3             16       404          6           4          11      0  2015   \n",
              "4             16       404          6           5          11      0  2015   \n",
              "...          ...       ...        ...         ...         ...    ...   ...   \n",
              "878044        25       661          1           8          11      1  2003   \n",
              "878045        16       404          1           2          11      0  2003   \n",
              "878046        16       404          1           7          11      0  2003   \n",
              "878047        35       496          1           7          11      1  2003   \n",
              "878048        12       204          1           0          11      0  2003   \n",
              "\n",
              "        month  day  \n",
              "0           5   13  \n",
              "1           5   13  \n",
              "2           5   13  \n",
              "3           5   13  \n",
              "4           5   13  \n",
              "...       ...  ...  \n",
              "878044      1    6  \n",
              "878045      1    6  \n",
              "878046      1    6  \n",
              "878047      1    6  \n",
              "878048      1    6  \n",
              "\n",
              "[878049 rows x 9 columns]>"
            ]
          },
          "metadata": {},
          "execution_count": 92
        }
      ]
    },
    {
      "cell_type": "code",
      "source": [
        "fig = plt.figure(figsize=(11, 6))\n",
        "sns.heatmap(data.corr(), annot=True, linewidths=.1)\n",
        "plt.title('Heatmap for data', fontsize=15)\n",
        "plt.show()"
      ],
      "metadata": {
        "colab": {
          "base_uri": "https://localhost:8080/",
          "height": 392
        },
        "id": "v1y-ICKdbWSt",
        "outputId": "cc2c3f9e-8a49-423d-c699-5bcebfcf27b3"
      },
      "execution_count": null,
      "outputs": [
        {
          "output_type": "display_data",
          "data": {
            "text/plain": [
              "<Figure size 792x432 with 2 Axes>"
            ],
            "image/png": "[encoded data removed]"
          },
          "metadata": {
            "needs_background": "light"
          }
        }
      ]
    },
    {
      "cell_type": "code",
      "source": [
        "def column_index(series, offset=0):\n",
        "    return {k: v+offset for v, k in enumerate(series.value_counts().index.values)}"
      ],
      "metadata": {
        "id": "_mW1QM0mev6n"
      },
      "execution_count": null,
      "outputs": []
    },
    {
      "cell_type": "code",
      "source": [
        "cat2idx = {v: idx for idx, v in enumerate(data['Category'].values)}\n",
        "pdd2idx = column_index(data['PdDistrict'])"
      ],
      "metadata": {
        "id": "BBIAwcL2e1wz"
      },
      "execution_count": null,
      "outputs": []
    },
    {
      "cell_type": "code",
      "source": [
        "data['catIdx'] = data['Category'].map(cat2idx)\n",
        "data = data.sort_values(by='catIdx')\n",
        "data['PdDistrict'] = data['PdDistrict'].map(pdd2idx)"
      ],
      "metadata": {
        "id": "mhl6cXE8gvIa"
      },
      "execution_count": null,
      "outputs": []
    },
    {
      "cell_type": "code",
      "source": [
        "y_cxn = data.sort_values(by='catIdx')['Catid'].values\n",
        "y_cxn"
      ],
      "metadata": {
        "colab": {
          "base_uri": "https://localhost:8080/"
        },
        "id": "2q_USUp1hKLJ",
        "outputId": "67102b1d-71ed-43c8-b68d-03d76f09a76e"
      },
      "execution_count": null,
      "outputs": [
        {
          "output_type": "execute_result",
          "data": {
            "text/plain": [
              "array([0, 0, 0, ..., 0, 0, 0])"
            ]
          },
          "metadata": {},
          "execution_count": 97
        }
      ]
    },
    {
      "cell_type": "code",
      "source": [
        "baseline = y_cxn[y_cxn>=0].mean()\n",
        "baseline"
      ],
      "metadata": {
        "colab": {
          "base_uri": "https://localhost:8080/"
        },
        "id": "gDWce7PphXoK",
        "outputId": "1327533f-eacd-4492-c209-794e064d1ee8"
      },
      "execution_count": null,
      "outputs": [
        {
          "output_type": "execute_result",
          "data": {
            "text/plain": [
              "0.4535771921612575"
            ]
          },
          "metadata": {},
          "execution_count": 98
        }
      ]
    },
    {
      "cell_type": "code",
      "source": [
        "node_id_cols = ['catIdx', 'PdDistrict']"
      ],
      "metadata": {
        "id": "uFCOYT7UhaO2"
      },
      "execution_count": null,
      "outputs": []
    },
    {
      "cell_type": "code",
      "source": [
        "data[node_id_cols].head()"
      ],
      "metadata": {
        "colab": {
          "base_uri": "https://localhost:8080/",
          "height": 204
        },
        "id": "1wJ7OFwVhpO0",
        "outputId": "997750b0-3b50-454c-f6f4-dcde6d53bb4b"
      },
      "execution_count": null,
      "outputs": [
        {
          "output_type": "execute_result",
          "data": {
            "text/plain": [
              "        catIdx  PdDistrict\n",
              "316490  337880           4\n",
              "93716   337880           1\n",
              "21002   337880           3\n",
              "192190  337880           3\n",
              "107733  337880           2"
            ],
            "text/html": [
              "\n",
              "  <div id=\"df-14877ba3-77e2-4237-a0db-55aa5ee0ac8f\">\n",
              "    <div class=\"colab-df-container\">\n",
              "      <div>\n",
              "<style scoped>\n",
              "    .dataframe tbody tr th:only-of-type {\n",
              "        vertical-align: middle;\n",
              "    }\n",
              "\n",
              "    .dataframe tbody tr th {\n",
              "        vertical-align: top;\n",
              "    }\n",
              "\n",
              "    .dataframe thead th {\n",
              "        text-align: right;\n",
              "    }\n",
              "</style>\n",
              "<table border=\"1\" class=\"dataframe\">\n",
              "  <thead>\n",
              "    <tr style=\"text-align: right;\">\n",
              "      <th></th>\n",
              "      <th>catIdx</th>\n",
              "      <th>PdDistrict</th>\n",
              "    </tr>\n",
              "  </thead>\n",
              "  <tbody>\n",
              "    <tr>\n",
              "      <th>316490</th>\n",
              "      <td>337880</td>\n",
              "      <td>4</td>\n",
              "    </tr>\n",
              "    <tr>\n",
              "      <th>93716</th>\n",
              "      <td>337880</td>\n",
              "      <td>1</td>\n",
              "    </tr>\n",
              "    <tr>\n",
              "      <th>21002</th>\n",
              "      <td>337880</td>\n",
              "      <td>3</td>\n",
              "    </tr>\n",
              "    <tr>\n",
              "      <th>192190</th>\n",
              "      <td>337880</td>\n",
              "      <td>3</td>\n",
              "    </tr>\n",
              "    <tr>\n",
              "      <th>107733</th>\n",
              "      <td>337880</td>\n",
              "      <td>2</td>\n",
              "    </tr>\n",
              "  </tbody>\n",
              "</table>\n",
              "</div>\n",
              "      <button class=\"colab-df-convert\" onclick=\"convertToInteractive('df-14877ba3-77e2-4237-a0db-55aa5ee0ac8f')\"\n",
              "              title=\"Convert this dataframe to an interactive table.\"\n",
              "              style=\"display:none;\">\n",
              "        \n",
              "  <svg xmlns=\"http://www.w3.org/2000/svg\" height=\"24px\"viewBox=\"0 0 24 24\"\n",
              "       width=\"24px\">\n",
              "    <path d=\"M0 0h24v24H0V0z\" fill=\"none\"/>\n",
              "    <path d=\"M18.56 5.44l.94 2.06.94-2.06 2.06-.94-2.06-.94-.94-2.06-.94 2.06-2.06.94zm-11 1L8.5 8.5l.94-2.06 2.06-.94-2.06-.94L8.5 2.5l-.94 2.06-2.06.94zm10 10l.94 2.06.94-2.06 2.06-.94-2.06-.94-.94-2.06-.94 2.06-2.06.94z\"/><path d=\"M17.41 7.96l-1.37-1.37c-.4-.4-.92-.59-1.43-.59-.52 0-1.04.2-1.43.59L10.3 9.45l-7.72 7.72c-.78.78-.78 2.05 0 2.83L4 21.41c.39.39.9.59 1.41.59.51 0 1.02-.2 1.41-.59l7.78-7.78 2.81-2.81c.8-.78.8-2.07 0-2.86zM5.41 20L4 18.59l7.72-7.72 1.47 1.35L5.41 20z\"/>\n",
              "  </svg>\n",
              "      </button>\n",
              "      \n",
              "  <style>\n",
              "    .colab-df-container {\n",
              "      display:flex;\n",
              "      flex-wrap:wrap;\n",
              "      gap: 12px;\n",
              "    }\n",
              "\n",
              "    .colab-df-convert {\n",
              "      background-color: #E8F0FE;\n",
              "      border: none;\n",
              "      border-radius: 50%;\n",
              "      cursor: pointer;\n",
              "      display: none;\n",
              "      fill: #1967D2;\n",
              "      height: 32px;\n",
              "      padding: 0 0 0 0;\n",
              "      width: 32px;\n",
              "    }\n",
              "\n",
              "    .colab-df-convert:hover {\n",
              "      background-color: #E2EBFA;\n",
              "      box-shadow: 0px 1px 2px rgba(60, 64, 67, 0.3), 0px 1px 3px 1px rgba(60, 64, 67, 0.15);\n",
              "      fill: #174EA6;\n",
              "    }\n",
              "\n",
              "    [theme=dark] .colab-df-convert {\n",
              "      background-color: #3B4455;\n",
              "      fill: #D2E3FC;\n",
              "    }\n",
              "\n",
              "    [theme=dark] .colab-df-convert:hover {\n",
              "      background-color: #434B5C;\n",
              "      box-shadow: 0px 1px 3px 1px rgba(0, 0, 0, 0.15);\n",
              "      filter: drop-shadow(0px 1px 2px rgba(0, 0, 0, 0.3));\n",
              "      fill: #FFFFFF;\n",
              "    }\n",
              "  </style>\n",
              "\n",
              "      <script>\n",
              "        const buttonEl =\n",
              "          document.querySelector('#df-14877ba3-77e2-4237-a0db-55aa5ee0ac8f button.colab-df-convert');\n",
              "        buttonEl.style.display =\n",
              "          google.colab.kernel.accessAllowed ? 'block' : 'none';\n",
              "\n",
              "        async function convertToInteractive(key) {\n",
              "          const element = document.querySelector('#df-14877ba3-77e2-4237-a0db-55aa5ee0ac8f');\n",
              "          const dataTable =\n",
              "            await google.colab.kernel.invokeFunction('convertToInteractive',\n",
              "                                                     [key], {});\n",
              "          if (!dataTable) return;\n",
              "\n",
              "          const docLinkHtml = 'Like what you see? Visit the ' +\n",
              "            '<a target=\"_blank\" href=https://colab.research.google.com/notebooks/data_table.ipynb>data table notebook</a>'\n",
              "            + ' to learn more about interactive tables.';\n",
              "          element.innerHTML = '';\n",
              "          dataTable['output_type'] = 'display_data';\n",
              "          await google.colab.output.renderOutput(dataTable, element);\n",
              "          const docLink = document.createElement('div');\n",
              "          docLink.innerHTML = docLinkHtml;\n",
              "          element.appendChild(docLink);\n",
              "        }\n",
              "      </script>\n",
              "    </div>\n",
              "  </div>\n",
              "  "
            ]
          },
          "metadata": {},
          "execution_count": 100
        }
      ]
    },
    {
      "cell_type": "code",
      "source": [
        "N_nodes = data[node_id_cols].nunique().sum()\n",
        "N_nodes"
      ],
      "metadata": {
        "colab": {
          "base_uri": "https://localhost:8080/"
        },
        "id": "D0L-9VdShs7_",
        "outputId": "f8272eee-c3cb-4db2-a33e-d71ce8471584"
      },
      "execution_count": null,
      "outputs": [
        {
          "output_type": "execute_result",
          "data": {
            "text/plain": [
              "49"
            ]
          },
          "metadata": {},
          "execution_count": 101
        }
      ]
    },
    {
      "cell_type": "markdown",
      "source": [
        "Construct edges"
      ],
      "metadata": {
        "id": "eS64-IDEh8tX"
      }
    },
    {
      "cell_type": "code",
      "source": [
        "from itertools import combinations"
      ],
      "metadata": {
        "id": "GyTlxCNOh9Sk"
      },
      "execution_count": null,
      "outputs": []
    },
    {
      "cell_type": "code",
      "source": [
        "edge_dict = dict()\n",
        "for src_type, dst_type in combinations(node_id_cols, 2):\n",
        "    fwd = (src_type, f'{src_type}-{dst_type}', dst_type)\n",
        "    bwd = (dst_type, f'{dst_type}-{src_type}', src_type)\n",
        "    print(fwd)\n",
        "    print(bwd)\n",
        "    print('-'*50)\n",
        "    \n",
        "    edges = data[[src_type, dst_type]].drop_duplicates().values\n",
        "    src = edges[:,0]\n",
        "    dst = edges[:,1]\n",
        "\n",
        "    edge_dict[fwd] = (th.tensor(src), th.tensor(dst))\n",
        "    edge_dict[bwd] = (th.tensor(dst), th.tensor(src))"
      ],
      "metadata": {
        "colab": {
          "base_uri": "https://localhost:8080/"
        },
        "id": "sRSJinuvh_e8",
        "outputId": "4daa2482-0990-40de-f13d-70a9f42244bd"
      },
      "execution_count": null,
      "outputs": [
        {
          "output_type": "stream",
          "name": "stdout",
          "text": [
            "('catIdx', 'catIdx-PdDistrict', 'PdDistrict')\n",
            "('PdDistrict', 'PdDistrict-catIdx', 'catIdx')\n",
            "--------------------------------------------------\n"
          ]
        }
      ]
    },
    {
      "cell_type": "code",
      "source": [
        "hg = dgl.heterograph(edge_dict)"
      ],
      "metadata": {
        "id": "f7cm2ILMiOat"
      },
      "execution_count": null,
      "outputs": []
    },
    {
      "cell_type": "code",
      "source": [
        "hg.ntypes"
      ],
      "metadata": {
        "colab": {
          "base_uri": "https://localhost:8080/"
        },
        "id": "4hlSqBxXiS7d",
        "outputId": "cb3c11f2-6a97-4d70-acab-2d0e99634a7b"
      },
      "execution_count": null,
      "outputs": [
        {
          "output_type": "execute_result",
          "data": {
            "text/plain": [
              "['PdDistrict', 'catIdx']"
            ]
          },
          "metadata": {},
          "execution_count": 105
        }
      ]
    },
    {
      "cell_type": "code",
      "source": [
        "label_feat = dict()\n",
        "for ntype in hg.ntypes:\n",
        "    if ntype=='catIdx':\n",
        "        continue\n",
        "    label_feat[ntype] = th.zeros(hg.number_of_nodes(ntype))+baseline\n",
        "label_feat['catIdx'] = th.tensor(np.nan_to_num(y_cxn, nan=baseline)).float()"
      ],
      "metadata": {
        "id": "E8Ihdco9iV1K"
      },
      "execution_count": null,
      "outputs": []
    },
    {
      "cell_type": "code",
      "source": [
        "hg.ndata['label'] = label_feat"
      ],
      "metadata": {
        "id": "GrLwbPdKidyP"
      },
      "execution_count": null,
      "outputs": []
    },
    {
      "cell_type": "code",
      "source": [
        "hg"
      ],
      "metadata": {
        "colab": {
          "base_uri": "https://localhost:8080/"
        },
        "id": "vdPMzcMCige9",
        "outputId": "24ef4bf7-67e0-4f62-e712-237f81e29a6d"
      },
      "execution_count": null,
      "outputs": [
        {
          "output_type": "execute_result",
          "data": {
            "text/plain": [
              "Graph(num_nodes={'PdDistrict': 10, 'catIdx': 878049},\n",
              "      num_edges={('PdDistrict', 'PdDistrict-catIdx', 'catIdx'): 382, ('catIdx', 'catIdx-PdDistrict', 'PdDistrict'): 382},\n",
              "      metagraph=[('PdDistrict', 'catIdx', 'PdDistrict-catIdx'), ('catIdx', 'PdDistrict', 'catIdx-PdDistrict')])"
            ]
          },
          "metadata": {},
          "execution_count": 108
        }
      ]
    },
    {
      "cell_type": "code",
      "source": [
        "hg.ndata"
      ],
      "metadata": {
        "colab": {
          "base_uri": "https://localhost:8080/"
        },
        "id": "pawK0Vs0ijgo",
        "outputId": "3d419477-598f-48f9-a7c7-b8fa313ca808"
      },
      "execution_count": null,
      "outputs": [
        {
          "output_type": "execute_result",
          "data": {
            "text/plain": [
              "defaultdict(<class 'dict'>, {'label': {'PdDistrict': tensor([0.4536, 0.4536, 0.4536, 0.4536, 0.4536, 0.4536, 0.4536, 0.4536, 0.4536,\n",
              "        0.4536]), 'catIdx': tensor([0., 0., 0.,  ..., 0., 0., 0.])}})"
            ]
          },
          "metadata": {},
          "execution_count": 109
        }
      ]
    },
    {
      "cell_type": "code",
      "source": [
        "assert hg.number_of_nodes('catIdx')==y_cxn.shape[0]\n",
        "assert (data['Catid']==1).sum() == (dgl.to_homogeneous(hg, ndata=['label']).ndata['label']==1).sum().item()"
      ],
      "metadata": {
        "id": "dF1kJcRkilDV"
      },
      "execution_count": null,
      "outputs": []
    },
    {
      "cell_type": "code",
      "source": [
        "import networkx as nx\n",
        "import pandas as pd\n",
        "import numpy as np\n",
        "\n",
        "import matplotlib.pyplot as plt\n",
        "\n",
        "import sys\n",
        "import warnings\n",
        "\n",
        "warnings.filterwarnings(\"ignore\")"
      ],
      "metadata": {
        "id": "1cCDv57T5ZlP"
      },
      "execution_count": null,
      "outputs": []
    },
    {
      "cell_type": "code",
      "source": [
        "undirected_G = nx.Graph()"
      ],
      "metadata": {
        "id": "xUPSnhl8_mWT"
      },
      "execution_count": null,
      "outputs": []
    },
    {
      "cell_type": "code",
      "source": [
        "for idx in data.index:\n",
        "    p1 = data.loc[idx]['catIdx']\n",
        "    p2 = data.loc[idx]['PdDistrict']\n",
        "    if undirected_G.has_edge(p1, p2):\n",
        "        undirected_G.edges[p1, p2]['weight'] += 1\n",
        "    else:\n",
        "        undirected_G.add_edge(p1, p2, weight=1)"
      ],
      "metadata": {
        "id": "_hrcHyXK_ape"
      },
      "execution_count": null,
      "outputs": []
    },
    {
      "cell_type": "code",
      "source": [
        "from operator import pos\n",
        "pos = nx.spring_layout(undirected_G,k=3000,seed=50)\n",
        "color_map=[]\n",
        "for node in undirected_G.nodes:\n",
        "  if 0 <= data.loc[idx][\"catIdx\"]<=39:\n",
        "      color_map.append(\"yellow\")\n",
        "  elif 40< data.loc[idx][\"PdDistrict\"]<=1000:\n",
        "      color_map.append(\"blue\")\n",
        "nx.draw(undirected_G,pos,node_color=color_map,node_size=1)\n",
        "plt.show()"
      ],
      "metadata": {
        "colab": {
          "base_uri": "https://localhost:8080/",
          "height": 319
        },
        "id": "A9CeHl41EaiC",
        "outputId": "63a326ce-3e53-4f54-ecb9-cd6e4684a3c3"
      },
      "execution_count": null,
      "outputs": [
        {
          "output_type": "display_data",
          "data": {
            "text/plain": [
              "<Figure size 432x288 with 1 Axes>"
            ],
            "image/png": "[encoded data removed]"
          },
          "metadata": {}
        }
      ]
    },
    {
      "cell_type": "code",
      "source": [
        "for n in sorted(undirected_G.nodes()):\n",
        "    undirected_G.nodes[n]['PdDistrict'] = float(n)"
      ],
      "metadata": {
        "id": "t8jSodmtAUMD"
      },
      "execution_count": null,
      "outputs": []
    },
    {
      "cell_type": "code",
      "source": [
        "list(undirected_G.nodes(data=True))[:5]"
      ],
      "metadata": {
        "colab": {
          "base_uri": "https://localhost:8080/"
        },
        "id": "ImQC5hOrAZfN",
        "outputId": "b7f17db5-ab69-46a5-d8a5-d26620ab06b6"
      },
      "execution_count": null,
      "outputs": [
        {
          "output_type": "execute_result",
          "data": {
            "text/plain": [
              "[(337880, {'PdDistrict': 337880.0}),\n",
              " (4, {'PdDistrict': 4.0}),\n",
              " (1, {'PdDistrict': 1.0}),\n",
              " (3, {'PdDistrict': 3.0}),\n",
              " (2, {'PdDistrict': 2.0})]"
            ]
          },
          "metadata": {},
          "execution_count": 117
        }
      ]
    },
    {
      "cell_type": "code",
      "source": [
        "list(undirected_G.edges(data=True))[:5]"
      ],
      "metadata": {
        "colab": {
          "base_uri": "https://localhost:8080/"
        },
        "id": "_jOgMBkOAdPm",
        "outputId": "5b30115a-ad4b-4458-c32d-83dbfead51aa"
      },
      "execution_count": null,
      "outputs": [
        {
          "output_type": "execute_result",
          "data": {
            "text/plain": [
              "[(337880, 4, {'weight': 2}),\n",
              " (337880, 1, {'weight': 2}),\n",
              " (337880, 3, {'weight': 4}),\n",
              " (337880, 2, {'weight': 2}),\n",
              " (4, 659768, {'weight': 179})]"
            ]
          },
          "metadata": {},
          "execution_count": 118
        }
      ]
    },
    {
      "cell_type": "code",
      "source": [
        "!pip install nxviz"
      ],
      "metadata": {
        "colab": {
          "base_uri": "https://localhost:8080/",
          "height": 664
        },
        "id": "YyFbf5S3BXab",
        "outputId": "de6c5ea7-fd78-4da0-c31c-4baa7dd38c9e"
      },
      "execution_count": null,
      "outputs": [
        {
          "output_type": "stream",
          "name": "stdout",
          "text": [
            "Looking in indexes: https://pypi.org/simple, https://us-python.pkg.dev/colab-wheels/public/simple/\n",
            "Collecting nxviz\n",
            "  Downloading nxviz-0.7.4-py3-none-any.whl (28 kB)\n",
            "Requirement already satisfied: networkx>=2.5 in /usr/local/lib/python3.8/dist-packages (from nxviz) (3.0)\n",
            "Collecting matplotlib>=3.3.3\n",
            "  Downloading matplotlib-3.6.3-cp38-cp38-manylinux_2_12_x86_64.manylinux2010_x86_64.whl (9.4 MB)\n",
            "\u001b[2K     \u001b[90m━━━━━━━━━━━━━━━━━━━━━━━━━━━━━━━━━━━━━━━━\u001b[0m \u001b[32m9.4/9.4 MB\u001b[0m \u001b[31m49.3 MB/s\u001b[0m eta \u001b[36m0:00:00\u001b[0m\n",
            "\u001b[?25hRequirement already satisfied: numpy>=1.19.4 in /usr/local/lib/python3.8/dist-packages (from nxviz) (1.21.6)\n",
            "Requirement already satisfied: palettable>=3.3.0 in /usr/local/lib/python3.8/dist-packages (from nxviz) (3.3.0)\n",
            "Requirement already satisfied: seaborn>=0.11.1 in /usr/local/lib/python3.8/dist-packages (from nxviz) (0.11.2)\n",
            "Requirement already satisfied: more-itertools>=8.6.0 in /usr/local/lib/python3.8/dist-packages (from nxviz) (9.0.0)\n",
            "Requirement already satisfied: pandas>=1.2.0 in /usr/local/lib/python3.8/dist-packages (from nxviz) (1.3.5)\n",
            "Requirement already satisfied: pyparsing>=2.2.1 in /usr/local/lib/python3.8/dist-packages (from matplotlib>=3.3.3->nxviz) (3.0.9)\n",
            "Collecting fonttools>=4.22.0\n",
            "  Downloading fonttools-4.38.0-py3-none-any.whl (965 kB)\n",
            "\u001b[2K     \u001b[90m━━━━━━━━━━━━━━━━━━━━━━━━━━━━━━━━━━━━━━\u001b[0m \u001b[32m965.4/965.4 KB\u001b[0m \u001b[31m26.4 MB/s\u001b[0m eta \u001b[36m0:00:00\u001b[0m\n",
            "\u001b[?25hCollecting contourpy>=1.0.1\n",
            "  Downloading contourpy-1.0.7-cp38-cp38-manylinux_2_17_x86_64.manylinux2014_x86_64.whl (300 kB)\n",
            "\u001b[2K     \u001b[90m━━━━━━━━━━━━━━━━━━━━━━━━━━━━━━━━━━━━━━\u001b[0m \u001b[32m300.0/300.0 KB\u001b[0m \u001b[31m27.0 MB/s\u001b[0m eta \u001b[36m0:00:00\u001b[0m\n",
            "\u001b[?25hRequirement already satisfied: pillow>=6.2.0 in /usr/local/lib/python3.8/dist-packages (from matplotlib>=3.3.3->nxviz) (7.1.2)\n",
            "Requirement already satisfied: python-dateutil>=2.7 in /usr/local/lib/python3.8/dist-packages (from matplotlib>=3.3.3->nxviz) (2.8.2)\n",
            "Requirement already satisfied: packaging>=20.0 in /usr/local/lib/python3.8/dist-packages (from matplotlib>=3.3.3->nxviz) (23.0)\n",
            "Requirement already satisfied: kiwisolver>=1.0.1 in /usr/local/lib/python3.8/dist-packages (from matplotlib>=3.3.3->nxviz) (1.4.4)\n",
            "Requirement already satisfied: cycler>=0.10 in /usr/local/lib/python3.8/dist-packages (from matplotlib>=3.3.3->nxviz) (0.11.0)\n",
            "Requirement already satisfied: pytz>=2017.3 in /usr/local/lib/python3.8/dist-packages (from pandas>=1.2.0->nxviz) (2022.7.1)\n",
            "Requirement already satisfied: scipy>=1.0 in /usr/local/lib/python3.8/dist-packages (from seaborn>=0.11.1->nxviz) (1.7.3)\n",
            "Requirement already satisfied: six>=1.5 in /usr/local/lib/python3.8/dist-packages (from python-dateutil>=2.7->matplotlib>=3.3.3->nxviz) (1.15.0)\n",
            "Installing collected packages: fonttools, contourpy, matplotlib, nxviz\n",
            "  Attempting uninstall: matplotlib\n",
            "    Found existing installation: matplotlib 3.2.2\n",
            "    Uninstalling matplotlib-3.2.2:\n",
            "      Successfully uninstalled matplotlib-3.2.2\n",
            "Successfully installed contourpy-1.0.7 fonttools-4.38.0 matplotlib-3.6.3 nxviz-0.7.4\n"
          ]
        },
        {
          "output_type": "display_data",
          "data": {
            "application/vnd.colab-display-data+json": {
              "pip_warning": {
                "packages": [
                  "matplotlib",
                  "mpl_toolkits"
                ]
              }
            }
          },
          "metadata": {}
        }
      ]
    },
    {
      "cell_type": "code",
      "source": [
        "sorted(nx.degree_centrality(undirected_G).items(), key=lambda x : x[1], reverse=True)[:5]"
      ],
      "metadata": {
        "colab": {
          "base_uri": "https://localhost:8080/"
        },
        "id": "a3ZtojKMCMci",
        "outputId": "c84816be-416b-4c4d-90d7-251991a392b8"
      },
      "execution_count": null,
      "outputs": [
        {
          "output_type": "execute_result",
          "data": {
            "text/plain": [
              "[(4, 0.8125), (1, 0.8125), (3, 0.8125), (2, 0.8125), (5, 0.7916666666666666)]"
            ]
          },
          "metadata": {},
          "execution_count": 120
        }
      ]
    },
    {
      "cell_type": "code",
      "source": [
        "sorted(nx.betweenness_centrality(undirected_G, normalized=False).items(), key=lambda x : x[1], reverse=True)[:5]"
      ],
      "metadata": {
        "colab": {
          "base_uri": "https://localhost:8080/"
        },
        "id": "9YrLnTxZ5e-9",
        "outputId": "a535024a-2bc6-4620-a345-2ec6b6d18ae6"
      },
      "execution_count": null,
      "outputs": [
        {
          "output_type": "execute_result",
          "data": {
            "text/plain": [
              "[(4, 82.47500000000005),\n",
              " (1, 82.47500000000005),\n",
              " (3, 82.47500000000005),\n",
              " (2, 82.47500000000005),\n",
              " (5, 71.47500000000007)]"
            ]
          },
          "metadata": {},
          "execution_count": 121
        }
      ]
    },
    {
      "cell_type": "code",
      "source": [
        "sorted(nx.betweenness_centrality(undirected_G).items(), key=lambda x : x[1], reverse=True)[:5]"
      ],
      "metadata": {
        "colab": {
          "base_uri": "https://localhost:8080/"
        },
        "id": "I2d2hB8RC9Yq",
        "outputId": "8a862c2a-b528-494a-99d6-f7e5d5e219d6"
      },
      "execution_count": null,
      "outputs": [
        {
          "output_type": "execute_result",
          "data": {
            "text/plain": [
              "[(4, 0.07311613475177309),\n",
              " (1, 0.07311613475177309),\n",
              " (3, 0.07311613475177309),\n",
              " (2, 0.07311613475177309),\n",
              " (5, 0.06336436170212771)]"
            ]
          },
          "metadata": {},
          "execution_count": 123
        }
      ]
    },
    {
      "cell_type": "code",
      "source": [
        "sorted(nx.load_centrality(undirected_G).items(), key=lambda x : x[1], reverse=True)[:5]"
      ],
      "metadata": {
        "colab": {
          "base_uri": "https://localhost:8080/"
        },
        "id": "TP-7yOOLDGhV",
        "outputId": "94d8a947-e75b-45fe-d3a6-e902936f99bb"
      },
      "execution_count": null,
      "outputs": [
        {
          "output_type": "execute_result",
          "data": {
            "text/plain": [
              "[(4, 0.07311613475177299),\n",
              " (1, 0.07311613475177299),\n",
              " (3, 0.07311613475177299),\n",
              " (2, 0.07311613475177299),\n",
              " (5, 0.06336436170212761)]"
            ]
          },
          "metadata": {},
          "execution_count": 124
        }
      ]
    },
    {
      "cell_type": "code",
      "source": [
        "n_hops = 10\n",
        "sampler = dgl.dataloading.MultiLayerNeighborSampler([10]*n_hops)"
      ],
      "metadata": {
        "id": "_BbRnhxFvdAn"
      },
      "execution_count": null,
      "outputs": []
    },
    {
      "cell_type": "code",
      "source": [
        "dataloader_legit = NodeDataLoader(\n",
        "    hg, {'catIdx': np.where(y_cxn==0)[0]}, sampler,\n",
        "    batch_size=1, shuffle=False, drop_last=False, num_workers=0)"
      ],
      "metadata": {
        "id": "IYjSosvSv76h"
      },
      "execution_count": null,
      "outputs": []
    },
    {
      "cell_type": "code",
      "source": [
        "n_hops = 5\n",
        "sampler = dgl.dataloading.MultiLayerNeighborSampler([10]*n_hops)"
      ],
      "metadata": {
        "id": "YUrdNWLZw-tq"
      },
      "execution_count": null,
      "outputs": []
    },
    {
      "cell_type": "code",
      "source": [
        "dataloader_legit = NodeDataLoader(\n",
        "    hg, {'catIdx': np.where(y_cxn==0)[0]}, sampler,\n",
        "    batch_size=1, shuffle=False, drop_last=False, num_workers=0)"
      ],
      "metadata": {
        "id": "GPjj-wZNxAbs"
      },
      "execution_count": null,
      "outputs": []
    },
    {
      "cell_type": "code",
      "source": [
        "plt.show(dataloader_legit)"
      ],
      "metadata": {
        "id": "05AWavmhxKwI"
      },
      "execution_count": null,
      "outputs": []
    },
    {
      "cell_type": "code",
      "source": [
        "import networkx as nx"
      ],
      "metadata": {
        "id": "BjgVrUxJix62"
      },
      "execution_count": null,
      "outputs": []
    },
    {
      "cell_type": "code",
      "source": [
        "def draw_kkl_hg(hg, **kwargs):\n",
        "    \n",
        "    hg_label = hg.ndata['label']['catIdx'].int()\n",
        "    \n",
        "    g = dgl.to_homogeneous(hg)\n",
        "    g.ndata['ntype'] = g.ndata['_TYPE']\n",
        "    nx_G = g.to_networkx(node_attrs=['ntype']).to_undirected()\n",
        "    fig, ax = plt.subplots(figsize=(10,10))\n",
        "    \n",
        "    pos = nx.spring_layout(nx_G, k=5/np.sqrt(g.num_nodes()))\n",
        "    \n",
        "    nodeShapes = [\"^\", \"s\", \"o\", \"v\"]\n",
        "    # For each node class...\n",
        "    for idx, ntype in enumerate(hg.ntypes):\n",
        "        aShape = nodeShapes[idx]\n",
        "        if ntype=='catIdx':\n",
        "            node_color = ['blue' if v==0 else 'red' if v==1 else 'black' for v in hg_label]\n",
        "        else:\n",
        "            node_color = \"grey\"\n",
        "        nx.draw_networkx_nodes(\n",
        "            nx_G, pos, node_shape=aShape, node_color=node_color, cmap='bwr', node_size=200,\n",
        "            nodelist=[sNode[0] for sNode in filter(lambda x: x[1][\"ntype\"]==idx, nx_G.nodes(data=True))]\n",
        "        )\n",
        "\n",
        "    # Draw the edges between the nodes\n",
        "    nx.draw_networkx_edges(nx_G, pos)\n",
        "\n",
        "def plot_neighborhood(dataloader, N_plots=5):\n",
        "    nstats = dict()\n",
        "    for i, (input_nodes, output_nodes, blocks) in enumerate(dataloader):\n",
        "        if i >= N_plots:\n",
        "            break\n",
        "        hg_tmp = dgl.node_subgraph(hg, input_nodes)\n",
        "        draw_kkl_hg(hg_tmp)     \n",
        "        \n",
        "\n",
        "def neighborhood_stats(hg):\n",
        "    def mp_fn_dict(in_feat, out_feat):\n",
        "        return {\n",
        "            cetype: (fn.copy_u(in_feat, 'm'), fn.sum('m', out_feat))\n",
        "            for cetype in hg.canonical_etypes\n",
        "        }\n",
        "    \n",
        "    with hg.local_scope():\n",
        "        degree_data = dict()\n",
        "        for ntype in hg.ntypes:\n",
        "            in_degrees = th.zeros(hg.num_nodes(ntype))\n",
        "            for cetype in hg.canonical_etypes:\n",
        "                if cetype[2]==ntype:\n",
        "#                     print(cetype)\n",
        "                    in_degrees += hg.in_degrees(etype=cetype)\n",
        "            degree_data[ntype] = in_degrees\n",
        "\n",
        "        hg.ndata['degree'] = degree_data\n",
        "        hg.ndata['cat'] = {\n",
        "            ntype: (labels==1).float() for ntype, labels in hg.ndata['label'].items()\n",
        "        }\n",
        "        \n",
        "        hg.multi_update_all(mp_fn_dict('degree', 'd_sum'), cross_reducer='sum')\n",
        "        hg.multi_update_all(mp_fn_dict('cat', 'total_crime'), cross_reducer='sum')\n",
        "        hg.multi_update_all(mp_fn_dict('total_crime', 'total_crime_2hop'), cross_reducer='sum')\n",
        "        \n",
        "        n_2hop = hg.ndata['d_sum']['catIdx']\n",
        "        fraud_rate_2hop = hg.ndata['total_crime_2hop']['catIdx'] / hg.ndata['d_sum']['catIdx']\n",
        "    return n_2hop, fraud_rate_2hop"
      ],
      "metadata": {
        "id": "CurPrMy8i0WF"
      },
      "execution_count": null,
      "outputs": []
    },
    {
      "cell_type": "code",
      "source": [
        "n_hops = 4\n",
        "sampler = dgl.dataloading.MultiLayerNeighborSampler([10]*n_hops)"
      ],
      "metadata": {
        "id": "pVMGn5H5j2-A"
      },
      "execution_count": null,
      "outputs": []
    },
    {
      "cell_type": "code",
      "source": [
        "dataloader_legit = NodeDataLoader(\n",
        "    hg, {'catIdx': np.where(y_cxn==0)[0]}, sampler,\n",
        "    batch_size=1, shuffle=False, drop_last=False, num_workers=0)"
      ],
      "metadata": {
        "id": "dSfRgC4Zj__F"
      },
      "execution_count": null,
      "outputs": []
    },
    {
      "cell_type": "code",
      "source": [
        "dataloader_crime = NodeDataLoader(\n",
        "    hg, {'catIdx': np.where(y_cxn==1)[0]}, sampler,\n",
        "    batch_size=1, shuffle=False, drop_last=False, num_workers=0)"
      ],
      "metadata": {
        "id": "e1jBqrogkK-U"
      },
      "execution_count": null,
      "outputs": []
    },
    {
      "cell_type": "code",
      "source": [
        "n_4hop, crime_rate_2hop = neighborhood_stats(hg)"
      ],
      "metadata": {
        "id": "9HZtSRfHkbYy"
      },
      "execution_count": null,
      "outputs": []
    },
    {
      "cell_type": "code",
      "source": [
        "N_labels = data['Catid'].shape[0]"
      ],
      "metadata": {
        "id": "vkfg-Gzel_Yx"
      },
      "execution_count": null,
      "outputs": []
    },
    {
      "cell_type": "code",
      "source": [
        "data_nstats = pd.DataFrame({\n",
        "    'N_4hop': n_4hop[:N_labels], \n",
        "    'crime_rate_2hop':crime_rate_2hop[:N_labels], \n",
        "    'label': y_cxn[:N_labels],\n",
        "})"
      ],
      "metadata": {
        "id": "7CMc79sLksJx"
      },
      "execution_count": null,
      "outputs": []
    },
    {
      "cell_type": "code",
      "source": [
        "data_nstats.groupby('label').describe().T"
      ],
      "metadata": {
        "colab": {
          "base_uri": "https://localhost:8080/",
          "height": 545
        },
        "id": "pRF7EkHsmW8t",
        "outputId": "188df406-7796-4044-c5f5-5e6806ac0aca"
      },
      "execution_count": null,
      "outputs": [
        {
          "output_type": "execute_result",
          "data": {
            "text/plain": [
              "label                              0              1\n",
              "N_4hop          count  479786.000000  398263.000000\n",
              "                mean        0.028663       0.002124\n",
              "                std         3.308834       0.815903\n",
              "                min         0.000000       0.000000\n",
              "                25%         0.000000       0.000000\n",
              "                50%         0.000000       0.000000\n",
              "                75%         0.000000       0.000000\n",
              "                max       382.000000     382.000000\n",
              "crime_rate_2hop count      36.000000       3.000000\n",
              "                mean        0.057592       0.066483\n",
              "                std         0.000000       0.009758\n",
              "                min         0.057592       0.057592\n",
              "                25%         0.057592       0.061263\n",
              "                50%         0.057592       0.064935\n",
              "                75%         0.057592       0.070929\n",
              "                max         0.057592       0.076923"
            ],
            "text/html": [
              "\n",
              "  <div id=\"df-88734fd7-b2ea-40a5-a7e2-3b87dacd0bdd\">\n",
              "    <div class=\"colab-df-container\">\n",
              "      <div>\n",
              "<style scoped>\n",
              "    .dataframe tbody tr th:only-of-type {\n",
              "        vertical-align: middle;\n",
              "    }\n",
              "\n",
              "    .dataframe tbody tr th {\n",
              "        vertical-align: top;\n",
              "    }\n",
              "\n",
              "    .dataframe thead th {\n",
              "        text-align: right;\n",
              "    }\n",
              "</style>\n",
              "<table border=\"1\" class=\"dataframe\">\n",
              "  <thead>\n",
              "    <tr style=\"text-align: right;\">\n",
              "      <th></th>\n",
              "      <th>label</th>\n",
              "      <th>0</th>\n",
              "      <th>1</th>\n",
              "    </tr>\n",
              "  </thead>\n",
              "  <tbody>\n",
              "    <tr>\n",
              "      <th rowspan=\"8\" valign=\"top\">N_4hop</th>\n",
              "      <th>count</th>\n",
              "      <td>479786.000000</td>\n",
              "      <td>398263.000000</td>\n",
              "    </tr>\n",
              "    <tr>\n",
              "      <th>mean</th>\n",
              "      <td>0.028663</td>\n",
              "      <td>0.002124</td>\n",
              "    </tr>\n",
              "    <tr>\n",
              "      <th>std</th>\n",
              "      <td>3.308834</td>\n",
              "      <td>0.815903</td>\n",
              "    </tr>\n",
              "    <tr>\n",
              "      <th>min</th>\n",
              "      <td>0.000000</td>\n",
              "      <td>0.000000</td>\n",
              "    </tr>\n",
              "    <tr>\n",
              "      <th>25%</th>\n",
              "      <td>0.000000</td>\n",
              "      <td>0.000000</td>\n",
              "    </tr>\n",
              "    <tr>\n",
              "      <th>50%</th>\n",
              "      <td>0.000000</td>\n",
              "      <td>0.000000</td>\n",
              "    </tr>\n",
              "    <tr>\n",
              "      <th>75%</th>\n",
              "      <td>0.000000</td>\n",
              "      <td>0.000000</td>\n",
              "    </tr>\n",
              "    <tr>\n",
              "      <th>max</th>\n",
              "      <td>382.000000</td>\n",
              "      <td>382.000000</td>\n",
              "    </tr>\n",
              "    <tr>\n",
              "      <th rowspan=\"8\" valign=\"top\">crime_rate_2hop</th>\n",
              "      <th>count</th>\n",
              "      <td>36.000000</td>\n",
              "      <td>3.000000</td>\n",
              "    </tr>\n",
              "    <tr>\n",
              "      <th>mean</th>\n",
              "      <td>0.057592</td>\n",
              "      <td>0.066483</td>\n",
              "    </tr>\n",
              "    <tr>\n",
              "      <th>std</th>\n",
              "      <td>0.000000</td>\n",
              "      <td>0.009758</td>\n",
              "    </tr>\n",
              "    <tr>\n",
              "      <th>min</th>\n",
              "      <td>0.057592</td>\n",
              "      <td>0.057592</td>\n",
              "    </tr>\n",
              "    <tr>\n",
              "      <th>25%</th>\n",
              "      <td>0.057592</td>\n",
              "      <td>0.061263</td>\n",
              "    </tr>\n",
              "    <tr>\n",
              "      <th>50%</th>\n",
              "      <td>0.057592</td>\n",
              "      <td>0.064935</td>\n",
              "    </tr>\n",
              "    <tr>\n",
              "      <th>75%</th>\n",
              "      <td>0.057592</td>\n",
              "      <td>0.070929</td>\n",
              "    </tr>\n",
              "    <tr>\n",
              "      <th>max</th>\n",
              "      <td>0.057592</td>\n",
              "      <td>0.076923</td>\n",
              "    </tr>\n",
              "  </tbody>\n",
              "</table>\n",
              "</div>\n",
              "      <button class=\"colab-df-convert\" onclick=\"convertToInteractive('df-88734fd7-b2ea-40a5-a7e2-3b87dacd0bdd')\"\n",
              "              title=\"Convert this dataframe to an interactive table.\"\n",
              "              style=\"display:none;\">\n",
              "        \n",
              "  <svg xmlns=\"http://www.w3.org/2000/svg\" height=\"24px\"viewBox=\"0 0 24 24\"\n",
              "       width=\"24px\">\n",
              "    <path d=\"M0 0h24v24H0V0z\" fill=\"none\"/>\n",
              "    <path d=\"M18.56 5.44l.94 2.06.94-2.06 2.06-.94-2.06-.94-.94-2.06-.94 2.06-2.06.94zm-11 1L8.5 8.5l.94-2.06 2.06-.94-2.06-.94L8.5 2.5l-.94 2.06-2.06.94zm10 10l.94 2.06.94-2.06 2.06-.94-2.06-.94-.94-2.06-.94 2.06-2.06.94z\"/><path d=\"M17.41 7.96l-1.37-1.37c-.4-.4-.92-.59-1.43-.59-.52 0-1.04.2-1.43.59L10.3 9.45l-7.72 7.72c-.78.78-.78 2.05 0 2.83L4 21.41c.39.39.9.59 1.41.59.51 0 1.02-.2 1.41-.59l7.78-7.78 2.81-2.81c.8-.78.8-2.07 0-2.86zM5.41 20L4 18.59l7.72-7.72 1.47 1.35L5.41 20z\"/>\n",
              "  </svg>\n",
              "      </button>\n",
              "      \n",
              "  <style>\n",
              "    .colab-df-container {\n",
              "      display:flex;\n",
              "      flex-wrap:wrap;\n",
              "      gap: 12px;\n",
              "    }\n",
              "\n",
              "    .colab-df-convert {\n",
              "      background-color: #E8F0FE;\n",
              "      border: none;\n",
              "      border-radius: 50%;\n",
              "      cursor: pointer;\n",
              "      display: none;\n",
              "      fill: #1967D2;\n",
              "      height: 32px;\n",
              "      padding: 0 0 0 0;\n",
              "      width: 32px;\n",
              "    }\n",
              "\n",
              "    .colab-df-convert:hover {\n",
              "      background-color: #E2EBFA;\n",
              "      box-shadow: 0px 1px 2px rgba(60, 64, 67, 0.3), 0px 1px 3px 1px rgba(60, 64, 67, 0.15);\n",
              "      fill: #174EA6;\n",
              "    }\n",
              "\n",
              "    [theme=dark] .colab-df-convert {\n",
              "      background-color: #3B4455;\n",
              "      fill: #D2E3FC;\n",
              "    }\n",
              "\n",
              "    [theme=dark] .colab-df-convert:hover {\n",
              "      background-color: #434B5C;\n",
              "      box-shadow: 0px 1px 3px 1px rgba(0, 0, 0, 0.15);\n",
              "      filter: drop-shadow(0px 1px 2px rgba(0, 0, 0, 0.3));\n",
              "      fill: #FFFFFF;\n",
              "    }\n",
              "  </style>\n",
              "\n",
              "      <script>\n",
              "        const buttonEl =\n",
              "          document.querySelector('#df-88734fd7-b2ea-40a5-a7e2-3b87dacd0bdd button.colab-df-convert');\n",
              "        buttonEl.style.display =\n",
              "          google.colab.kernel.accessAllowed ? 'block' : 'none';\n",
              "\n",
              "        async function convertToInteractive(key) {\n",
              "          const element = document.querySelector('#df-88734fd7-b2ea-40a5-a7e2-3b87dacd0bdd');\n",
              "          const dataTable =\n",
              "            await google.colab.kernel.invokeFunction('convertToInteractive',\n",
              "                                                     [key], {});\n",
              "          if (!dataTable) return;\n",
              "\n",
              "          const docLinkHtml = 'Like what you see? Visit the ' +\n",
              "            '<a target=\"_blank\" href=https://colab.research.google.com/notebooks/data_table.ipynb>data table notebook</a>'\n",
              "            + ' to learn more about interactive tables.';\n",
              "          element.innerHTML = '';\n",
              "          dataTable['output_type'] = 'display_data';\n",
              "          await google.colab.output.renderOutput(dataTable, element);\n",
              "          const docLink = document.createElement('div');\n",
              "          docLink.innerHTML = docLinkHtml;\n",
              "          element.appendChild(docLink);\n",
              "        }\n",
              "      </script>\n",
              "    </div>\n",
              "  </div>\n",
              "  "
            ]
          },
          "metadata": {},
          "execution_count": 140
        }
      ]
    },
    {
      "cell_type": "code",
      "source": [
        "data.nunique().sort_values(ascending=False)"
      ],
      "metadata": {
        "colab": {
          "base_uri": "https://localhost:8080/"
        },
        "id": "HCuIXqWOodOa",
        "outputId": "2cdc4dca-8fd9-4c32-96ce-a5e02d494a73"
      },
      "execution_count": null,
      "outputs": [
        {
          "output_type": "execute_result",
          "data": {
            "text/plain": [
              "Descript      879\n",
              "Category       39\n",
              "catIdx         39\n",
              "day            31\n",
              "Resolution     17\n",
              "year           13\n",
              "month          12\n",
              "PdDistrict     10\n",
              "DayOfWeek       7\n",
              "Catid           2\n",
              "dtype: int64"
            ]
          },
          "metadata": {},
          "execution_count": 141
        }
      ]
    },
    {
      "cell_type": "code",
      "source": [
        "df_nstats = pd.DataFrame({\n",
        "    'N_4hop': n_4hop[:N_labels], \n",
        "    'crime_rate_2hop': crime_rate_2hop[:N_labels], \n",
        "    'label': y_cxn[:N_labels],\n",
        "})"
      ],
      "metadata": {
        "id": "hLxE4nEvQNuE"
      },
      "execution_count": null,
      "outputs": []
    },
    {
      "cell_type": "code",
      "source": [
        "fig, ax = plt.subplots(figsize=(6,6))\n",
        "_, bins, _ = ax.hist(data_nstats[data_nstats['label']==0]['crime_rate_2hop'], bins=20, alpha=0.5, density=True, label='No crime')\n",
        "_ = ax.hist(data_nstats[data_nstats['label']==1]['crime_rate_2hop'], bins=bins, alpha=0.5, density=True, label='crime')\n",
        "ax.set(xlabel='crime rate', ylabel='density', \n",
        "       title=f'Distribution of {n_hops}-hop crime rate')\n",
        "_ = ax.legend()"
      ],
      "metadata": {
        "colab": {
          "base_uri": "https://localhost:8080/",
          "height": 404
        },
        "id": "9orFZchrPyME",
        "outputId": "dbe82d87-77bf-4a01-d07e-070b64f40e7b"
      },
      "execution_count": null,
      "outputs": [
        {
          "output_type": "display_data",
          "data": {
            "text/plain": [
              "<Figure size 432x432 with 1 Axes>"
            ],
            "image/png": "[encoded data removed]"
          },
          "metadata": {
            "needs_background": "light"
          }
        }
      ]
    },
    {
      "cell_type": "code",
      "source": [
        "plt.hist(data['Category'].dropna().values)\n",
        "plt.hist(data['PdDistrict'].dropna().values)"
      ],
      "metadata": {
        "colab": {
          "base_uri": "https://localhost:8080/",
          "height": 333
        },
        "id": "XXaPfEbDR95r",
        "outputId": "d8f8aefd-68cf-4375-db29-d9fb14f90d2d"
      },
      "execution_count": null,
      "outputs": [
        {
          "output_type": "execute_result",
          "data": {
            "text/plain": [
              "(array([157182., 119908., 105296.,  89431.,  85460.,  81809.,  78845.,\n",
              "         65596.,  49313.,  45209.]),\n",
              " array([0. , 0.9, 1.8, 2.7, 3.6, 4.5, 5.4, 6.3, 7.2, 8.1, 9. ]),\n",
              " <a list of 10 Patch objects>)"
            ]
          },
          "metadata": {},
          "execution_count": 149
        },
        {
          "output_type": "display_data",
          "data": {
            "text/plain": [
              "<Figure size 432x288 with 1 Axes>"
            ],
            "image/png": "[encoded data removed]"
          },
          "metadata": {
            "needs_background": "light"
          }
        }
      ]
    },
    {
      "cell_type": "code",
      "source": [
        "from sklearn.metrics import roc_auc_score, roc_curve, precision_recall_curve, f1_score"
      ],
      "metadata": {
        "id": "u-890MMkok4-"
      },
      "execution_count": null,
      "outputs": []
    },
    {
      "cell_type": "code",
      "source": [
        "def plot_roc(y_trues, y_preds, labels, x_max=1.0):\n",
        "    fig, ax = plt.subplots()\n",
        "    for i, y_pred in enumerate(y_preds):\n",
        "        y_true = y_trues[i]\n",
        "        fpr, tpr, thresholds = roc_curve(y_true, y_pred)\n",
        "        auc = roc_auc_score(y_true, y_pred)\n",
        "        ax.plot(fpr, tpr, label='%s; AUC=%.3f' % (labels[i], auc), marker='o', markersize=1)\n",
        "\n",
        "    ax.legend()\n",
        "    ax.grid()\n",
        "    ax.plot(np.linspace(0, 1, 20), np.linspace(0, 1, 20), linestyle='--')\n",
        "    ax.set_title('ROC curve')\n",
        "    ax.set_xlabel('False Positive Rate')\n",
        "    ax.set_xlim([-0.01, x_max])\n",
        "    _ = ax.set_ylabel('True Positive Rate')\n",
        "    \n",
        "def plot_pr(y_trues, y_preds, labels):\n",
        "    fig, ax = plt.subplots()\n",
        "    for i, y_pred in enumerate(y_preds):\n",
        "        y_true = y_trues[i]\n",
        "        auc = roc_auc_score(y_true, y_pred)\n",
        "        pr, re, thresholds = precision_recall_curve(y_true, y_pred)\n",
        "        ax.plot(re, pr, label='%s; AUC=%.3f' % (labels[i], auc), marker='o', markersize=1)\n",
        "        \n",
        "        f1_scores = 2*re*pr/(re+pr)\n",
        "        print(labels[i])\n",
        "        print('Best threshold: ', thresholds[np.argmax(f1_scores)])\n",
        "        print('Best F1-Score: ', np.max(f1_scores))\n",
        "\n",
        "    ax.legend()\n",
        "    ax.grid()\n",
        "    ax.set_title('Precision-Recall curve')\n",
        "    ax.set_xlabel('Recall')\n",
        "    _ = ax.set_ylabel('Precision')"
      ],
      "metadata": {
        "id": "tXpR640wpGyi"
      },
      "execution_count": null,
      "outputs": []
    },
    {
      "cell_type": "code",
      "source": [
        "baseline"
      ],
      "metadata": {
        "colab": {
          "base_uri": "https://localhost:8080/"
        },
        "id": "YAXuwouHpLI2",
        "outputId": "ce9c9368-8299-4f18-f732-71cef0d645ea"
      },
      "execution_count": null,
      "outputs": [
        {
          "output_type": "execute_result",
          "data": {
            "text/plain": [
              "0.4535771921612575"
            ]
          },
          "metadata": {},
          "execution_count": 152
        }
      ]
    },
    {
      "cell_type": "code",
      "source": [
        "# Indicies w/ labels (training data)\n",
        "labeled_mask = np.zeros_like(y_cxn, dtype=bool)\n",
        "labeled_mask[:N_labels] = 1\n",
        "assert y_cxn[labeled_mask].mean()==baseline"
      ],
      "metadata": {
        "id": "HOxhMP_SpfYC"
      },
      "execution_count": null,
      "outputs": []
    },
    {
      "cell_type": "code",
      "source": [
        "# Split of training data into train/validation sets\n",
        "rng = np.random.default_rng(1)\n",
        "train_rate = 0.7\n",
        "train_mask = (rng.random(y_cxn.shape[0])>(1-train_rate))&labeled_mask\n",
        "val_mask = ~train_mask&labeled_mask"
      ],
      "metadata": {
        "id": "_dEEmR3Jppmn"
      },
      "execution_count": null,
      "outputs": []
    },
    {
      "cell_type": "code",
      "source": [
        "test_mask = ~labeled_mask"
      ],
      "metadata": {
        "id": "UCQwyPLTp34a"
      },
      "execution_count": null,
      "outputs": []
    },
    {
      "cell_type": "code",
      "source": [
        "y_cxn[train_mask].mean(), y_cxn[val_mask].mean()"
      ],
      "metadata": {
        "colab": {
          "base_uri": "https://localhost:8080/"
        },
        "id": "FZwXKbq-p7YK",
        "outputId": "476fbde4-c327-4230-c1a2-8d67dd13a89d"
      },
      "execution_count": null,
      "outputs": [
        {
          "output_type": "execute_result",
          "data": {
            "text/plain": [
              "(0.45391440747327777, 0.45279066060435846)"
            ]
          },
          "metadata": {},
          "execution_count": 156
        }
      ]
    },
    {
      "cell_type": "code",
      "source": [
        "y_cxn[train_mask].sum(), y_cxn[val_mask].sum()"
      ],
      "metadata": {
        "colab": {
          "base_uri": "https://localhost:8080/"
        },
        "id": "GVE2W6K9p-Wg",
        "outputId": "5e85c18a-a005-4322-9ebf-09d495085054"
      },
      "execution_count": null,
      "outputs": [
        {
          "output_type": "execute_result",
          "data": {
            "text/plain": [
              "(278959, 119304)"
            ]
          },
          "metadata": {},
          "execution_count": 157
        }
      ]
    },
    {
      "cell_type": "code",
      "source": [
        "data.nunique().sort_values(ascending=False)"
      ],
      "metadata": {
        "colab": {
          "base_uri": "https://localhost:8080/"
        },
        "id": "zgkvpDZQsk5R",
        "outputId": "1a93b730-6556-4d00-9c47-f3e0b6ad1d20"
      },
      "execution_count": null,
      "outputs": [
        {
          "output_type": "execute_result",
          "data": {
            "text/plain": [
              "Descript      879\n",
              "Category       39\n",
              "catIdx         39\n",
              "day            31\n",
              "Resolution     17\n",
              "year           13\n",
              "month          12\n",
              "PdDistrict     10\n",
              "DayOfWeek       7\n",
              "Catid           2\n",
              "dtype: int64"
            ]
          },
          "metadata": {},
          "execution_count": 159
        }
      ]
    },
    {
      "cell_type": "code",
      "source": [
        "X_amt = ((data['Resolution']>0)*1).values\n",
        "X_value = data['Descript'].values"
      ],
      "metadata": {
        "id": "DXp8lECrsz13"
      },
      "execution_count": null,
      "outputs": []
    },
    {
      "cell_type": "code",
      "source": [
        "categorical = ['day', 'year', 'month']\n",
        "X_ohe = pd.get_dummies(data[categorical].astype(str), drop_first=True).values\n",
        "X_num = np.concatenate([X_amt.reshape((-1,1)), X_value.reshape((-1,1))], axis=1)\n",
        "X_num = (X_num - X_num.mean(axis=0))/(X_num.max(axis=0) - X_num.min(axis=0))"
      ],
      "metadata": {
        "id": "vVnhI3vctCHE"
      },
      "execution_count": null,
      "outputs": []
    },
    {
      "cell_type": "code",
      "source": [
        "X = np.concatenate([X_ohe, X_num], axis=1)"
      ],
      "metadata": {
        "id": "AKBiPgjRtFUu"
      },
      "execution_count": null,
      "outputs": []
    },
    {
      "cell_type": "code",
      "source": [
        "X.shape"
      ],
      "metadata": {
        "colab": {
          "base_uri": "https://localhost:8080/"
        },
        "id": "CKTUxrcXuqAM",
        "outputId": "a42ecbf0-4b61-4bdf-b6c7-cd42c630ee3b"
      },
      "execution_count": null,
      "outputs": [
        {
          "output_type": "execute_result",
          "data": {
            "text/plain": [
              "(878049, 55)"
            ]
          },
          "metadata": {},
          "execution_count": 163
        }
      ]
    },
    {
      "cell_type": "code",
      "source": [
        "X"
      ],
      "metadata": {
        "colab": {
          "base_uri": "https://localhost:8080/"
        },
        "id": "-xliUG-7usPP",
        "outputId": "e70539dc-87ec-48a3-93db-6d2f19c4fb0d"
      },
      "execution_count": null,
      "outputs": [
        {
          "output_type": "execute_result",
          "data": {
            "text/plain": [
              "array([[ 0.        ,  0.        ,  0.        , ...,  0.        ,\n",
              "        -0.76492998,  0.39631046],\n",
              "       [ 0.        ,  0.        ,  0.        , ...,  0.        ,\n",
              "        -0.76492998,  0.39631046],\n",
              "       [ 0.        ,  0.        ,  0.        , ...,  0.        ,\n",
              "         0.23507002,  0.39631046],\n",
              "       ...,\n",
              "       [ 0.        ,  0.        ,  0.        , ...,  0.        ,\n",
              "         0.23507002, -0.27339341],\n",
              "       [ 0.        ,  0.        ,  0.        , ...,  1.        ,\n",
              "         0.23507002, -0.30870093],\n",
              "       [ 0.        ,  0.        ,  0.        , ...,  0.        ,\n",
              "         0.23507002, -0.30870093]])"
            ]
          },
          "metadata": {},
          "execution_count": 164
        }
      ]
    },
    {
      "cell_type": "code",
      "source": [
        "from sklearn.linear_model import LogisticRegression\n",
        "from sklearn.ensemble import RandomForestClassifier"
      ],
      "metadata": {
        "id": "txdZ51TddgiW"
      },
      "execution_count": null,
      "outputs": []
    },
    {
      "cell_type": "code",
      "source": [
        "clf = LogisticRegression()\n",
        "clf.fit(X[train_mask,:], y_cxn[train_mask])\n",
        "\n",
        "y_hat_val_lr = clf.predict_proba(X[val_mask,:])\n",
        "y_val_lr = clf.predict(X[val_mask,:])"
      ],
      "metadata": {
        "id": "Bs9tmXFtdnym"
      },
      "execution_count": null,
      "outputs": []
    },
    {
      "cell_type": "code",
      "source": [
        "fig, ax = plt.subplots()\n",
        "ax.plot(clf.coef_[0,:], '-o')\n",
        "ax.set(xlabel='Coef index', ylabel='Coef value')\n",
        "_ = ax.grid()\n",
        "\n",
        "#impportance of the features"
      ],
      "metadata": {
        "colab": {
          "base_uri": "https://localhost:8080/",
          "height": 279
        },
        "id": "739EJX-gdtlt",
        "outputId": "186a38f0-8806-4c59-b9ef-46684a8a88b8"
      },
      "execution_count": null,
      "outputs": [
        {
          "output_type": "display_data",
          "data": {
            "text/plain": [
              "<Figure size 432x288 with 1 Axes>"
            ],
            "image/png": "[encoded data removed]"
          },
          "metadata": {
            "needs_background": "light"
          }
        }
      ]
    },
    {
      "cell_type": "code",
      "source": [
        "corrs = list()\n",
        "for col in range(X.shape[1]):\n",
        "    corr = np.corrcoef(X[train_mask,col], y_cxn[train_mask])[0,1]\n",
        "    corrs.append(corr)\n",
        "corrs = np.array(corrs)"
      ],
      "metadata": {
        "id": "-tv4hBrHd3hH"
      },
      "execution_count": null,
      "outputs": []
    },
    {
      "cell_type": "code",
      "source": [
        "fig, ax = plt.subplots()\n",
        "ax.scatter(x=clf.coef_[0,:], y=corrs)\n",
        "ax.set(xlabel='coef', ylabel='correlation')\n",
        "_ = ax.grid()"
      ],
      "metadata": {
        "colab": {
          "base_uri": "https://localhost:8080/",
          "height": 279
        },
        "id": "JfZ72omTeDDt",
        "outputId": "bd4a34c0-50aa-4a26-e3a3-d65c5b56bda3"
      },
      "execution_count": null,
      "outputs": [
        {
          "output_type": "display_data",
          "data": {
            "text/plain": [
              "<Figure size 432x288 with 1 Axes>"
            ],
            "image/png": "[encoded data removed]"
          },
          "metadata": {
            "needs_background": "light"
          }
        }
      ]
    },
    {
      "cell_type": "code",
      "source": [
        "np.flip(np.argsort(np.nan_to_num(corrs, nan=-2)))"
      ],
      "metadata": {
        "colab": {
          "base_uri": "https://localhost:8080/"
        },
        "id": "UWmPdNNSeNBU",
        "outputId": "22baee00-2aeb-45c3-e927-603bbad80ff0"
      },
      "execution_count": null,
      "outputs": [
        {
          "output_type": "execute_result",
          "data": {
            "text/plain": [
              "array([54, 31, 30, 32, 44, 34, 42, 33, 43,  7, 10, 23, 49, 36,  2,  4,  8,\n",
              "       48, 17, 29, 24, 18, 15, 16, 21, 47, 12, 22, 28, 52, 14, 27,  3, 11,\n",
              "       25, 19, 46, 26, 35,  0,  6,  1, 20, 50,  5, 13,  9, 51, 45, 37, 38,\n",
              "       41, 39, 40, 53])"
            ]
          },
          "metadata": {},
          "execution_count": 170
        }
      ]
    },
    {
      "cell_type": "code",
      "source": [
        "fig, ax = plt.subplots()\n",
        "_, bins, _ = ax.hist(X[y_cxn==0,48], bins=20, label='No crime', density=True, alpha=0.5)\n",
        "_ = ax.hist(X[y_cxn==1,48], bins=bins, label='crime', density=True, alpha=0.5)\n",
        "ax.legend()\n",
        "_ = ax.set(xlabel='Log(Value)', ylabel='Density', title='Histogram of Log(Value)')"
      ],
      "metadata": {
        "colab": {
          "base_uri": "https://localhost:8080/",
          "height": 295
        },
        "id": "4ZaVWXFceTWm",
        "outputId": "34962dfa-5af9-4c92-ea69-ca4ac2ec6e51"
      },
      "execution_count": null,
      "outputs": [
        {
          "output_type": "display_data",
          "data": {
            "text/plain": [
              "<Figure size 432x288 with 1 Axes>"
            ],
            "image/png": "[encoded data removed]"
          },
          "metadata": {
            "needs_background": "light"
          }
        }
      ]
    },
    {
      "cell_type": "code",
      "source": [
        "fig, ax = plt.subplots()\n",
        "_, bins, _ = ax.hist(X[y_cxn==0,48], bins=20, label='No crime', density=False, alpha=0.5)\n",
        "_ = ax.hist(X[y_cxn==1,48], bins=bins, label='crime', density=False, alpha=0.5)\n",
        "ax.legend()\n",
        "_ = ax.set(xlabel='Log(Value)', ylabel='Count', title='Histogram of Log(Value)')"
      ],
      "metadata": {
        "colab": {
          "base_uri": "https://localhost:8080/",
          "height": 295
        },
        "id": "DBl0DYJWeZ-z",
        "outputId": "f90c7a7b-3203-4d95-e777-51794b713d38"
      },
      "execution_count": null,
      "outputs": [
        {
          "output_type": "display_data",
          "data": {
            "text/plain": [
              "<Figure size 432x288 with 1 Axes>"
            ],
            "image/png": "[encoded data removed]"
          },
          "metadata": {
            "needs_background": "light"
          }
        }
      ]
    },
    {
      "cell_type": "code",
      "source": [
        "fig, ax = plt.subplots()\n",
        "_, bins, _ = ax.hist(X[y_cxn==0,10], bins=20, label='legit', density=True, alpha=0.5)\n",
        "_ = ax.hist(X[y_cxn==1,10], bins=bins, label='fraud', density=True, alpha=0.5)\n",
        "ax.legend()\n",
        "_ = ax.set(xlabel='ProductId_15', ylabel='Density', title='Histogram of ProductId_15')"
      ],
      "metadata": {
        "colab": {
          "base_uri": "https://localhost:8080/",
          "height": 296
        },
        "id": "zu1ltum2eo8q",
        "outputId": "73c74ada-fdca-45e7-b737-0b0eb2541366"
      },
      "execution_count": null,
      "outputs": [
        {
          "output_type": "display_data",
          "data": {
            "text/plain": [
              "<Figure size 432x288 with 1 Axes>"
            ],
            "image/png": "[encoded data removed]"
          },
          "metadata": {
            "needs_background": "light"
          }
        }
      ]
    },
    {
      "cell_type": "code",
      "source": [
        "rf = RandomForestClassifier(n_estimators=300)\n",
        "rf.fit(X[train_mask,:], y_cxn[train_mask])\n",
        "\n",
        "y_hat_val_rf = rf.predict_proba(X[val_mask,:])\n",
        "y_val_rf = rf.predict(X[val_mask,:])\n",
        "rf"
      ],
      "metadata": {
        "colab": {
          "base_uri": "https://localhost:8080/"
        },
        "id": "d48vt-lJgjMw",
        "outputId": "5f3e299c-cf33-43a6-cb7b-01da8443f371"
      },
      "execution_count": null,
      "outputs": [
        {
          "output_type": "execute_result",
          "data": {
            "text/plain": [
              "RandomForestClassifier(n_estimators=300)"
            ]
          },
          "metadata": {},
          "execution_count": 174
        }
      ]
    },
    {
      "cell_type": "code",
      "source": [
        "clf_balanced = LogisticRegression(class_weight='balanced', max_iter=1000)\n",
        "clf_balanced.fit(X[train_mask,:], y_cxn[train_mask])\n",
        "\n",
        "y_hat_val_lrb = clf_balanced.predict_proba(X[val_mask,:])\n",
        "y_val_lrb = clf_balanced.predict(X[val_mask,:])"
      ],
      "metadata": {
        "id": "fj0G-4nKgpET"
      },
      "execution_count": null,
      "outputs": []
    },
    {
      "cell_type": "code",
      "source": [
        "plot_roc(\n",
        "    [y_cxn[val_mask]]*3, \n",
        "    [y_hat_val_lr[:,1], y_hat_val_lrb[:,1], y_hat_val_rf[:,1]], \n",
        "    ['LR', 'LR - balanced', 'RF'],\n",
        "    x_max=0.05,\n",
        ")"
      ],
      "metadata": {
        "colab": {
          "base_uri": "https://localhost:8080/",
          "height": 295
        },
        "id": "j0vI5V3nKT5J",
        "outputId": "c19d4a5c-cec2-4de6-d157-34bd499b03a0"
      },
      "execution_count": null,
      "outputs": [
        {
          "output_type": "display_data",
          "data": {
            "text/plain": [
              "<Figure size 432x288 with 1 Axes>"
            ],
            "image/png": "[encoded data removed]"
          },
          "metadata": {
            "needs_background": "light"
          }
        }
      ]
    },
    {
      "cell_type": "code",
      "source": [
        "plot_pr(\n",
        "    [y_cxn[val_mask]]*3, \n",
        "    [y_hat_val_lr[:,1], y_hat_val_lrb[:,1], y_hat_val_rf[:,1]], \n",
        "    ['LR', 'LR - balanced', 'RF'],\n",
        ")"
      ],
      "metadata": {
        "colab": {
          "base_uri": "https://localhost:8080/",
          "height": 448
        },
        "id": "vbQCQApoKfHf",
        "outputId": "080d70d0-2336-4111-f899-a61a351a3444"
      },
      "execution_count": null,
      "outputs": [
        {
          "output_type": "stream",
          "name": "stdout",
          "text": [
            "LR\n",
            "Best threshold:  0.5921583600697699\n",
            "Best F1-Score:  nan\n",
            "LR - balanced\n",
            "Best threshold:  0.6361093846196936\n",
            "Best F1-Score:  nan\n",
            "RF\n",
            "Best threshold:  0.35\n",
            "Best F1-Score:  0.944228093430705\n"
          ]
        },
        {
          "output_type": "display_data",
          "data": {
            "text/plain": [
              "<Figure size 432x288 with 1 Axes>"
            ],
            "image/png": "[encoded data removed]"
          },
          "metadata": {
            "needs_background": "light"
          }
        }
      ]
    },
    {
      "cell_type": "code",
      "source": [
        "from dgl.nn import GraphConv, HeteroGraphConv, WeightBasis"
      ],
      "metadata": {
        "id": "Cal5kKsyKnrV"
      },
      "execution_count": null,
      "outputs": []
    },
    {
      "cell_type": "code",
      "source": [
        "def plot_losses(train_losses, val_losses, log=False):\n",
        "    \"\"\"\n",
        "    Plots train/validation loss curves vs training epoch\n",
        "    \"\"\"\n",
        "    fig, ax = plt.subplots()\n",
        "\n",
        "    ax.plot(train_losses, label='Train')\n",
        "    ax.plot(val_losses, label='Val')\n",
        "    ax.set(xlabel='Epoch', ylabel='CrossEnt')\n",
        "    if log:\n",
        "        ax.set_yscale('log')\n",
        "    ax.legend()\n",
        "    ax.grid()\n",
        "    \n",
        "@th.no_grad()\n",
        "def infer(model_cp, hg, mask, best_model_fp=None):\n",
        "    if best_model_fp:\n",
        "        print(\"loading from disk\")\n",
        "        model = deepcopy(model_cp)\n",
        "        model.load_state_dict(th.load(best_model_fp))\n",
        "    else:\n",
        "        model = model_cp\n",
        "        \n",
        "    model.to(device)\n",
        "    \n",
        "    model.eval()\n",
        "    \n",
        "    features = hg.ndata['feat']\n",
        "\n",
        "    sampler = dgl.dataloading.MultiLayerNeighborSampler([15]*len(model.convs))\n",
        "    dataloader = NodeDataLoader(\n",
        "        hg, {'cxnIdx': th.where(mask)[0]}, sampler,\n",
        "        batch_size=1024, shuffle=False, drop_last=False, num_workers=0)\n",
        "    \n",
        "    y_preds = list()\n",
        "    for input_nodes, output_nodes, blocks in dataloader:\n",
        "        h = {k: features[k][input_nodes[k]].to(device) for k in input_nodes.keys()}\n",
        "        blocks = [b.to(device) for b in blocks]\n",
        "        \n",
        "        logits = model(blocks, h)\n",
        "        y_preds.append(logits.softmax(dim=1))\n",
        "        \n",
        "    return th.cat(y_preds).cpu()\n",
        "    \n",
        "@th.no_grad()\n",
        "def test(model, hg, mask, best_path=None):\n",
        "\n",
        "    model.eval()\n",
        "    \n",
        "    features = hg.ndata['feat']\n",
        "\n",
        "    sampler = dgl.dataloading.MultiLayerNeighborSampler([15]*len(model.convs))\n",
        "    dataloader = NodeDataLoader(\n",
        "        hg, {'cxnIdx': th.where(mask)[0]}, sampler,\n",
        "        batch_size=1024, shuffle=False, drop_last=False, num_workers=0)\n",
        "\n",
        "    labels = hg.ndata['label']['CatId'].long()\n",
        "    \n",
        "\n",
        "    correct = list()\n",
        "    for input_nodes, output_nodes, blocks in dataloader:\n",
        "        h = {k: features[k][input_nodes[k]].to(device) for k in input_nodes.keys()}\n",
        "        blocks = [b.to(device) for b in blocks]\n",
        "        \n",
        "        logits = model(blocks, h)\n",
        "        y_preds = logits.argmax(1)\n",
        "        n_correct = (labels[output_nodes['cxnIdx']]==y_preds).sum().item()\n",
        "        correct.append((labels[output_nodes['cxnIdx']]==y_preds).sum().item())\n",
        "\n",
        "\n",
        "    acc = sum(correct)/(th.where(mask)[0].shape[0])\n",
        "\n",
        "    return acc\n",
        "\n",
        "def train_step(model, hg, features, train_mask, val_mask, optimizer, loss_fn, weight=False):\n",
        "    \"\"\"\n",
        "    A single training step\n",
        "    \"\"\"\n",
        "    model.train()\n",
        "    optimizer.zero_grad()\n",
        "\n",
        "    sampler = dgl.dataloading.MultiLayerNeighborSampler([15]*len(model.convs))\n",
        "    dataloader = NodeDataLoader(\n",
        "        hg, {'cxnIdx': th.where(train_mask)[0]}, sampler,\n",
        "        batch_size=1024, shuffle=True, drop_last=False, num_workers=0)\n",
        "    \n",
        "    val_loader = NodeDataLoader(\n",
        "        hg, {'cxnIdx': th.where(val_mask)[0]}, sampler,\n",
        "        batch_size=1024, shuffle=False, drop_last=False, num_workers=0)\n",
        "    \n",
        "    train_losses = list()\n",
        "    if weight:\n",
        "        weight = th.tensor([1., 1/baseline]).float().to(device)\n",
        "    else:\n",
        "        weight = None\n",
        "        \n",
        "#    labels = hg.ndata['label']['pdDistrict'].long()\n",
        "    \n",
        "    for input_nodes, output_nodes, blocks in dataloader:\n",
        "        h = {k: features[k][input_nodes[k]].to(device) for k in input_nodes.keys()}\n",
        "        blocks = [b.to(device) for b in blocks]\n",
        "        \n",
        "        logits = model(blocks, h)\n",
        "        loss = loss_fn(logits, labels[output_nodes['cxnIdx']], weight=weight)\n",
        "        loss.backward()\n",
        "        nn.utils.clip_grad_norm_(model.parameters(), 1.0)\n",
        "        optimizer.step()\n",
        "        train_losses.append(loss.item())\n",
        "    \n",
        "\n",
        "    val_losses = list()\n",
        "    with th.no_grad():\n",
        "        for input_nodes, output_nodes, blocks in val_loader:\n",
        "            h = {k: features[k][input_nodes[k]].to(device) for k in input_nodes.keys()}\n",
        "            blocks = [b.to(device) for b in blocks]\n",
        "            \n",
        "            logits = model(blocks, h)\n",
        "            val_loss = loss_fn(logits, labels[output_nodes['cxnIdx']])\n",
        "            val_losses.append(val_loss.item())\n",
        "\n",
        "    return np.array(train_losses).mean(), np.array(val_losses).mean()\n",
        "\n",
        "def train(hg, split_idx, model, epochs, evaluator, \n",
        "          device, save_path, loss_fn=F.cross_entropy, lr=0.01, \n",
        "          es_criteria=5, weight_class=False, verbose=False):\n",
        "    optimizer = optim.Adam(model.parameters(), lr=lr)\n",
        "    best_val_metric = 1e10\n",
        "    train_losses = list()\n",
        "    val_losses = list()\n",
        "\n",
        "    features = hg.ndata['feat']\n",
        "  \n",
        "    train_mask = split_idx['train'].to(device)\n",
        "    val_mask = split_idx['valid'].to(device)\n",
        "    es_iters = 0\n",
        "    \n",
        "    for e in range(1, epochs+1):\n",
        "        \n",
        "        # print(\"Training step\")\n",
        "        train_loss, val_loss = train_step(\n",
        "            model, hg, features, train_mask, val_mask, optimizer, loss_fn, weight_class,\n",
        "        )\n",
        "        train_losses.append(train_loss)\n",
        "        val_losses.append(val_loss)\n",
        "\n",
        "        # Compute accuracy on training/validation/test\n",
        "        # print(\"Train eval\")\n",
        "        train_acc = test(model, hg, train_mask)\n",
        "        # print(\"Val eval\")\n",
        "        val_acc = test(model, hg, val_mask)\n",
        "        \n",
        "        val_metric = val_loss\n",
        "        \n",
        "        if val_metric > 1e5:\n",
        "            print(f\"Early stopping for huge loss: {val_metric}\")\n",
        "            break\n",
        "\n",
        "        # Save the best validation accuracy and the corresponding test accuracy.\n",
        "        if val_metric < best_val_metric  :\n",
        "            best_val_metric = val_metric\n",
        "            th.save(model.state_dict(), save_path)\n",
        "            es_iters = 0\n",
        "        else:\n",
        "            es_iters += 1\n",
        "            \n",
        "\n",
        "        if e % 5 == 0 and verbose:\n",
        "#             for name, param in model.named_parameters():\n",
        "#                 print(name, param.grad.max(), param.grad.min())\n",
        "            \n",
        "            print('In epoch {}, loss: {:.3f}, val metric: {:.3f} (best {:.3f})'.format(\n",
        "                e, train_loss, val_metric, best_val_metric))\n",
        "            \n",
        "        if es_iters >= es_criteria:\n",
        "            print(f\"Early stopping at {e} epochs\")\n",
        "            break\n",
        "            \n",
        "    return np.array(train_losses), np.array(val_losses)"
      ],
      "metadata": {
        "id": "EYtaRAznVZHA"
      },
      "execution_count": null,
      "outputs": []
    },
    {
      "cell_type": "code",
      "source": [
        "class RelGraphConvLayer(nn.Module):\n",
        "    r\"\"\"Relational graph convolution layer.\n",
        "    Parameters\n",
        "    ----------\n",
        "    in_feat : int\n",
        "        Input feature size.\n",
        "    out_feat : int\n",
        "        Output feature size.\n",
        "    rel_names : list[str]\n",
        "        Relation names.\n",
        "    num_bases : int, optional\n",
        "        Number of bases. If is none, use number of relations. Default: None.\n",
        "    weight : bool, optional\n",
        "        True if a linear layer is applied after message passing. Default: True\n",
        "    bias : bool, optional\n",
        "        True if bias is added. Default: True\n",
        "    activation : callable, optional\n",
        "        Activation function. Default: None\n",
        "    self_loop : bool, optional\n",
        "        True to include self loop message. Default: False\n",
        "    dropout : float, optional\n",
        "        Dropout rate. Default: 0.0\n",
        "    \"\"\"\n",
        "    def __init__(self,\n",
        "                 in_feat,\n",
        "                 out_feat,\n",
        "                 rel_names,\n",
        "                 *,\n",
        "                 num_bases=None,\n",
        "                 weight=True,\n",
        "                 bias=True,\n",
        "                 activation=None,\n",
        "                 self_loop=False,\n",
        "                 bn=False,\n",
        "                 dropout=0.0):\n",
        "        super(RelGraphConvLayer, self).__init__()\n",
        "        self.in_feat = in_feat\n",
        "        self.out_feat = out_feat\n",
        "        self.rel_names = rel_names\n",
        "        self.num_bases = num_bases\n",
        "        self.bias = bias\n",
        "        self.activation = activation\n",
        "        self.self_loop = self_loop\n",
        "        self.bn = bn\n",
        "\n",
        "        self.conv = HeteroGraphConv({\n",
        "                rel : GraphConv(in_feat, out_feat, norm='right', weight=False, bias=False)\n",
        "                for rel in rel_names\n",
        "            })\n",
        "\n",
        "        self.use_weight = weight\n",
        "        self.use_basis = num_bases is not None and num_bases < len(self.rel_names) and weight\n",
        "        if self.use_weight:\n",
        "            if self.use_basis:\n",
        "                self.basis = WeightBasis((in_feat, out_feat), num_bases, len(self.rel_names))\n",
        "            else:\n",
        "                self.weight = nn.Parameter(th.Tensor(len(self.rel_names), in_feat, out_feat))\n",
        "                nn.init.xavier_uniform_(self.weight, gain=nn.init.calculate_gain('relu'))\n",
        "\n",
        "        # bias\n",
        "        if bias:\n",
        "            self.h_bias = nn.Parameter(th.Tensor(out_feat))\n",
        "            nn.init.zeros_(self.h_bias)\n",
        "\n",
        "        # weight for self loop\n",
        "        if self.self_loop:\n",
        "            self.loop_weight = nn.Parameter(th.Tensor(in_feat, out_feat))\n",
        "            nn.init.xavier_uniform_(self.loop_weight,\n",
        "                                    gain=nn.init.calculate_gain('relu'))\n",
        "            \n",
        "        if self.bn:\n",
        "            self.bn_layer = nn.BatchNorm1d(out_feat)\n",
        "\n",
        "        self.dropout = nn.Dropout(dropout)\n",
        "\n",
        "    def forward(self, g, inputs):\n",
        "        \"\"\"Forward computation\n",
        "        Parameters\n",
        "        ----------\n",
        "        g : DGLHeteroGraph\n",
        "            Input graph.\n",
        "        inputs : dict[str, torch.Tensor]\n",
        "            Node feature for each node type.\n",
        "        Returns\n",
        "        -------\n",
        "        dict[str, torch.Tensor]\n",
        "            New node features for each node type.\n",
        "        \"\"\"\n",
        "        g = g.local_var()\n",
        "        if self.use_weight:\n",
        "            weight = self.basis() if self.use_basis else self.weight\n",
        "            wdict = {self.rel_names[i] : {'weight' : w.squeeze(0)}\n",
        "                     for i, w in enumerate(th.split(weight, 1, dim=0))}\n",
        "        else:\n",
        "            wdict = {}\n",
        "\n",
        "        if g.is_block:\n",
        "            inputs_src = inputs\n",
        "            inputs_dst = {k: v[:g.number_of_dst_nodes(k)] for k, v in inputs.items()}\n",
        "        else:\n",
        "            inputs_src = inputs_dst = inputs\n",
        "\n",
        "        hs = self.conv(g, inputs, mod_kwargs=wdict)\n",
        "\n",
        "        def _apply(ntype, h):\n",
        "            if self.self_loop:\n",
        "                h = h + th.matmul(inputs_dst[ntype], self.loop_weight)\n",
        "            if self.bias:\n",
        "                h = h + self.h_bias\n",
        "            if self.bn:\n",
        "                h = self.bn_layer(h)\n",
        "            if self.activation:\n",
        "                h = self.activation(h)\n",
        "            return self.dropout(h)\n",
        "        return {ntype : _apply(ntype, h) for ntype, h in hs.items()}"
      ],
      "metadata": {
        "id": "di9EtTfbVkQn"
      },
      "execution_count": null,
      "outputs": []
    },
    {
      "cell_type": "code",
      "source": [
        "class RGCN(nn.Module):\n",
        "    def __init__(self, hg, in_feats, h_feats, num_classes, num_layers, num_bases, \n",
        "                 self_loop=True, dropout=0, bn=False):\n",
        "\n",
        "        super(RGCN, self).__init__()\n",
        "        self.dropout = dropout\n",
        "        \n",
        "        # GNN layers\n",
        "        self.convs = nn.ModuleList()\n",
        "        activation_fn = nn.ReLU()\n",
        "        self.convs.append(RelGraphConvLayer(\n",
        "            in_feats, h_feats, hg.etypes, activation=activation_fn, dropout=dropout, \n",
        "            num_bases=num_bases, self_loop=self_loop, bn=bn))\n",
        "\n",
        "        for _ in range(num_layers-1):\n",
        "            self.convs.append(RelGraphConvLayer(\n",
        "                h_feats, h_feats, hg.etypes, activation=activation_fn, dropout=dropout, \n",
        "                num_bases=num_bases, self_loop=self_loop, bn=bn\n",
        "            ))\n",
        "        \n",
        "        # Output linear layer\n",
        "        self.output_layer = nn.Linear(h_feats+in_feats, num_classes)\n",
        "\n",
        "    def forward(self, blocks, in_feat):\n",
        "        \"\"\"\n",
        "        The forward pass of the model, which applies all of the layers\n",
        "        to a given graph and set of node features\n",
        "        \n",
        "        Args:\n",
        "            g (DGLGraph): the graph used for Graph Convolutions\n",
        "            in_feat (Tensor): the node features\n",
        "        \"\"\"\n",
        "        h = in_feat\n",
        "        for i, conv in enumerate(self.convs):\n",
        "            h = conv(blocks[i], h)\n",
        "\n",
        "#        h_in = blocks[-1].dstdata['feat']['cxnIdx']\n",
        " #       h = self.output_layer(th.cat([h['cxnIdx'], h_in], dim=1))\n",
        "        return h\n",
        "\n",
        "    \n",
        "class LabelSmoothing(nn.Module):\n",
        "    \"\"\"NLL loss with label smoothing.\n",
        "    \"\"\"\n",
        "    def __init__(self, smoothing=0.0):\n",
        "        \"\"\"Constructor for the LabelSmoothing module.\n",
        "        :param smoothing: label smoothing factor\n",
        "        \"\"\"\n",
        "        super(LabelSmoothing, self).__init__()\n",
        "        self.confidence = 1.0 - smoothing\n",
        "        self.smoothing = smoothing\n",
        "\n",
        "    def forward(self, x, target, weight=None):\n",
        "        logprobs = nn.functional.log_softmax(x, dim=-1)\n",
        "        nll_loss = -logprobs.gather(dim=-1, index=target.unsqueeze(1))\n",
        "        nll_loss = nll_loss.squeeze(1)\n",
        "        smooth_loss = -logprobs.mean(dim=-1)\n",
        "        loss = self.confidence * nll_loss + self.smoothing * smooth_loss\n",
        "        return loss.mean()"
      ],
      "metadata": {
        "id": "vhdYIq_SVxpq"
      },
      "execution_count": null,
      "outputs": []
    },
    {
      "cell_type": "code",
      "source": [
        "for ntype in hg.ntypes:\n",
        "    if ntype=='cxnIdx':\n",
        "        X_tmp = th.tensor(X).float() # the natural features\n",
        "    else:\n",
        "        # random values as features\n",
        "#         X_rand = th.zeros((hg.num_nodes(ntype), X.shape[1]-1))\n",
        "        X_rand = th.rand((hg.num_nodes(ntype), X.shape[1]-1))-0.5\n",
        "\n",
        "        print(ntype, hg.num_nodes(ntype))\n",
        "        in_degrees = th.zeros(hg.num_nodes(ntype))\n",
        "        for cetype in hg.canonical_etypes:\n",
        "            if ntype==cetype[2]:\n",
        "                print(cetype)\n",
        "                in_degrees += hg.in_degrees(etype=cetype)\n",
        "        in_degrees = th.log(in_degrees).reshape((-1, 1))\n",
        "        in_degrees -= in_degrees.mean()\n",
        "\n",
        "        X_tmp = th.hstack([X_rand, in_degrees])\n",
        "    hg.nodes[ntype].data['feat'] = X_tmp"
      ],
      "metadata": {
        "colab": {
          "base_uri": "https://localhost:8080/"
        },
        "id": "0ixeIru1WN0A",
        "outputId": "2e097e9f-c84a-49ee-f261-93fbf0cddfcd"
      },
      "execution_count": null,
      "outputs": [
        {
          "output_type": "stream",
          "name": "stdout",
          "text": [
            "PdDistrict 10\n",
            "('catIdx', 'catIdx-PdDistrict', 'PdDistrict')\n",
            "catIdx 878049\n",
            "('PdDistrict', 'PdDistrict-catIdx', 'catIdx')\n"
          ]
        }
      ]
    },
    {
      "cell_type": "code",
      "source": [
        "split_mask = {\n",
        "    'train': th.tensor(train_mask),\n",
        "    'valid': th.tensor(val_mask),\n",
        "    'test': th.tensor(test_mask)\n",
        "}"
      ],
      "metadata": {
        "id": "hiT8P_oeWSWY"
      },
      "execution_count": null,
      "outputs": []
    },
    {
      "cell_type": "code",
      "source": [
        "model_kwargs = dict(\n",
        "    in_feats=X.shape[1], h_feats=256, num_classes=2, \n",
        "    num_layers=2, dropout=0.1, num_bases=None,\n",
        "    self_loop=False, bn=True,\n",
        ")\n",
        "model = RGCN(hg, **model_kwargs).to(device)\n",
        "model"
      ],
      "metadata": {
        "colab": {
          "base_uri": "https://localhost:8080/"
        },
        "id": "5L9NFLP3ZHJU",
        "outputId": "7bfbdbe3-6df8-4759-a356-02a349596cae"
      },
      "execution_count": null,
      "outputs": [
        {
          "output_type": "execute_result",
          "data": {
            "text/plain": [
              "RGCN(\n",
              "  (convs): ModuleList(\n",
              "    (0): RelGraphConvLayer(\n",
              "      (activation): ReLU()\n",
              "      (conv): HeteroGraphConv(\n",
              "        (mods): ModuleDict(\n",
              "          (PdDistrict-catIdx): GraphConv(in=55, out=256, normalization=right, activation=None)\n",
              "          (catIdx-PdDistrict): GraphConv(in=55, out=256, normalization=right, activation=None)\n",
              "        )\n",
              "      )\n",
              "      (bn_layer): BatchNorm1d(256, eps=1e-05, momentum=0.1, affine=True, track_running_stats=True)\n",
              "      (dropout): Dropout(p=0.1, inplace=False)\n",
              "    )\n",
              "    (1): RelGraphConvLayer(\n",
              "      (activation): ReLU()\n",
              "      (conv): HeteroGraphConv(\n",
              "        (mods): ModuleDict(\n",
              "          (PdDistrict-catIdx): GraphConv(in=256, out=256, normalization=right, activation=None)\n",
              "          (catIdx-PdDistrict): GraphConv(in=256, out=256, normalization=right, activation=None)\n",
              "        )\n",
              "      )\n",
              "      (bn_layer): BatchNorm1d(256, eps=1e-05, momentum=0.1, affine=True, track_running_stats=True)\n",
              "      (dropout): Dropout(p=0.1, inplace=False)\n",
              "    )\n",
              "  )\n",
              "  (output_layer): Linear(in_features=311, out_features=2, bias=True)\n",
              ")"
            ]
          },
          "metadata": {},
          "execution_count": 216
        }
      ]
    },
    {
      "cell_type": "code",
      "source": [
        "loss_fn = LabelSmoothing(smoothing=0.1)"
      ],
      "metadata": {
        "id": "MZ-dze5fZgnE"
      },
      "execution_count": null,
      "outputs": []
    }
  ]
}